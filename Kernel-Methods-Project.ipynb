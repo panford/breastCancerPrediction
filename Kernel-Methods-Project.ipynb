{
 "cells": [
  {
   "cell_type": "code",
   "execution_count": 1,
   "metadata": {
    "ExecuteTime": {
     "end_time": "2019-01-31T16:03:25.605312Z",
     "start_time": "2019-01-31T16:03:24.974814Z"
    }
   },
   "outputs": [
    {
     "ename": "ModuleNotFoundError",
     "evalue": "No module named 'lightgbm'",
     "output_type": "error",
     "traceback": [
      "\u001b[0;31m---------------------------------------------------------------------------\u001b[0m",
      "\u001b[0;31mModuleNotFoundError\u001b[0m                       Traceback (most recent call last)",
      "\u001b[0;32m<ipython-input-1-72ac1c866d9b>\u001b[0m in \u001b[0;36m<module>\u001b[0;34m\u001b[0m\n\u001b[1;32m      4\u001b[0m \u001b[0;32mimport\u001b[0m \u001b[0mmatplotlib\u001b[0m\u001b[0;34m.\u001b[0m\u001b[0mpyplot\u001b[0m \u001b[0;32mas\u001b[0m \u001b[0mplt\u001b[0m\u001b[0;34m\u001b[0m\u001b[0;34m\u001b[0m\u001b[0m\n\u001b[1;32m      5\u001b[0m \u001b[0;34m\u001b[0m\u001b[0m\n\u001b[0;32m----> 6\u001b[0;31m \u001b[0;32mfrom\u001b[0m \u001b[0mlightgbm\u001b[0m                   \u001b[0;32mimport\u001b[0m \u001b[0mLGBMClassifier\u001b[0m\u001b[0;34m\u001b[0m\u001b[0;34m\u001b[0m\u001b[0m\n\u001b[0m\u001b[1;32m      7\u001b[0m \u001b[0;32mfrom\u001b[0m \u001b[0mxgboost\u001b[0m                    \u001b[0;32mimport\u001b[0m \u001b[0mXGBClassifier\u001b[0m\u001b[0;34m\u001b[0m\u001b[0;34m\u001b[0m\u001b[0m\n\u001b[1;32m      8\u001b[0m \u001b[0;32mfrom\u001b[0m \u001b[0msklearn\u001b[0m\u001b[0;34m.\u001b[0m\u001b[0mmetrics\u001b[0m            \u001b[0;32mimport\u001b[0m \u001b[0mconfusion_matrix\u001b[0m\u001b[0;34m\u001b[0m\u001b[0;34m\u001b[0m\u001b[0m\n",
      "\u001b[0;31mModuleNotFoundError\u001b[0m: No module named 'lightgbm'"
     ]
    }
   ],
   "source": [
    "import numpy as np\n",
    "import pandas as pd\n",
    "import sklearn\n",
    "import matplotlib.pyplot as plt\n",
    "\n",
    "from lightgbm                   import LGBMClassifier\n",
    "from xgboost                    import XGBClassifier\n",
    "from sklearn.metrics            import confusion_matrix\n",
    "from sklearn.linear_model       import Lasso\n",
    "from sklearn.neighbors          import KNeighborsClassifier\n",
    "from sklearn.tree               import DecisionTreeClassifier\n",
    "from sklearn.model_selection    import train_test_split, cross_val_score, LeaveOneOut\n",
    "from sklearn.metrics            import classification_report\n",
    "from sklearn.ensemble           import RandomForestClassifier, VotingClassifier\n",
    "from sklearn.linear_model       import LogisticRegression\n",
    "from sklearn.naive_bayes        import GaussianNB\n",
    "from sklearn.preprocessing      import StandardScaler, MinMaxScaler\n",
    "\n",
    "\n",
    "pd.set_option('max_columns', 30)\n",
    "pd.set_option('max_rows', 100)\n",
    "%matplotlib inline"
   ]
  },
  {
   "cell_type": "code",
   "execution_count": null,
   "metadata": {
    "ExecuteTime": {
     "end_time": "2019-01-31T16:03:25.753843Z",
     "start_time": "2019-01-31T16:03:25.607434Z"
    }
   },
   "outputs": [],
   "source": [
    "train_data = pd.read_csv('xtrain.txt', delimiter=\"\\t\", header=None)\n",
    "labels = pd.read_csv('ytrain.txt', sep=\" \", header=None)\n",
    "test = pd.read_csv('xtest.txt', delimiter=\"\\t\", header=None)"
   ]
  },
  {
   "cell_type": "code",
   "execution_count": 3,
   "metadata": {
    "ExecuteTime": {
     "end_time": "2019-01-31T16:03:25.787328Z",
     "start_time": "2019-01-31T16:03:25.755538Z"
    }
   },
   "outputs": [
    {
     "name": "stdout",
     "output_type": "stream",
     "text": [
      "(4654, 185)\n",
      "(4654, 93)\n"
     ]
    },
    {
     "data": {
      "text/html": [
       "<div>\n",
       "<style scoped>\n",
       "    .dataframe tbody tr th:only-of-type {\n",
       "        vertical-align: middle;\n",
       "    }\n",
       "\n",
       "    .dataframe tbody tr th {\n",
       "        vertical-align: top;\n",
       "    }\n",
       "\n",
       "    .dataframe thead th {\n",
       "        text-align: right;\n",
       "    }\n",
       "</style>\n",
       "<table border=\"1\" class=\"dataframe\">\n",
       "  <thead>\n",
       "    <tr style=\"text-align: right;\">\n",
       "      <th></th>\n",
       "      <th>0</th>\n",
       "      <th>1</th>\n",
       "      <th>2</th>\n",
       "      <th>3</th>\n",
       "      <th>4</th>\n",
       "      <th>5</th>\n",
       "      <th>6</th>\n",
       "      <th>7</th>\n",
       "      <th>8</th>\n",
       "      <th>9</th>\n",
       "      <th>10</th>\n",
       "      <th>11</th>\n",
       "      <th>12</th>\n",
       "      <th>13</th>\n",
       "      <th>14</th>\n",
       "      <th>...</th>\n",
       "      <th>170</th>\n",
       "      <th>171</th>\n",
       "      <th>172</th>\n",
       "      <th>173</th>\n",
       "      <th>174</th>\n",
       "      <th>175</th>\n",
       "      <th>176</th>\n",
       "      <th>177</th>\n",
       "      <th>178</th>\n",
       "      <th>179</th>\n",
       "      <th>180</th>\n",
       "      <th>181</th>\n",
       "      <th>182</th>\n",
       "      <th>183</th>\n",
       "      <th>184</th>\n",
       "    </tr>\n",
       "  </thead>\n",
       "  <tbody>\n",
       "    <tr>\n",
       "      <th>0</th>\n",
       "      <td>x10006_at</td>\n",
       "      <td>8.44</td>\n",
       "      <td>7.93</td>\n",
       "      <td>7.53</td>\n",
       "      <td>7.72</td>\n",
       "      <td>7.89</td>\n",
       "      <td>8.37</td>\n",
       "      <td>8.18</td>\n",
       "      <td>8.40</td>\n",
       "      <td>8.07</td>\n",
       "      <td>8.16</td>\n",
       "      <td>8.09</td>\n",
       "      <td>8.26</td>\n",
       "      <td>8.13</td>\n",
       "      <td>8.67</td>\n",
       "      <td>...</td>\n",
       "      <td>8.05</td>\n",
       "      <td>8.16</td>\n",
       "      <td>8.05</td>\n",
       "      <td>7.76</td>\n",
       "      <td>8.02</td>\n",
       "      <td>7.52</td>\n",
       "      <td>7.79</td>\n",
       "      <td>7.99</td>\n",
       "      <td>8.40</td>\n",
       "      <td>9.88</td>\n",
       "      <td>7.59</td>\n",
       "      <td>8.67</td>\n",
       "      <td>8.36</td>\n",
       "      <td>8.28</td>\n",
       "      <td>8.71</td>\n",
       "    </tr>\n",
       "    <tr>\n",
       "      <th>1</th>\n",
       "      <td>x10007_at</td>\n",
       "      <td>7.84</td>\n",
       "      <td>8.47</td>\n",
       "      <td>7.49</td>\n",
       "      <td>8.38</td>\n",
       "      <td>7.75</td>\n",
       "      <td>8.43</td>\n",
       "      <td>8.10</td>\n",
       "      <td>7.70</td>\n",
       "      <td>7.89</td>\n",
       "      <td>8.31</td>\n",
       "      <td>8.07</td>\n",
       "      <td>8.56</td>\n",
       "      <td>8.29</td>\n",
       "      <td>8.01</td>\n",
       "      <td>...</td>\n",
       "      <td>8.05</td>\n",
       "      <td>8.47</td>\n",
       "      <td>7.92</td>\n",
       "      <td>7.93</td>\n",
       "      <td>8.50</td>\n",
       "      <td>8.08</td>\n",
       "      <td>8.16</td>\n",
       "      <td>7.87</td>\n",
       "      <td>8.03</td>\n",
       "      <td>8.09</td>\n",
       "      <td>8.92</td>\n",
       "      <td>8.02</td>\n",
       "      <td>7.39</td>\n",
       "      <td>8.78</td>\n",
       "      <td>8.26</td>\n",
       "    </tr>\n",
       "    <tr>\n",
       "      <th>2</th>\n",
       "      <td>x100129361_at</td>\n",
       "      <td>9.23</td>\n",
       "      <td>7.77</td>\n",
       "      <td>9.49</td>\n",
       "      <td>8.03</td>\n",
       "      <td>6.99</td>\n",
       "      <td>8.32</td>\n",
       "      <td>8.94</td>\n",
       "      <td>8.19</td>\n",
       "      <td>7.85</td>\n",
       "      <td>8.31</td>\n",
       "      <td>8.19</td>\n",
       "      <td>8.61</td>\n",
       "      <td>7.74</td>\n",
       "      <td>7.90</td>\n",
       "      <td>...</td>\n",
       "      <td>9.09</td>\n",
       "      <td>6.71</td>\n",
       "      <td>8.02</td>\n",
       "      <td>10.91</td>\n",
       "      <td>7.97</td>\n",
       "      <td>7.05</td>\n",
       "      <td>9.13</td>\n",
       "      <td>7.94</td>\n",
       "      <td>7.89</td>\n",
       "      <td>7.55</td>\n",
       "      <td>8.91</td>\n",
       "      <td>7.66</td>\n",
       "      <td>7.91</td>\n",
       "      <td>9.77</td>\n",
       "      <td>8.16</td>\n",
       "    </tr>\n",
       "    <tr>\n",
       "      <th>3</th>\n",
       "      <td>x100130449_at</td>\n",
       "      <td>2.20</td>\n",
       "      <td>2.48</td>\n",
       "      <td>5.66</td>\n",
       "      <td>5.22</td>\n",
       "      <td>2.20</td>\n",
       "      <td>2.20</td>\n",
       "      <td>2.20</td>\n",
       "      <td>2.34</td>\n",
       "      <td>2.20</td>\n",
       "      <td>5.39</td>\n",
       "      <td>2.63</td>\n",
       "      <td>2.20</td>\n",
       "      <td>2.20</td>\n",
       "      <td>2.19</td>\n",
       "      <td>...</td>\n",
       "      <td>2.20</td>\n",
       "      <td>2.20</td>\n",
       "      <td>3.60</td>\n",
       "      <td>2.20</td>\n",
       "      <td>2.78</td>\n",
       "      <td>2.19</td>\n",
       "      <td>3.01</td>\n",
       "      <td>2.20</td>\n",
       "      <td>2.42</td>\n",
       "      <td>2.20</td>\n",
       "      <td>2.21</td>\n",
       "      <td>2.19</td>\n",
       "      <td>2.20</td>\n",
       "      <td>3.36</td>\n",
       "      <td>2.20</td>\n",
       "    </tr>\n",
       "    <tr>\n",
       "      <th>4</th>\n",
       "      <td>x100130633_at</td>\n",
       "      <td>4.93</td>\n",
       "      <td>6.70</td>\n",
       "      <td>5.99</td>\n",
       "      <td>6.95</td>\n",
       "      <td>7.06</td>\n",
       "      <td>7.02</td>\n",
       "      <td>8.20</td>\n",
       "      <td>6.08</td>\n",
       "      <td>6.97</td>\n",
       "      <td>5.77</td>\n",
       "      <td>7.03</td>\n",
       "      <td>6.96</td>\n",
       "      <td>6.97</td>\n",
       "      <td>6.55</td>\n",
       "      <td>...</td>\n",
       "      <td>7.50</td>\n",
       "      <td>7.47</td>\n",
       "      <td>7.29</td>\n",
       "      <td>6.97</td>\n",
       "      <td>7.77</td>\n",
       "      <td>8.24</td>\n",
       "      <td>6.76</td>\n",
       "      <td>7.48</td>\n",
       "      <td>7.61</td>\n",
       "      <td>7.38</td>\n",
       "      <td>7.20</td>\n",
       "      <td>7.41</td>\n",
       "      <td>6.48</td>\n",
       "      <td>5.79</td>\n",
       "      <td>7.07</td>\n",
       "    </tr>\n",
       "    <tr>\n",
       "      <th>5</th>\n",
       "      <td>x100133941_at</td>\n",
       "      <td>10.31</td>\n",
       "      <td>11.03</td>\n",
       "      <td>8.87</td>\n",
       "      <td>2.73</td>\n",
       "      <td>11.38</td>\n",
       "      <td>10.70</td>\n",
       "      <td>10.00</td>\n",
       "      <td>11.32</td>\n",
       "      <td>9.29</td>\n",
       "      <td>11.03</td>\n",
       "      <td>9.28</td>\n",
       "      <td>8.52</td>\n",
       "      <td>7.35</td>\n",
       "      <td>11.81</td>\n",
       "      <td>...</td>\n",
       "      <td>11.43</td>\n",
       "      <td>4.29</td>\n",
       "      <td>9.48</td>\n",
       "      <td>10.23</td>\n",
       "      <td>10.12</td>\n",
       "      <td>10.07</td>\n",
       "      <td>10.25</td>\n",
       "      <td>9.81</td>\n",
       "      <td>9.30</td>\n",
       "      <td>11.27</td>\n",
       "      <td>8.61</td>\n",
       "      <td>10.49</td>\n",
       "      <td>12.91</td>\n",
       "      <td>13.39</td>\n",
       "      <td>11.03</td>\n",
       "    </tr>\n",
       "    <tr>\n",
       "      <th>6</th>\n",
       "      <td>x10014_at</td>\n",
       "      <td>7.85</td>\n",
       "      <td>3.33</td>\n",
       "      <td>3.48</td>\n",
       "      <td>4.06</td>\n",
       "      <td>3.65</td>\n",
       "      <td>3.17</td>\n",
       "      <td>3.21</td>\n",
       "      <td>4.09</td>\n",
       "      <td>3.44</td>\n",
       "      <td>3.17</td>\n",
       "      <td>3.29</td>\n",
       "      <td>3.78</td>\n",
       "      <td>3.75</td>\n",
       "      <td>3.48</td>\n",
       "      <td>...</td>\n",
       "      <td>3.43</td>\n",
       "      <td>4.04</td>\n",
       "      <td>3.62</td>\n",
       "      <td>3.33</td>\n",
       "      <td>5.05</td>\n",
       "      <td>4.05</td>\n",
       "      <td>4.49</td>\n",
       "      <td>4.19</td>\n",
       "      <td>3.55</td>\n",
       "      <td>4.85</td>\n",
       "      <td>4.28</td>\n",
       "      <td>3.74</td>\n",
       "      <td>3.88</td>\n",
       "      <td>4.82</td>\n",
       "      <td>3.85</td>\n",
       "    </tr>\n",
       "    <tr>\n",
       "      <th>7</th>\n",
       "      <td>x10016_at</td>\n",
       "      <td>9.91</td>\n",
       "      <td>9.53</td>\n",
       "      <td>8.02</td>\n",
       "      <td>9.26</td>\n",
       "      <td>9.22</td>\n",
       "      <td>7.73</td>\n",
       "      <td>9.44</td>\n",
       "      <td>10.54</td>\n",
       "      <td>9.18</td>\n",
       "      <td>9.26</td>\n",
       "      <td>9.56</td>\n",
       "      <td>10.38</td>\n",
       "      <td>9.96</td>\n",
       "      <td>8.66</td>\n",
       "      <td>...</td>\n",
       "      <td>8.30</td>\n",
       "      <td>8.91</td>\n",
       "      <td>8.92</td>\n",
       "      <td>8.50</td>\n",
       "      <td>9.10</td>\n",
       "      <td>9.22</td>\n",
       "      <td>8.42</td>\n",
       "      <td>7.97</td>\n",
       "      <td>8.65</td>\n",
       "      <td>9.58</td>\n",
       "      <td>8.89</td>\n",
       "      <td>9.29</td>\n",
       "      <td>7.11</td>\n",
       "      <td>9.12</td>\n",
       "      <td>9.56</td>\n",
       "    </tr>\n",
       "    <tr>\n",
       "      <th>8</th>\n",
       "      <td>x100188893_at</td>\n",
       "      <td>11.37</td>\n",
       "      <td>10.91</td>\n",
       "      <td>10.73</td>\n",
       "      <td>10.90</td>\n",
       "      <td>10.37</td>\n",
       "      <td>11.18</td>\n",
       "      <td>11.08</td>\n",
       "      <td>10.93</td>\n",
       "      <td>10.73</td>\n",
       "      <td>11.48</td>\n",
       "      <td>11.15</td>\n",
       "      <td>11.31</td>\n",
       "      <td>10.95</td>\n",
       "      <td>11.25</td>\n",
       "      <td>...</td>\n",
       "      <td>11.34</td>\n",
       "      <td>10.77</td>\n",
       "      <td>10.60</td>\n",
       "      <td>11.03</td>\n",
       "      <td>10.74</td>\n",
       "      <td>10.50</td>\n",
       "      <td>10.78</td>\n",
       "      <td>10.69</td>\n",
       "      <td>10.61</td>\n",
       "      <td>12.84</td>\n",
       "      <td>11.21</td>\n",
       "      <td>10.04</td>\n",
       "      <td>10.82</td>\n",
       "      <td>10.92</td>\n",
       "      <td>10.60</td>\n",
       "    </tr>\n",
       "    <tr>\n",
       "      <th>9</th>\n",
       "      <td>x10019_at</td>\n",
       "      <td>3.48</td>\n",
       "      <td>4.28</td>\n",
       "      <td>4.07</td>\n",
       "      <td>7.40</td>\n",
       "      <td>3.89</td>\n",
       "      <td>4.41</td>\n",
       "      <td>6.89</td>\n",
       "      <td>4.01</td>\n",
       "      <td>4.60</td>\n",
       "      <td>4.28</td>\n",
       "      <td>4.60</td>\n",
       "      <td>5.34</td>\n",
       "      <td>4.28</td>\n",
       "      <td>4.98</td>\n",
       "      <td>...</td>\n",
       "      <td>5.35</td>\n",
       "      <td>4.56</td>\n",
       "      <td>6.29</td>\n",
       "      <td>4.76</td>\n",
       "      <td>3.61</td>\n",
       "      <td>5.25</td>\n",
       "      <td>4.42</td>\n",
       "      <td>6.74</td>\n",
       "      <td>5.20</td>\n",
       "      <td>3.23</td>\n",
       "      <td>4.84</td>\n",
       "      <td>5.17</td>\n",
       "      <td>4.33</td>\n",
       "      <td>2.51</td>\n",
       "      <td>4.29</td>\n",
       "    </tr>\n",
       "  </tbody>\n",
       "</table>\n",
       "<p>10 rows × 185 columns</p>\n",
       "</div>"
      ],
      "text/plain": [
       "             0      1      2      3      4      5      6      7      8    \\\n",
       "0      x10006_at   8.44   7.93   7.53   7.72   7.89   8.37   8.18   8.40   \n",
       "1      x10007_at   7.84   8.47   7.49   8.38   7.75   8.43   8.10   7.70   \n",
       "2  x100129361_at   9.23   7.77   9.49   8.03   6.99   8.32   8.94   8.19   \n",
       "3  x100130449_at   2.20   2.48   5.66   5.22   2.20   2.20   2.20   2.34   \n",
       "4  x100130633_at   4.93   6.70   5.99   6.95   7.06   7.02   8.20   6.08   \n",
       "5  x100133941_at  10.31  11.03   8.87   2.73  11.38  10.70  10.00  11.32   \n",
       "6      x10014_at   7.85   3.33   3.48   4.06   3.65   3.17   3.21   4.09   \n",
       "7      x10016_at   9.91   9.53   8.02   9.26   9.22   7.73   9.44  10.54   \n",
       "8  x100188893_at  11.37  10.91  10.73  10.90  10.37  11.18  11.08  10.93   \n",
       "9      x10019_at   3.48   4.28   4.07   7.40   3.89   4.41   6.89   4.01   \n",
       "\n",
       "     9      10     11     12     13     14   ...      170    171    172  \\\n",
       "0   8.07   8.16   8.09   8.26   8.13   8.67  ...     8.05   8.16   8.05   \n",
       "1   7.89   8.31   8.07   8.56   8.29   8.01  ...     8.05   8.47   7.92   \n",
       "2   7.85   8.31   8.19   8.61   7.74   7.90  ...     9.09   6.71   8.02   \n",
       "3   2.20   5.39   2.63   2.20   2.20   2.19  ...     2.20   2.20   3.60   \n",
       "4   6.97   5.77   7.03   6.96   6.97   6.55  ...     7.50   7.47   7.29   \n",
       "5   9.29  11.03   9.28   8.52   7.35  11.81  ...    11.43   4.29   9.48   \n",
       "6   3.44   3.17   3.29   3.78   3.75   3.48  ...     3.43   4.04   3.62   \n",
       "7   9.18   9.26   9.56  10.38   9.96   8.66  ...     8.30   8.91   8.92   \n",
       "8  10.73  11.48  11.15  11.31  10.95  11.25  ...    11.34  10.77  10.60   \n",
       "9   4.60   4.28   4.60   5.34   4.28   4.98  ...     5.35   4.56   6.29   \n",
       "\n",
       "     173    174    175    176    177    178    179    180    181    182  \\\n",
       "0   7.76   8.02   7.52   7.79   7.99   8.40   9.88   7.59   8.67   8.36   \n",
       "1   7.93   8.50   8.08   8.16   7.87   8.03   8.09   8.92   8.02   7.39   \n",
       "2  10.91   7.97   7.05   9.13   7.94   7.89   7.55   8.91   7.66   7.91   \n",
       "3   2.20   2.78   2.19   3.01   2.20   2.42   2.20   2.21   2.19   2.20   \n",
       "4   6.97   7.77   8.24   6.76   7.48   7.61   7.38   7.20   7.41   6.48   \n",
       "5  10.23  10.12  10.07  10.25   9.81   9.30  11.27   8.61  10.49  12.91   \n",
       "6   3.33   5.05   4.05   4.49   4.19   3.55   4.85   4.28   3.74   3.88   \n",
       "7   8.50   9.10   9.22   8.42   7.97   8.65   9.58   8.89   9.29   7.11   \n",
       "8  11.03  10.74  10.50  10.78  10.69  10.61  12.84  11.21  10.04  10.82   \n",
       "9   4.76   3.61   5.25   4.42   6.74   5.20   3.23   4.84   5.17   4.33   \n",
       "\n",
       "     183    184  \n",
       "0   8.28   8.71  \n",
       "1   8.78   8.26  \n",
       "2   9.77   8.16  \n",
       "3   3.36   2.20  \n",
       "4   5.79   7.07  \n",
       "5  13.39  11.03  \n",
       "6   4.82   3.85  \n",
       "7   9.12   9.56  \n",
       "8  10.92  10.60  \n",
       "9   2.51   4.29  \n",
       "\n",
       "[10 rows x 185 columns]"
      ]
     },
     "execution_count": 3,
     "metadata": {},
     "output_type": "execute_result"
    }
   ],
   "source": [
    "print(train_data.shape)\n",
    "print(test.shape)\n",
    "train_data.head(10)"
   ]
  },
  {
   "cell_type": "code",
   "execution_count": 4,
   "metadata": {
    "ExecuteTime": {
     "end_time": "2019-01-31T16:03:25.850553Z",
     "start_time": "2019-01-31T16:03:25.789977Z"
    }
   },
   "outputs": [
    {
     "name": "stdout",
     "output_type": "stream",
     "text": [
      "(184, 4654)\n"
     ]
    },
    {
     "data": {
      "text/html": [
       "<div>\n",
       "<style scoped>\n",
       "    .dataframe tbody tr th:only-of-type {\n",
       "        vertical-align: middle;\n",
       "    }\n",
       "\n",
       "    .dataframe tbody tr th {\n",
       "        vertical-align: top;\n",
       "    }\n",
       "\n",
       "    .dataframe thead th {\n",
       "        text-align: right;\n",
       "    }\n",
       "</style>\n",
       "<table border=\"1\" class=\"dataframe\">\n",
       "  <thead>\n",
       "    <tr style=\"text-align: right;\">\n",
       "      <th></th>\n",
       "      <th>x10006_at</th>\n",
       "      <th>x10007_at</th>\n",
       "      <th>x100129361_at</th>\n",
       "      <th>x100130449_at</th>\n",
       "      <th>x100130633_at</th>\n",
       "      <th>x100133941_at</th>\n",
       "      <th>x10014_at</th>\n",
       "      <th>x10016_at</th>\n",
       "      <th>x100188893_at</th>\n",
       "      <th>x10019_at</th>\n",
       "      <th>x1001_at</th>\n",
       "      <th>x10020_at</th>\n",
       "      <th>x10026_at</th>\n",
       "      <th>x100272147_at</th>\n",
       "      <th>x100287025_at</th>\n",
       "      <th>...</th>\n",
       "      <th>x9961_at</th>\n",
       "      <th>x9968_at</th>\n",
       "      <th>x9969_at</th>\n",
       "      <th>x9972_at</th>\n",
       "      <th>x9973_at</th>\n",
       "      <th>x9976_at</th>\n",
       "      <th>x9978_at</th>\n",
       "      <th>x997_at</th>\n",
       "      <th>x9984_at</th>\n",
       "      <th>x9987_at</th>\n",
       "      <th>x9988_at</th>\n",
       "      <th>x9989_at</th>\n",
       "      <th>x9994_at</th>\n",
       "      <th>x9997_at</th>\n",
       "      <th>x9_at</th>\n",
       "    </tr>\n",
       "  </thead>\n",
       "  <tbody>\n",
       "    <tr>\n",
       "      <th>1</th>\n",
       "      <td>8.44</td>\n",
       "      <td>7.84</td>\n",
       "      <td>9.23</td>\n",
       "      <td>2.2</td>\n",
       "      <td>4.93</td>\n",
       "      <td>10.31</td>\n",
       "      <td>7.85</td>\n",
       "      <td>9.91</td>\n",
       "      <td>11.37</td>\n",
       "      <td>3.48</td>\n",
       "      <td>4.89</td>\n",
       "      <td>5.61</td>\n",
       "      <td>5.61</td>\n",
       "      <td>8.64</td>\n",
       "      <td>6.15</td>\n",
       "      <td>...</td>\n",
       "      <td>6.6</td>\n",
       "      <td>5.58</td>\n",
       "      <td>8.72</td>\n",
       "      <td>7.63</td>\n",
       "      <td>5.87</td>\n",
       "      <td>7.71</td>\n",
       "      <td>11.32</td>\n",
       "      <td>6.37</td>\n",
       "      <td>8.63</td>\n",
       "      <td>8.61</td>\n",
       "      <td>7.42</td>\n",
       "      <td>8.79</td>\n",
       "      <td>4.7</td>\n",
       "      <td>7.23</td>\n",
       "      <td>8.28</td>\n",
       "    </tr>\n",
       "    <tr>\n",
       "      <th>2</th>\n",
       "      <td>7.93</td>\n",
       "      <td>8.47</td>\n",
       "      <td>7.77</td>\n",
       "      <td>2.48</td>\n",
       "      <td>6.7</td>\n",
       "      <td>11.03</td>\n",
       "      <td>3.33</td>\n",
       "      <td>9.53</td>\n",
       "      <td>10.91</td>\n",
       "      <td>4.28</td>\n",
       "      <td>5.81</td>\n",
       "      <td>4.97</td>\n",
       "      <td>6.03</td>\n",
       "      <td>7.91</td>\n",
       "      <td>5.13</td>\n",
       "      <td>...</td>\n",
       "      <td>9.22</td>\n",
       "      <td>6.85</td>\n",
       "      <td>8.28</td>\n",
       "      <td>7.68</td>\n",
       "      <td>7.05</td>\n",
       "      <td>9.98</td>\n",
       "      <td>10.4</td>\n",
       "      <td>5.96</td>\n",
       "      <td>7.61</td>\n",
       "      <td>9.51</td>\n",
       "      <td>8.2</td>\n",
       "      <td>9.27</td>\n",
       "      <td>4.7</td>\n",
       "      <td>6.7</td>\n",
       "      <td>12.78</td>\n",
       "    </tr>\n",
       "    <tr>\n",
       "      <th>3</th>\n",
       "      <td>7.53</td>\n",
       "      <td>7.49</td>\n",
       "      <td>9.49</td>\n",
       "      <td>5.66</td>\n",
       "      <td>5.99</td>\n",
       "      <td>8.87</td>\n",
       "      <td>3.48</td>\n",
       "      <td>8.02</td>\n",
       "      <td>10.73</td>\n",
       "      <td>4.07</td>\n",
       "      <td>5.21</td>\n",
       "      <td>6.41</td>\n",
       "      <td>4.24</td>\n",
       "      <td>8.87</td>\n",
       "      <td>5.84</td>\n",
       "      <td>...</td>\n",
       "      <td>8.42</td>\n",
       "      <td>7.24</td>\n",
       "      <td>8.57</td>\n",
       "      <td>6.81</td>\n",
       "      <td>7.73</td>\n",
       "      <td>8.34</td>\n",
       "      <td>10.57</td>\n",
       "      <td>6.92</td>\n",
       "      <td>8.2</td>\n",
       "      <td>8.71</td>\n",
       "      <td>8.56</td>\n",
       "      <td>8.9</td>\n",
       "      <td>4.7</td>\n",
       "      <td>7.7</td>\n",
       "      <td>12.22</td>\n",
       "    </tr>\n",
       "    <tr>\n",
       "      <th>4</th>\n",
       "      <td>7.72</td>\n",
       "      <td>8.38</td>\n",
       "      <td>8.03</td>\n",
       "      <td>5.22</td>\n",
       "      <td>6.95</td>\n",
       "      <td>2.73</td>\n",
       "      <td>4.06</td>\n",
       "      <td>9.26</td>\n",
       "      <td>10.9</td>\n",
       "      <td>7.4</td>\n",
       "      <td>3.27</td>\n",
       "      <td>6.88</td>\n",
       "      <td>5.75</td>\n",
       "      <td>8.61</td>\n",
       "      <td>5.2</td>\n",
       "      <td>...</td>\n",
       "      <td>8.61</td>\n",
       "      <td>7</td>\n",
       "      <td>8.89</td>\n",
       "      <td>7.97</td>\n",
       "      <td>7.15</td>\n",
       "      <td>9.05</td>\n",
       "      <td>10.92</td>\n",
       "      <td>5.73</td>\n",
       "      <td>8.44</td>\n",
       "      <td>9.18</td>\n",
       "      <td>7.86</td>\n",
       "      <td>9.3</td>\n",
       "      <td>5.58</td>\n",
       "      <td>7.95</td>\n",
       "      <td>12.18</td>\n",
       "    </tr>\n",
       "    <tr>\n",
       "      <th>5</th>\n",
       "      <td>7.89</td>\n",
       "      <td>7.75</td>\n",
       "      <td>6.99</td>\n",
       "      <td>2.2</td>\n",
       "      <td>7.06</td>\n",
       "      <td>11.38</td>\n",
       "      <td>3.65</td>\n",
       "      <td>9.22</td>\n",
       "      <td>10.37</td>\n",
       "      <td>3.89</td>\n",
       "      <td>7.18</td>\n",
       "      <td>4.62</td>\n",
       "      <td>6.9</td>\n",
       "      <td>8.07</td>\n",
       "      <td>5.52</td>\n",
       "      <td>...</td>\n",
       "      <td>8.2</td>\n",
       "      <td>6.71</td>\n",
       "      <td>8.26</td>\n",
       "      <td>7.64</td>\n",
       "      <td>8.55</td>\n",
       "      <td>9.16</td>\n",
       "      <td>10.73</td>\n",
       "      <td>7.45</td>\n",
       "      <td>7.79</td>\n",
       "      <td>9.15</td>\n",
       "      <td>7.97</td>\n",
       "      <td>8.5</td>\n",
       "      <td>4.7</td>\n",
       "      <td>6.63</td>\n",
       "      <td>12.12</td>\n",
       "    </tr>\n",
       "    <tr>\n",
       "      <th>6</th>\n",
       "      <td>8.37</td>\n",
       "      <td>8.43</td>\n",
       "      <td>8.32</td>\n",
       "      <td>2.2</td>\n",
       "      <td>7.02</td>\n",
       "      <td>10.7</td>\n",
       "      <td>3.17</td>\n",
       "      <td>7.73</td>\n",
       "      <td>11.18</td>\n",
       "      <td>4.41</td>\n",
       "      <td>8.4</td>\n",
       "      <td>7.58</td>\n",
       "      <td>5.61</td>\n",
       "      <td>7.96</td>\n",
       "      <td>5.85</td>\n",
       "      <td>...</td>\n",
       "      <td>8.1</td>\n",
       "      <td>5.88</td>\n",
       "      <td>9.66</td>\n",
       "      <td>9.53</td>\n",
       "      <td>6.2</td>\n",
       "      <td>9.52</td>\n",
       "      <td>11.08</td>\n",
       "      <td>5.52</td>\n",
       "      <td>8.08</td>\n",
       "      <td>9.41</td>\n",
       "      <td>8.37</td>\n",
       "      <td>9.19</td>\n",
       "      <td>6.19</td>\n",
       "      <td>8.48</td>\n",
       "      <td>4.42</td>\n",
       "    </tr>\n",
       "    <tr>\n",
       "      <th>7</th>\n",
       "      <td>8.18</td>\n",
       "      <td>8.1</td>\n",
       "      <td>8.94</td>\n",
       "      <td>2.2</td>\n",
       "      <td>8.2</td>\n",
       "      <td>10</td>\n",
       "      <td>3.21</td>\n",
       "      <td>9.44</td>\n",
       "      <td>11.08</td>\n",
       "      <td>6.89</td>\n",
       "      <td>5.22</td>\n",
       "      <td>6.28</td>\n",
       "      <td>6.38</td>\n",
       "      <td>8.23</td>\n",
       "      <td>4.46</td>\n",
       "      <td>...</td>\n",
       "      <td>8.1</td>\n",
       "      <td>6.97</td>\n",
       "      <td>8.83</td>\n",
       "      <td>8.59</td>\n",
       "      <td>7.5</td>\n",
       "      <td>9.65</td>\n",
       "      <td>11.52</td>\n",
       "      <td>5.82</td>\n",
       "      <td>7.33</td>\n",
       "      <td>9.05</td>\n",
       "      <td>8.26</td>\n",
       "      <td>8.95</td>\n",
       "      <td>5.68</td>\n",
       "      <td>8.12</td>\n",
       "      <td>11.4</td>\n",
       "    </tr>\n",
       "    <tr>\n",
       "      <th>8</th>\n",
       "      <td>8.4</td>\n",
       "      <td>7.7</td>\n",
       "      <td>8.19</td>\n",
       "      <td>2.34</td>\n",
       "      <td>6.08</td>\n",
       "      <td>11.32</td>\n",
       "      <td>4.09</td>\n",
       "      <td>10.54</td>\n",
       "      <td>10.93</td>\n",
       "      <td>4.01</td>\n",
       "      <td>7.67</td>\n",
       "      <td>4.66</td>\n",
       "      <td>4.69</td>\n",
       "      <td>7.75</td>\n",
       "      <td>6.32</td>\n",
       "      <td>...</td>\n",
       "      <td>8.2</td>\n",
       "      <td>7.28</td>\n",
       "      <td>8.68</td>\n",
       "      <td>7.57</td>\n",
       "      <td>6.66</td>\n",
       "      <td>8.31</td>\n",
       "      <td>9.85</td>\n",
       "      <td>7.05</td>\n",
       "      <td>8.36</td>\n",
       "      <td>8.87</td>\n",
       "      <td>8.68</td>\n",
       "      <td>9.49</td>\n",
       "      <td>4.7</td>\n",
       "      <td>7.48</td>\n",
       "      <td>3.14</td>\n",
       "    </tr>\n",
       "    <tr>\n",
       "      <th>9</th>\n",
       "      <td>8.07</td>\n",
       "      <td>7.89</td>\n",
       "      <td>7.85</td>\n",
       "      <td>2.2</td>\n",
       "      <td>6.97</td>\n",
       "      <td>9.29</td>\n",
       "      <td>3.44</td>\n",
       "      <td>9.18</td>\n",
       "      <td>10.73</td>\n",
       "      <td>4.6</td>\n",
       "      <td>5.71</td>\n",
       "      <td>5.45</td>\n",
       "      <td>6.86</td>\n",
       "      <td>8.43</td>\n",
       "      <td>5.7</td>\n",
       "      <td>...</td>\n",
       "      <td>8.25</td>\n",
       "      <td>6</td>\n",
       "      <td>8.11</td>\n",
       "      <td>7.81</td>\n",
       "      <td>7.38</td>\n",
       "      <td>10.82</td>\n",
       "      <td>10.83</td>\n",
       "      <td>4.95</td>\n",
       "      <td>8.5</td>\n",
       "      <td>9.78</td>\n",
       "      <td>8.62</td>\n",
       "      <td>9.38</td>\n",
       "      <td>4.7</td>\n",
       "      <td>5.73</td>\n",
       "      <td>10.36</td>\n",
       "    </tr>\n",
       "    <tr>\n",
       "      <th>10</th>\n",
       "      <td>8.16</td>\n",
       "      <td>8.31</td>\n",
       "      <td>8.31</td>\n",
       "      <td>5.39</td>\n",
       "      <td>5.77</td>\n",
       "      <td>11.03</td>\n",
       "      <td>3.17</td>\n",
       "      <td>9.26</td>\n",
       "      <td>11.48</td>\n",
       "      <td>4.28</td>\n",
       "      <td>6.05</td>\n",
       "      <td>5.74</td>\n",
       "      <td>4.9</td>\n",
       "      <td>8.27</td>\n",
       "      <td>5.03</td>\n",
       "      <td>...</td>\n",
       "      <td>8.2</td>\n",
       "      <td>6.92</td>\n",
       "      <td>9.16</td>\n",
       "      <td>8.67</td>\n",
       "      <td>7.32</td>\n",
       "      <td>7.9</td>\n",
       "      <td>11.5</td>\n",
       "      <td>3.36</td>\n",
       "      <td>9.05</td>\n",
       "      <td>10</td>\n",
       "      <td>10.33</td>\n",
       "      <td>9.72</td>\n",
       "      <td>6.17</td>\n",
       "      <td>7.38</td>\n",
       "      <td>8.51</td>\n",
       "    </tr>\n",
       "  </tbody>\n",
       "</table>\n",
       "<p>10 rows × 4654 columns</p>\n",
       "</div>"
      ],
      "text/plain": [
       "0  x10006_at x10007_at x100129361_at x100130449_at x100130633_at  \\\n",
       "1       8.44      7.84          9.23           2.2          4.93   \n",
       "2       7.93      8.47          7.77          2.48           6.7   \n",
       "3       7.53      7.49          9.49          5.66          5.99   \n",
       "4       7.72      8.38          8.03          5.22          6.95   \n",
       "5       7.89      7.75          6.99           2.2          7.06   \n",
       "6       8.37      8.43          8.32           2.2          7.02   \n",
       "7       8.18       8.1          8.94           2.2           8.2   \n",
       "8        8.4       7.7          8.19          2.34          6.08   \n",
       "9       8.07      7.89          7.85           2.2          6.97   \n",
       "10      8.16      8.31          8.31          5.39          5.77   \n",
       "\n",
       "0  x100133941_at x10014_at x10016_at x100188893_at x10019_at x1001_at  \\\n",
       "1          10.31      7.85      9.91         11.37      3.48     4.89   \n",
       "2          11.03      3.33      9.53         10.91      4.28     5.81   \n",
       "3           8.87      3.48      8.02         10.73      4.07     5.21   \n",
       "4           2.73      4.06      9.26          10.9       7.4     3.27   \n",
       "5          11.38      3.65      9.22         10.37      3.89     7.18   \n",
       "6           10.7      3.17      7.73         11.18      4.41      8.4   \n",
       "7             10      3.21      9.44         11.08      6.89     5.22   \n",
       "8          11.32      4.09     10.54         10.93      4.01     7.67   \n",
       "9           9.29      3.44      9.18         10.73       4.6     5.71   \n",
       "10         11.03      3.17      9.26         11.48      4.28     6.05   \n",
       "\n",
       "0  x10020_at x10026_at x100272147_at x100287025_at  ...   x9961_at x9968_at  \\\n",
       "1       5.61      5.61          8.64          6.15  ...        6.6     5.58   \n",
       "2       4.97      6.03          7.91          5.13  ...       9.22     6.85   \n",
       "3       6.41      4.24          8.87          5.84  ...       8.42     7.24   \n",
       "4       6.88      5.75          8.61           5.2  ...       8.61        7   \n",
       "5       4.62       6.9          8.07          5.52  ...        8.2     6.71   \n",
       "6       7.58      5.61          7.96          5.85  ...        8.1     5.88   \n",
       "7       6.28      6.38          8.23          4.46  ...        8.1     6.97   \n",
       "8       4.66      4.69          7.75          6.32  ...        8.2     7.28   \n",
       "9       5.45      6.86          8.43           5.7  ...       8.25        6   \n",
       "10      5.74       4.9          8.27          5.03  ...        8.2     6.92   \n",
       "\n",
       "0  x9969_at x9972_at x9973_at x9976_at x9978_at x997_at x9984_at x9987_at  \\\n",
       "1      8.72     7.63     5.87     7.71    11.32    6.37     8.63     8.61   \n",
       "2      8.28     7.68     7.05     9.98     10.4    5.96     7.61     9.51   \n",
       "3      8.57     6.81     7.73     8.34    10.57    6.92      8.2     8.71   \n",
       "4      8.89     7.97     7.15     9.05    10.92    5.73     8.44     9.18   \n",
       "5      8.26     7.64     8.55     9.16    10.73    7.45     7.79     9.15   \n",
       "6      9.66     9.53      6.2     9.52    11.08    5.52     8.08     9.41   \n",
       "7      8.83     8.59      7.5     9.65    11.52    5.82     7.33     9.05   \n",
       "8      8.68     7.57     6.66     8.31     9.85    7.05     8.36     8.87   \n",
       "9      8.11     7.81     7.38    10.82    10.83    4.95      8.5     9.78   \n",
       "10     9.16     8.67     7.32      7.9     11.5    3.36     9.05       10   \n",
       "\n",
       "0  x9988_at x9989_at x9994_at x9997_at  x9_at  \n",
       "1      7.42     8.79      4.7     7.23   8.28  \n",
       "2       8.2     9.27      4.7      6.7  12.78  \n",
       "3      8.56      8.9      4.7      7.7  12.22  \n",
       "4      7.86      9.3     5.58     7.95  12.18  \n",
       "5      7.97      8.5      4.7     6.63  12.12  \n",
       "6      8.37     9.19     6.19     8.48   4.42  \n",
       "7      8.26     8.95     5.68     8.12   11.4  \n",
       "8      8.68     9.49      4.7     7.48   3.14  \n",
       "9      8.62     9.38      4.7     5.73  10.36  \n",
       "10    10.33     9.72     6.17     7.38   8.51  \n",
       "\n",
       "[10 rows x 4654 columns]"
      ]
     },
     "execution_count": 4,
     "metadata": {},
     "output_type": "execute_result"
    }
   ],
   "source": [
    "train_data = train_data.T\n",
    "train_data.columns = train_data.iloc[0,:]\n",
    "train_data = train_data.iloc[1:,0:]\n",
    "print(train_data.shape)\n",
    "train_data.head(10)"
   ]
  },
  {
   "cell_type": "code",
   "execution_count": 5,
   "metadata": {
    "ExecuteTime": {
     "end_time": "2019-01-31T16:03:32.149375Z",
     "start_time": "2019-01-31T16:03:25.852573Z"
    }
   },
   "outputs": [
    {
     "data": {
      "text/html": [
       "<div>\n",
       "<style scoped>\n",
       "    .dataframe tbody tr th:only-of-type {\n",
       "        vertical-align: middle;\n",
       "    }\n",
       "\n",
       "    .dataframe tbody tr th {\n",
       "        vertical-align: top;\n",
       "    }\n",
       "\n",
       "    .dataframe thead th {\n",
       "        text-align: right;\n",
       "    }\n",
       "</style>\n",
       "<table border=\"1\" class=\"dataframe\">\n",
       "  <thead>\n",
       "    <tr style=\"text-align: right;\">\n",
       "      <th></th>\n",
       "      <th>x10006_at</th>\n",
       "      <th>x10007_at</th>\n",
       "      <th>x100129361_at</th>\n",
       "      <th>x100130449_at</th>\n",
       "      <th>x100130633_at</th>\n",
       "      <th>x100133941_at</th>\n",
       "      <th>x10014_at</th>\n",
       "      <th>x10016_at</th>\n",
       "      <th>x100188893_at</th>\n",
       "      <th>x10019_at</th>\n",
       "      <th>x1001_at</th>\n",
       "      <th>x10020_at</th>\n",
       "      <th>x10026_at</th>\n",
       "      <th>x100272147_at</th>\n",
       "      <th>x100287025_at</th>\n",
       "      <th>...</th>\n",
       "      <th>x9961_at</th>\n",
       "      <th>x9968_at</th>\n",
       "      <th>x9969_at</th>\n",
       "      <th>x9972_at</th>\n",
       "      <th>x9973_at</th>\n",
       "      <th>x9976_at</th>\n",
       "      <th>x9978_at</th>\n",
       "      <th>x997_at</th>\n",
       "      <th>x9984_at</th>\n",
       "      <th>x9987_at</th>\n",
       "      <th>x9988_at</th>\n",
       "      <th>x9989_at</th>\n",
       "      <th>x9994_at</th>\n",
       "      <th>x9997_at</th>\n",
       "      <th>x9_at</th>\n",
       "    </tr>\n",
       "  </thead>\n",
       "  <tbody>\n",
       "    <tr>\n",
       "      <th>count</th>\n",
       "      <td>184.00</td>\n",
       "      <td>184.00</td>\n",
       "      <td>184.00</td>\n",
       "      <td>184.0</td>\n",
       "      <td>184.00</td>\n",
       "      <td>184.00</td>\n",
       "      <td>184.00</td>\n",
       "      <td>184.00</td>\n",
       "      <td>184.00</td>\n",
       "      <td>184.00</td>\n",
       "      <td>184.00</td>\n",
       "      <td>184.00</td>\n",
       "      <td>184.00</td>\n",
       "      <td>184.00</td>\n",
       "      <td>184.00</td>\n",
       "      <td>...</td>\n",
       "      <td>184.0</td>\n",
       "      <td>184.00</td>\n",
       "      <td>184.00</td>\n",
       "      <td>184.00</td>\n",
       "      <td>184.00</td>\n",
       "      <td>184.00</td>\n",
       "      <td>184.00</td>\n",
       "      <td>184.00</td>\n",
       "      <td>184.00</td>\n",
       "      <td>184.00</td>\n",
       "      <td>184.00</td>\n",
       "      <td>184.00</td>\n",
       "      <td>184.0</td>\n",
       "      <td>184.00</td>\n",
       "      <td>184.0</td>\n",
       "    </tr>\n",
       "    <tr>\n",
       "      <th>unique</th>\n",
       "      <td>121.00</td>\n",
       "      <td>111.00</td>\n",
       "      <td>137.00</td>\n",
       "      <td>61.0</td>\n",
       "      <td>128.00</td>\n",
       "      <td>148.00</td>\n",
       "      <td>117.00</td>\n",
       "      <td>126.00</td>\n",
       "      <td>110.00</td>\n",
       "      <td>125.00</td>\n",
       "      <td>137.00</td>\n",
       "      <td>154.00</td>\n",
       "      <td>115.00</td>\n",
       "      <td>119.00</td>\n",
       "      <td>124.00</td>\n",
       "      <td>...</td>\n",
       "      <td>114.0</td>\n",
       "      <td>123.00</td>\n",
       "      <td>123.00</td>\n",
       "      <td>142.00</td>\n",
       "      <td>118.00</td>\n",
       "      <td>148.00</td>\n",
       "      <td>121.00</td>\n",
       "      <td>136.00</td>\n",
       "      <td>127.00</td>\n",
       "      <td>114.00</td>\n",
       "      <td>125.00</td>\n",
       "      <td>129.00</td>\n",
       "      <td>74.0</td>\n",
       "      <td>137.00</td>\n",
       "      <td>144.0</td>\n",
       "    </tr>\n",
       "    <tr>\n",
       "      <th>top</th>\n",
       "      <td>7.79</td>\n",
       "      <td>8.21</td>\n",
       "      <td>8.23</td>\n",
       "      <td>2.2</td>\n",
       "      <td>6.97</td>\n",
       "      <td>11.03</td>\n",
       "      <td>3.68</td>\n",
       "      <td>9.22</td>\n",
       "      <td>10.74</td>\n",
       "      <td>4.28</td>\n",
       "      <td>5.71</td>\n",
       "      <td>5.74</td>\n",
       "      <td>5.61</td>\n",
       "      <td>7.91</td>\n",
       "      <td>5.24</td>\n",
       "      <td>...</td>\n",
       "      <td>8.2</td>\n",
       "      <td>6.26</td>\n",
       "      <td>8.66</td>\n",
       "      <td>7.68</td>\n",
       "      <td>7.38</td>\n",
       "      <td>9.72</td>\n",
       "      <td>11.34</td>\n",
       "      <td>5.76</td>\n",
       "      <td>7.87</td>\n",
       "      <td>9.78</td>\n",
       "      <td>8.18</td>\n",
       "      <td>8.86</td>\n",
       "      <td>4.7</td>\n",
       "      <td>7.38</td>\n",
       "      <td>3.0</td>\n",
       "    </tr>\n",
       "    <tr>\n",
       "      <th>freq</th>\n",
       "      <td>13.00</td>\n",
       "      <td>6.00</td>\n",
       "      <td>5.00</td>\n",
       "      <td>105.0</td>\n",
       "      <td>9.00</td>\n",
       "      <td>5.00</td>\n",
       "      <td>5.00</td>\n",
       "      <td>4.00</td>\n",
       "      <td>4.00</td>\n",
       "      <td>14.00</td>\n",
       "      <td>14.00</td>\n",
       "      <td>3.00</td>\n",
       "      <td>30.00</td>\n",
       "      <td>5.00</td>\n",
       "      <td>4.00</td>\n",
       "      <td>...</td>\n",
       "      <td>21.0</td>\n",
       "      <td>5.00</td>\n",
       "      <td>6.00</td>\n",
       "      <td>4.00</td>\n",
       "      <td>33.00</td>\n",
       "      <td>3.00</td>\n",
       "      <td>4.00</td>\n",
       "      <td>19.00</td>\n",
       "      <td>5.00</td>\n",
       "      <td>4.00</td>\n",
       "      <td>4.00</td>\n",
       "      <td>4.00</td>\n",
       "      <td>49.0</td>\n",
       "      <td>10.00</td>\n",
       "      <td>29.0</td>\n",
       "    </tr>\n",
       "  </tbody>\n",
       "</table>\n",
       "<p>4 rows × 4654 columns</p>\n",
       "</div>"
      ],
      "text/plain": [
       "0       x10006_at  x10007_at  x100129361_at  x100130449_at  x100130633_at  \\\n",
       "count      184.00     184.00         184.00          184.0         184.00   \n",
       "unique     121.00     111.00         137.00           61.0         128.00   \n",
       "top          7.79       8.21           8.23            2.2           6.97   \n",
       "freq        13.00       6.00           5.00          105.0           9.00   \n",
       "\n",
       "0       x100133941_at  x10014_at  x10016_at  x100188893_at  x10019_at  \\\n",
       "count          184.00     184.00     184.00         184.00     184.00   \n",
       "unique         148.00     117.00     126.00         110.00     125.00   \n",
       "top             11.03       3.68       9.22          10.74       4.28   \n",
       "freq             5.00       5.00       4.00           4.00      14.00   \n",
       "\n",
       "0       x1001_at  x10020_at  x10026_at  x100272147_at  x100287025_at  ...    \\\n",
       "count     184.00     184.00     184.00         184.00         184.00  ...     \n",
       "unique    137.00     154.00     115.00         119.00         124.00  ...     \n",
       "top         5.71       5.74       5.61           7.91           5.24  ...     \n",
       "freq       14.00       3.00      30.00           5.00           4.00  ...     \n",
       "\n",
       "0       x9961_at  x9968_at  x9969_at  x9972_at  x9973_at  x9976_at  x9978_at  \\\n",
       "count      184.0    184.00    184.00    184.00    184.00    184.00    184.00   \n",
       "unique     114.0    123.00    123.00    142.00    118.00    148.00    121.00   \n",
       "top          8.2      6.26      8.66      7.68      7.38      9.72     11.34   \n",
       "freq        21.0      5.00      6.00      4.00     33.00      3.00      4.00   \n",
       "\n",
       "0       x997_at  x9984_at  x9987_at  x9988_at  x9989_at  x9994_at  x9997_at  \\\n",
       "count    184.00    184.00    184.00    184.00    184.00     184.0    184.00   \n",
       "unique   136.00    127.00    114.00    125.00    129.00      74.0    137.00   \n",
       "top        5.76      7.87      9.78      8.18      8.86       4.7      7.38   \n",
       "freq      19.00      5.00      4.00      4.00      4.00      49.0     10.00   \n",
       "\n",
       "0       x9_at  \n",
       "count   184.0  \n",
       "unique  144.0  \n",
       "top       3.0  \n",
       "freq     29.0  \n",
       "\n",
       "[4 rows x 4654 columns]"
      ]
     },
     "execution_count": 5,
     "metadata": {},
     "output_type": "execute_result"
    }
   ],
   "source": [
    "train_data.describe()"
   ]
  },
  {
   "cell_type": "code",
   "execution_count": 6,
   "metadata": {
    "ExecuteTime": {
     "end_time": "2019-01-31T16:03:32.187924Z",
     "start_time": "2019-01-31T16:03:32.150515Z"
    }
   },
   "outputs": [
    {
     "name": "stdout",
     "output_type": "stream",
     "text": [
      "(92, 4654)\n"
     ]
    },
    {
     "data": {
      "text/html": [
       "<div>\n",
       "<style scoped>\n",
       "    .dataframe tbody tr th:only-of-type {\n",
       "        vertical-align: middle;\n",
       "    }\n",
       "\n",
       "    .dataframe tbody tr th {\n",
       "        vertical-align: top;\n",
       "    }\n",
       "\n",
       "    .dataframe thead th {\n",
       "        text-align: right;\n",
       "    }\n",
       "</style>\n",
       "<table border=\"1\" class=\"dataframe\">\n",
       "  <thead>\n",
       "    <tr style=\"text-align: right;\">\n",
       "      <th></th>\n",
       "      <th>x10006_at</th>\n",
       "      <th>x10007_at</th>\n",
       "      <th>x100129361_at</th>\n",
       "      <th>x100130449_at</th>\n",
       "      <th>x100130633_at</th>\n",
       "      <th>x100133941_at</th>\n",
       "      <th>x10014_at</th>\n",
       "      <th>x10016_at</th>\n",
       "      <th>x100188893_at</th>\n",
       "      <th>x10019_at</th>\n",
       "      <th>x1001_at</th>\n",
       "      <th>x10020_at</th>\n",
       "      <th>x10026_at</th>\n",
       "      <th>x100272147_at</th>\n",
       "      <th>x100287025_at</th>\n",
       "      <th>...</th>\n",
       "      <th>x9961_at</th>\n",
       "      <th>x9968_at</th>\n",
       "      <th>x9969_at</th>\n",
       "      <th>x9972_at</th>\n",
       "      <th>x9973_at</th>\n",
       "      <th>x9976_at</th>\n",
       "      <th>x9978_at</th>\n",
       "      <th>x997_at</th>\n",
       "      <th>x9984_at</th>\n",
       "      <th>x9987_at</th>\n",
       "      <th>x9988_at</th>\n",
       "      <th>x9989_at</th>\n",
       "      <th>x9994_at</th>\n",
       "      <th>x9997_at</th>\n",
       "      <th>x9_at</th>\n",
       "    </tr>\n",
       "  </thead>\n",
       "  <tbody>\n",
       "    <tr>\n",
       "      <th>1</th>\n",
       "      <td>8.54</td>\n",
       "      <td>7.76</td>\n",
       "      <td>8.08</td>\n",
       "      <td>2.2</td>\n",
       "      <td>7.23</td>\n",
       "      <td>10.07</td>\n",
       "      <td>4.16</td>\n",
       "      <td>9.77</td>\n",
       "      <td>10.7</td>\n",
       "      <td>5.35</td>\n",
       "      <td>3.6</td>\n",
       "      <td>4.63</td>\n",
       "      <td>4.82</td>\n",
       "      <td>8.21</td>\n",
       "      <td>5.6</td>\n",
       "      <td>...</td>\n",
       "      <td>8.25</td>\n",
       "      <td>6.57</td>\n",
       "      <td>8.54</td>\n",
       "      <td>7.56</td>\n",
       "      <td>7.13</td>\n",
       "      <td>9.44</td>\n",
       "      <td>11.18</td>\n",
       "      <td>6.65</td>\n",
       "      <td>7.92</td>\n",
       "      <td>9.32</td>\n",
       "      <td>8.48</td>\n",
       "      <td>8.51</td>\n",
       "      <td>4.01</td>\n",
       "      <td>7.91</td>\n",
       "      <td>9.46</td>\n",
       "    </tr>\n",
       "    <tr>\n",
       "      <th>2</th>\n",
       "      <td>8.13</td>\n",
       "      <td>8.18</td>\n",
       "      <td>7.68</td>\n",
       "      <td>2.2</td>\n",
       "      <td>7.11</td>\n",
       "      <td>8.91</td>\n",
       "      <td>5.05</td>\n",
       "      <td>8.8</td>\n",
       "      <td>10.64</td>\n",
       "      <td>4.86</td>\n",
       "      <td>4.6</td>\n",
       "      <td>4.17</td>\n",
       "      <td>4.74</td>\n",
       "      <td>7.47</td>\n",
       "      <td>6.4</td>\n",
       "      <td>...</td>\n",
       "      <td>8.56</td>\n",
       "      <td>6.26</td>\n",
       "      <td>8.67</td>\n",
       "      <td>6.87</td>\n",
       "      <td>7.73</td>\n",
       "      <td>8.51</td>\n",
       "      <td>11.31</td>\n",
       "      <td>5.76</td>\n",
       "      <td>7.43</td>\n",
       "      <td>10.39</td>\n",
       "      <td>8.23</td>\n",
       "      <td>9.49</td>\n",
       "      <td>4.7</td>\n",
       "      <td>7.14</td>\n",
       "      <td>7.02</td>\n",
       "    </tr>\n",
       "    <tr>\n",
       "      <th>3</th>\n",
       "      <td>7.94</td>\n",
       "      <td>8.26</td>\n",
       "      <td>7.37</td>\n",
       "      <td>2.2</td>\n",
       "      <td>6.98</td>\n",
       "      <td>11.81</td>\n",
       "      <td>4.16</td>\n",
       "      <td>10.07</td>\n",
       "      <td>10.64</td>\n",
       "      <td>4.3</td>\n",
       "      <td>5.39</td>\n",
       "      <td>4.44</td>\n",
       "      <td>4.8</td>\n",
       "      <td>7.84</td>\n",
       "      <td>5.14</td>\n",
       "      <td>...</td>\n",
       "      <td>8.56</td>\n",
       "      <td>4.91</td>\n",
       "      <td>8.79</td>\n",
       "      <td>7.42</td>\n",
       "      <td>7.38</td>\n",
       "      <td>8.4</td>\n",
       "      <td>10.2</td>\n",
       "      <td>5.35</td>\n",
       "      <td>8.42</td>\n",
       "      <td>9.44</td>\n",
       "      <td>7.87</td>\n",
       "      <td>8.64</td>\n",
       "      <td>4.78</td>\n",
       "      <td>6.13</td>\n",
       "      <td>10.57</td>\n",
       "    </tr>\n",
       "    <tr>\n",
       "      <th>4</th>\n",
       "      <td>8.7</td>\n",
       "      <td>8.08</td>\n",
       "      <td>8.27</td>\n",
       "      <td>2.2</td>\n",
       "      <td>7.45</td>\n",
       "      <td>7.9</td>\n",
       "      <td>5</td>\n",
       "      <td>8.66</td>\n",
       "      <td>10.41</td>\n",
       "      <td>5.07</td>\n",
       "      <td>4.96</td>\n",
       "      <td>5.88</td>\n",
       "      <td>5.02</td>\n",
       "      <td>7.92</td>\n",
       "      <td>6.02</td>\n",
       "      <td>...</td>\n",
       "      <td>8.94</td>\n",
       "      <td>6.58</td>\n",
       "      <td>8.9</td>\n",
       "      <td>8.14</td>\n",
       "      <td>7.46</td>\n",
       "      <td>8.9</td>\n",
       "      <td>10.77</td>\n",
       "      <td>6.6</td>\n",
       "      <td>7.8</td>\n",
       "      <td>9.39</td>\n",
       "      <td>8.74</td>\n",
       "      <td>9.61</td>\n",
       "      <td>5.13</td>\n",
       "      <td>6.73</td>\n",
       "      <td>5.31</td>\n",
       "    </tr>\n",
       "    <tr>\n",
       "      <th>5</th>\n",
       "      <td>8.97</td>\n",
       "      <td>8.2</td>\n",
       "      <td>8.87</td>\n",
       "      <td>2.2</td>\n",
       "      <td>6.98</td>\n",
       "      <td>11.49</td>\n",
       "      <td>3.47</td>\n",
       "      <td>9.97</td>\n",
       "      <td>11.63</td>\n",
       "      <td>4.65</td>\n",
       "      <td>11.21</td>\n",
       "      <td>7.52</td>\n",
       "      <td>5.61</td>\n",
       "      <td>9.31</td>\n",
       "      <td>4.66</td>\n",
       "      <td>...</td>\n",
       "      <td>8.2</td>\n",
       "      <td>4.44</td>\n",
       "      <td>8.33</td>\n",
       "      <td>9.22</td>\n",
       "      <td>7.38</td>\n",
       "      <td>9.15</td>\n",
       "      <td>11.9</td>\n",
       "      <td>7.34</td>\n",
       "      <td>8.26</td>\n",
       "      <td>8.81</td>\n",
       "      <td>8.12</td>\n",
       "      <td>9.93</td>\n",
       "      <td>7.07</td>\n",
       "      <td>6.84</td>\n",
       "      <td>3</td>\n",
       "    </tr>\n",
       "    <tr>\n",
       "      <th>6</th>\n",
       "      <td>10.11</td>\n",
       "      <td>8.27</td>\n",
       "      <td>9.06</td>\n",
       "      <td>2.2</td>\n",
       "      <td>6.97</td>\n",
       "      <td>11.37</td>\n",
       "      <td>4.91</td>\n",
       "      <td>8.69</td>\n",
       "      <td>11.06</td>\n",
       "      <td>4.31</td>\n",
       "      <td>8.86</td>\n",
       "      <td>3.34</td>\n",
       "      <td>4.61</td>\n",
       "      <td>8.3</td>\n",
       "      <td>5.15</td>\n",
       "      <td>...</td>\n",
       "      <td>7.9</td>\n",
       "      <td>6.79</td>\n",
       "      <td>8.67</td>\n",
       "      <td>8.97</td>\n",
       "      <td>7.33</td>\n",
       "      <td>8.39</td>\n",
       "      <td>10.15</td>\n",
       "      <td>5.93</td>\n",
       "      <td>9.56</td>\n",
       "      <td>8.88</td>\n",
       "      <td>9.88</td>\n",
       "      <td>10.36</td>\n",
       "      <td>5.53</td>\n",
       "      <td>7.85</td>\n",
       "      <td>6.45</td>\n",
       "    </tr>\n",
       "    <tr>\n",
       "      <th>7</th>\n",
       "      <td>7.8</td>\n",
       "      <td>8.07</td>\n",
       "      <td>7.44</td>\n",
       "      <td>4.6</td>\n",
       "      <td>6.64</td>\n",
       "      <td>10.79</td>\n",
       "      <td>3.69</td>\n",
       "      <td>9.45</td>\n",
       "      <td>10.68</td>\n",
       "      <td>3.54</td>\n",
       "      <td>8.17</td>\n",
       "      <td>4.62</td>\n",
       "      <td>2.94</td>\n",
       "      <td>7.49</td>\n",
       "      <td>5.45</td>\n",
       "      <td>...</td>\n",
       "      <td>9.17</td>\n",
       "      <td>6.85</td>\n",
       "      <td>9.65</td>\n",
       "      <td>7.07</td>\n",
       "      <td>7.61</td>\n",
       "      <td>9.33</td>\n",
       "      <td>11.28</td>\n",
       "      <td>7.14</td>\n",
       "      <td>7.97</td>\n",
       "      <td>9.71</td>\n",
       "      <td>7.01</td>\n",
       "      <td>8.98</td>\n",
       "      <td>4.7</td>\n",
       "      <td>8.19</td>\n",
       "      <td>8.77</td>\n",
       "    </tr>\n",
       "    <tr>\n",
       "      <th>8</th>\n",
       "      <td>8.37</td>\n",
       "      <td>7.11</td>\n",
       "      <td>8.22</td>\n",
       "      <td>2.2</td>\n",
       "      <td>6.72</td>\n",
       "      <td>11.31</td>\n",
       "      <td>4.86</td>\n",
       "      <td>8.77</td>\n",
       "      <td>10.67</td>\n",
       "      <td>3.48</td>\n",
       "      <td>10.01</td>\n",
       "      <td>6.89</td>\n",
       "      <td>3.39</td>\n",
       "      <td>7.88</td>\n",
       "      <td>6.4</td>\n",
       "      <td>...</td>\n",
       "      <td>8.29</td>\n",
       "      <td>7.01</td>\n",
       "      <td>8.38</td>\n",
       "      <td>7.2</td>\n",
       "      <td>7.38</td>\n",
       "      <td>7.14</td>\n",
       "      <td>10.84</td>\n",
       "      <td>7.26</td>\n",
       "      <td>7.72</td>\n",
       "      <td>9.51</td>\n",
       "      <td>8.81</td>\n",
       "      <td>7.88</td>\n",
       "      <td>4.57</td>\n",
       "      <td>6.44</td>\n",
       "      <td>3</td>\n",
       "    </tr>\n",
       "    <tr>\n",
       "      <th>9</th>\n",
       "      <td>8.66</td>\n",
       "      <td>8.2</td>\n",
       "      <td>8.26</td>\n",
       "      <td>2.2</td>\n",
       "      <td>6.82</td>\n",
       "      <td>11.58</td>\n",
       "      <td>3.63</td>\n",
       "      <td>9.25</td>\n",
       "      <td>10.92</td>\n",
       "      <td>3.48</td>\n",
       "      <td>3.6</td>\n",
       "      <td>5.12</td>\n",
       "      <td>5.25</td>\n",
       "      <td>7.61</td>\n",
       "      <td>5.23</td>\n",
       "      <td>...</td>\n",
       "      <td>8.45</td>\n",
       "      <td>6.08</td>\n",
       "      <td>8.54</td>\n",
       "      <td>8.13</td>\n",
       "      <td>6.89</td>\n",
       "      <td>10.44</td>\n",
       "      <td>10.79</td>\n",
       "      <td>5.39</td>\n",
       "      <td>7.87</td>\n",
       "      <td>9.57</td>\n",
       "      <td>8.87</td>\n",
       "      <td>9.77</td>\n",
       "      <td>4.79</td>\n",
       "      <td>7.4</td>\n",
       "      <td>6.82</td>\n",
       "    </tr>\n",
       "    <tr>\n",
       "      <th>10</th>\n",
       "      <td>7.27</td>\n",
       "      <td>7.04</td>\n",
       "      <td>8.03</td>\n",
       "      <td>4.01</td>\n",
       "      <td>5.29</td>\n",
       "      <td>9.26</td>\n",
       "      <td>3.72</td>\n",
       "      <td>8.67</td>\n",
       "      <td>10.3</td>\n",
       "      <td>3.91</td>\n",
       "      <td>5.57</td>\n",
       "      <td>4.91</td>\n",
       "      <td>4.76</td>\n",
       "      <td>6.36</td>\n",
       "      <td>7.07</td>\n",
       "      <td>...</td>\n",
       "      <td>7.73</td>\n",
       "      <td>6.09</td>\n",
       "      <td>10.39</td>\n",
       "      <td>7.76</td>\n",
       "      <td>7.16</td>\n",
       "      <td>8.29</td>\n",
       "      <td>10.41</td>\n",
       "      <td>6.47</td>\n",
       "      <td>8.38</td>\n",
       "      <td>9.68</td>\n",
       "      <td>8.73</td>\n",
       "      <td>8.68</td>\n",
       "      <td>4.7</td>\n",
       "      <td>7.16</td>\n",
       "      <td>5.51</td>\n",
       "    </tr>\n",
       "  </tbody>\n",
       "</table>\n",
       "<p>10 rows × 4654 columns</p>\n",
       "</div>"
      ],
      "text/plain": [
       "0  x10006_at x10007_at x100129361_at x100130449_at x100130633_at  \\\n",
       "1       8.54      7.76          8.08           2.2          7.23   \n",
       "2       8.13      8.18          7.68           2.2          7.11   \n",
       "3       7.94      8.26          7.37           2.2          6.98   \n",
       "4        8.7      8.08          8.27           2.2          7.45   \n",
       "5       8.97       8.2          8.87           2.2          6.98   \n",
       "6      10.11      8.27          9.06           2.2          6.97   \n",
       "7        7.8      8.07          7.44           4.6          6.64   \n",
       "8       8.37      7.11          8.22           2.2          6.72   \n",
       "9       8.66       8.2          8.26           2.2          6.82   \n",
       "10      7.27      7.04          8.03          4.01          5.29   \n",
       "\n",
       "0  x100133941_at x10014_at x10016_at x100188893_at x10019_at x1001_at  \\\n",
       "1          10.07      4.16      9.77          10.7      5.35      3.6   \n",
       "2           8.91      5.05       8.8         10.64      4.86      4.6   \n",
       "3          11.81      4.16     10.07         10.64       4.3     5.39   \n",
       "4            7.9         5      8.66         10.41      5.07     4.96   \n",
       "5          11.49      3.47      9.97         11.63      4.65    11.21   \n",
       "6          11.37      4.91      8.69         11.06      4.31     8.86   \n",
       "7          10.79      3.69      9.45         10.68      3.54     8.17   \n",
       "8          11.31      4.86      8.77         10.67      3.48    10.01   \n",
       "9          11.58      3.63      9.25         10.92      3.48      3.6   \n",
       "10          9.26      3.72      8.67          10.3      3.91     5.57   \n",
       "\n",
       "0  x10020_at x10026_at x100272147_at x100287025_at  ...   x9961_at x9968_at  \\\n",
       "1       4.63      4.82          8.21           5.6  ...       8.25     6.57   \n",
       "2       4.17      4.74          7.47           6.4  ...       8.56     6.26   \n",
       "3       4.44       4.8          7.84          5.14  ...       8.56     4.91   \n",
       "4       5.88      5.02          7.92          6.02  ...       8.94     6.58   \n",
       "5       7.52      5.61          9.31          4.66  ...        8.2     4.44   \n",
       "6       3.34      4.61           8.3          5.15  ...        7.9     6.79   \n",
       "7       4.62      2.94          7.49          5.45  ...       9.17     6.85   \n",
       "8       6.89      3.39          7.88           6.4  ...       8.29     7.01   \n",
       "9       5.12      5.25          7.61          5.23  ...       8.45     6.08   \n",
       "10      4.91      4.76          6.36          7.07  ...       7.73     6.09   \n",
       "\n",
       "0  x9969_at x9972_at x9973_at x9976_at x9978_at x997_at x9984_at x9987_at  \\\n",
       "1      8.54     7.56     7.13     9.44    11.18    6.65     7.92     9.32   \n",
       "2      8.67     6.87     7.73     8.51    11.31    5.76     7.43    10.39   \n",
       "3      8.79     7.42     7.38      8.4     10.2    5.35     8.42     9.44   \n",
       "4       8.9     8.14     7.46      8.9    10.77     6.6      7.8     9.39   \n",
       "5      8.33     9.22     7.38     9.15     11.9    7.34     8.26     8.81   \n",
       "6      8.67     8.97     7.33     8.39    10.15    5.93     9.56     8.88   \n",
       "7      9.65     7.07     7.61     9.33    11.28    7.14     7.97     9.71   \n",
       "8      8.38      7.2     7.38     7.14    10.84    7.26     7.72     9.51   \n",
       "9      8.54     8.13     6.89    10.44    10.79    5.39     7.87     9.57   \n",
       "10    10.39     7.76     7.16     8.29    10.41    6.47     8.38     9.68   \n",
       "\n",
       "0  x9988_at x9989_at x9994_at x9997_at  x9_at  \n",
       "1      8.48     8.51     4.01     7.91   9.46  \n",
       "2      8.23     9.49      4.7     7.14   7.02  \n",
       "3      7.87     8.64     4.78     6.13  10.57  \n",
       "4      8.74     9.61     5.13     6.73   5.31  \n",
       "5      8.12     9.93     7.07     6.84      3  \n",
       "6      9.88    10.36     5.53     7.85   6.45  \n",
       "7      7.01     8.98      4.7     8.19   8.77  \n",
       "8      8.81     7.88     4.57     6.44      3  \n",
       "9      8.87     9.77     4.79      7.4   6.82  \n",
       "10     8.73     8.68      4.7     7.16   5.51  \n",
       "\n",
       "[10 rows x 4654 columns]"
      ]
     },
     "execution_count": 6,
     "metadata": {},
     "output_type": "execute_result"
    }
   ],
   "source": [
    "test = test.T\n",
    "test.columns = test.iloc[0,:]\n",
    "test = test.iloc[1:,0:]\n",
    "print(test.shape)\n",
    "test.head(10)"
   ]
  },
  {
   "cell_type": "code",
   "execution_count": 7,
   "metadata": {
    "ExecuteTime": {
     "end_time": "2019-01-31T16:03:32.194765Z",
     "start_time": "2019-01-31T16:03:32.189203Z"
    }
   },
   "outputs": [
    {
     "name": "stdout",
     "output_type": "stream",
     "text": [
      "(184, 1)\n"
     ]
    },
    {
     "data": {
      "text/html": [
       "<div>\n",
       "<style scoped>\n",
       "    .dataframe tbody tr th:only-of-type {\n",
       "        vertical-align: middle;\n",
       "    }\n",
       "\n",
       "    .dataframe tbody tr th {\n",
       "        vertical-align: top;\n",
       "    }\n",
       "\n",
       "    .dataframe thead th {\n",
       "        text-align: right;\n",
       "    }\n",
       "</style>\n",
       "<table border=\"1\" class=\"dataframe\">\n",
       "  <thead>\n",
       "    <tr style=\"text-align: right;\">\n",
       "      <th></th>\n",
       "      <th>labels</th>\n",
       "    </tr>\n",
       "  </thead>\n",
       "  <tbody>\n",
       "    <tr>\n",
       "      <th>0</th>\n",
       "      <td>-1</td>\n",
       "    </tr>\n",
       "    <tr>\n",
       "      <th>1</th>\n",
       "      <td>-1</td>\n",
       "    </tr>\n",
       "    <tr>\n",
       "      <th>2</th>\n",
       "      <td>1</td>\n",
       "    </tr>\n",
       "    <tr>\n",
       "      <th>3</th>\n",
       "      <td>1</td>\n",
       "    </tr>\n",
       "    <tr>\n",
       "      <th>4</th>\n",
       "      <td>-1</td>\n",
       "    </tr>\n",
       "    <tr>\n",
       "      <th>5</th>\n",
       "      <td>-1</td>\n",
       "    </tr>\n",
       "    <tr>\n",
       "      <th>6</th>\n",
       "      <td>-1</td>\n",
       "    </tr>\n",
       "    <tr>\n",
       "      <th>7</th>\n",
       "      <td>-1</td>\n",
       "    </tr>\n",
       "    <tr>\n",
       "      <th>8</th>\n",
       "      <td>-1</td>\n",
       "    </tr>\n",
       "    <tr>\n",
       "      <th>9</th>\n",
       "      <td>-1</td>\n",
       "    </tr>\n",
       "  </tbody>\n",
       "</table>\n",
       "</div>"
      ],
      "text/plain": [
       "   labels\n",
       "0      -1\n",
       "1      -1\n",
       "2       1\n",
       "3       1\n",
       "4      -1\n",
       "5      -1\n",
       "6      -1\n",
       "7      -1\n",
       "8      -1\n",
       "9      -1"
      ]
     },
     "execution_count": 7,
     "metadata": {},
     "output_type": "execute_result"
    }
   ],
   "source": [
    "labels.columns = ['labels']\n",
    "print(labels.shape)\n",
    "labels.head(10)"
   ]
  },
  {
   "cell_type": "code",
   "execution_count": 8,
   "metadata": {
    "ExecuteTime": {
     "end_time": "2019-01-31T16:03:32.201308Z",
     "start_time": "2019-01-31T16:03:32.196208Z"
    }
   },
   "outputs": [],
   "source": [
    "# labels = np.asmatrix(labels, dtype='float')"
   ]
  },
  {
   "cell_type": "code",
   "execution_count": 9,
   "metadata": {
    "ExecuteTime": {
     "end_time": "2019-01-31T16:03:32.216831Z",
     "start_time": "2019-01-31T16:03:32.203171Z"
    }
   },
   "outputs": [
    {
     "data": {
      "text/plain": [
       "labels    66\n",
       "dtype: int64"
      ]
     },
     "execution_count": 9,
     "metadata": {},
     "output_type": "execute_result"
    }
   ],
   "source": [
    "p_one = labels[labels == 1]\n",
    "(p_one).count()"
   ]
  },
  {
   "cell_type": "code",
   "execution_count": 10,
   "metadata": {
    "ExecuteTime": {
     "end_time": "2019-01-31T16:03:32.224289Z",
     "start_time": "2019-01-31T16:03:32.218057Z"
    }
   },
   "outputs": [
    {
     "data": {
      "text/plain": [
       "labels    118\n",
       "dtype: int64"
      ]
     },
     "execution_count": 10,
     "metadata": {},
     "output_type": "execute_result"
    }
   ],
   "source": [
    "n_one = labels[labels == -1]\n",
    "n_one.count()"
   ]
  },
  {
   "cell_type": "code",
   "execution_count": 11,
   "metadata": {
    "ExecuteTime": {
     "end_time": "2019-01-31T16:03:32.229399Z",
     "start_time": "2019-01-31T16:03:32.225499Z"
    }
   },
   "outputs": [],
   "source": [
    "# lass = Lasso(alpha=0.02, random_state=5, warm_start=True, max_iter=3000)\n",
    "# lass.fit(train_data, labels)\n",
    "# lass.score(train_data, labels)"
   ]
  },
  {
   "cell_type": "code",
   "execution_count": 12,
   "metadata": {
    "ExecuteTime": {
     "end_time": "2019-01-31T16:03:32.236181Z",
     "start_time": "2019-01-31T16:03:32.230505Z"
    }
   },
   "outputs": [],
   "source": [
    "# lass.coef_.min(), lass.coef_.max()"
   ]
  },
  {
   "cell_type": "code",
   "execution_count": 13,
   "metadata": {
    "ExecuteTime": {
     "end_time": "2019-01-31T16:03:32.242411Z",
     "start_time": "2019-01-31T16:03:32.237380Z"
    }
   },
   "outputs": [],
   "source": [
    "# important_feats = np.abs(np.array(lass.coef_)) > 0\n",
    "\n",
    "# print(\"Features reduced from %10d to %10d\" % (train_data.shape[1], int(important_feats.sum())))"
   ]
  },
  {
   "cell_type": "code",
   "execution_count": 14,
   "metadata": {
    "ExecuteTime": {
     "end_time": "2019-01-31T16:03:32.250207Z",
     "start_time": "2019-01-31T16:03:32.243556Z"
    }
   },
   "outputs": [],
   "source": [
    "# train = train_data.T[important_feats]\n",
    "# train = train.T\n",
    "# train"
   ]
  },
  {
   "cell_type": "code",
   "execution_count": 15,
   "metadata": {
    "ExecuteTime": {
     "end_time": "2019-01-31T16:03:32.256609Z",
     "start_time": "2019-01-31T16:03:32.251416Z"
    }
   },
   "outputs": [],
   "source": [
    "# test = test.T[important_feats]\n",
    "# test = test.T\n",
    "# test"
   ]
  },
  {
   "cell_type": "code",
   "execution_count": null,
   "metadata": {},
   "outputs": [],
   "source": []
  },
  {
   "cell_type": "code",
   "execution_count": 16,
   "metadata": {
    "ExecuteTime": {
     "end_time": "2019-01-31T16:03:32.263185Z",
     "start_time": "2019-01-31T16:03:32.257669Z"
    }
   },
   "outputs": [],
   "source": [
    "# train.to_csv('x_train.csv',index=False)\n",
    "# test.to_csv('x_test.csv',index=False)\n",
    "# labels.to_csv('y_train.csv',index=False)"
   ]
  },
  {
   "cell_type": "code",
   "execution_count": 17,
   "metadata": {
    "ExecuteTime": {
     "end_time": "2019-01-31T16:03:32.287330Z",
     "start_time": "2019-01-31T16:03:32.264423Z"
    }
   },
   "outputs": [],
   "source": [
    "xtrain = pd.read_csv('x_train.csv')\n",
    "ytrain = pd.read_csv('y_train.csv')\n",
    "xtest = pd.read_csv('x_test.csv')"
   ]
  },
  {
   "cell_type": "code",
   "execution_count": 18,
   "metadata": {
    "ExecuteTime": {
     "end_time": "2019-01-31T16:03:32.298350Z",
     "start_time": "2019-01-31T16:03:32.292984Z"
    }
   },
   "outputs": [],
   "source": [
    "scaler = StandardScaler()\n",
    "xtrain = scaler.fit_transform(xtrain)"
   ]
  },
  {
   "cell_type": "code",
   "execution_count": 19,
   "metadata": {
    "ExecuteTime": {
     "end_time": "2019-01-31T16:03:32.307582Z",
     "start_time": "2019-01-31T16:03:32.303459Z"
    }
   },
   "outputs": [],
   "source": [
    "(X_train, X_test, Y_train, Y_test) = train_test_split(xtrain,\n",
    "                                             ytrain, random_state=3, test_size=0.2)"
   ]
  },
  {
   "cell_type": "code",
   "execution_count": 20,
   "metadata": {
    "ExecuteTime": {
     "end_time": "2019-01-31T16:03:32.314091Z",
     "start_time": "2019-01-31T16:03:32.309063Z"
    }
   },
   "outputs": [],
   "source": [
    "# list(train_data.columns)"
   ]
  },
  {
   "cell_type": "code",
   "execution_count": 21,
   "metadata": {
    "ExecuteTime": {
     "end_time": "2019-01-31T16:03:32.331405Z",
     "start_time": "2019-01-31T16:03:32.315545Z"
    }
   },
   "outputs": [],
   "source": [
    "from sklearn.metrics import classification_report\n",
    "from sklearn.metrics import roc_auc_score, roc_curve\n",
    "from sklearn.model_selection import cross_val_score\n",
    "from skopt.space import Real, Integer\n",
    "from skopt.utils import use_named_args\n",
    "from skopt import gp_minimize, forest_minimize"
   ]
  },
  {
   "cell_type": "markdown",
   "metadata": {},
   "source": [
    "### Logistic Regression with default parameters"
   ]
  },
  {
   "cell_type": "code",
   "execution_count": 22,
   "metadata": {
    "ExecuteTime": {
     "end_time": "2019-01-31T16:03:32.343004Z",
     "start_time": "2019-01-31T16:03:32.332728Z"
    }
   },
   "outputs": [
    {
     "name": "stderr",
     "output_type": "stream",
     "text": [
      "/home/enock/miniconda3/envs/google-crash/lib/python3.6/site-packages/sklearn/linear_model/logistic.py:433: FutureWarning: Default solver will be changed to 'lbfgs' in 0.22. Specify a solver to silence this warning.\n",
      "  FutureWarning)\n"
     ]
    },
    {
     "data": {
      "text/plain": [
       "LogisticRegression(C=1.0, class_weight=None, dual=False, fit_intercept=True,\n",
       "          intercept_scaling=1, max_iter=100, multi_class='warn',\n",
       "          n_jobs=None, penalty='l2', random_state=None, solver='warn',\n",
       "          tol=0.0001, verbose=0, warm_start=False)"
      ]
     },
     "execution_count": 22,
     "metadata": {},
     "output_type": "execute_result"
    }
   ],
   "source": [
    "logit = LogisticRegression()\n",
    "logit.fit(X_train, Y_train.squeeze())"
   ]
  },
  {
   "cell_type": "code",
   "execution_count": 23,
   "metadata": {
    "ExecuteTime": {
     "end_time": "2019-01-31T16:03:32.914439Z",
     "start_time": "2019-01-31T16:03:32.344526Z"
    }
   },
   "outputs": [
    {
     "name": "stdout",
     "output_type": "stream",
     "text": [
      "Training accuracy:  1.0\n",
      "Test accuracy:  1.0\n"
     ]
    },
    {
     "name": "stderr",
     "output_type": "stream",
     "text": [
      "/home/enock/miniconda3/envs/google-crash/lib/python3.6/site-packages/sklearn/linear_model/logistic.py:433: FutureWarning: Default solver will be changed to 'lbfgs' in 0.22. Specify a solver to silence this warning.\n",
      "  FutureWarning)\n",
      "/home/enock/miniconda3/envs/google-crash/lib/python3.6/site-packages/sklearn/linear_model/logistic.py:433: FutureWarning: Default solver will be changed to 'lbfgs' in 0.22. Specify a solver to silence this warning.\n",
      "  FutureWarning)\n",
      "/home/enock/miniconda3/envs/google-crash/lib/python3.6/site-packages/sklearn/linear_model/logistic.py:433: FutureWarning: Default solver will be changed to 'lbfgs' in 0.22. Specify a solver to silence this warning.\n",
      "  FutureWarning)\n",
      "/home/enock/miniconda3/envs/google-crash/lib/python3.6/site-packages/sklearn/linear_model/logistic.py:433: FutureWarning: Default solver will be changed to 'lbfgs' in 0.22. Specify a solver to silence this warning.\n",
      "  FutureWarning)\n",
      "/home/enock/miniconda3/envs/google-crash/lib/python3.6/site-packages/sklearn/linear_model/logistic.py:433: FutureWarning: Default solver will be changed to 'lbfgs' in 0.22. Specify a solver to silence this warning.\n",
      "  FutureWarning)\n",
      "/home/enock/miniconda3/envs/google-crash/lib/python3.6/site-packages/sklearn/linear_model/logistic.py:433: FutureWarning: Default solver will be changed to 'lbfgs' in 0.22. Specify a solver to silence this warning.\n",
      "  FutureWarning)\n",
      "/home/enock/miniconda3/envs/google-crash/lib/python3.6/site-packages/sklearn/linear_model/logistic.py:433: FutureWarning: Default solver will be changed to 'lbfgs' in 0.22. Specify a solver to silence this warning.\n",
      "  FutureWarning)\n",
      "/home/enock/miniconda3/envs/google-crash/lib/python3.6/site-packages/sklearn/linear_model/logistic.py:433: FutureWarning: Default solver will be changed to 'lbfgs' in 0.22. Specify a solver to silence this warning.\n",
      "  FutureWarning)\n",
      "/home/enock/miniconda3/envs/google-crash/lib/python3.6/site-packages/sklearn/linear_model/logistic.py:433: FutureWarning: Default solver will be changed to 'lbfgs' in 0.22. Specify a solver to silence this warning.\n",
      "  FutureWarning)\n",
      "/home/enock/miniconda3/envs/google-crash/lib/python3.6/site-packages/sklearn/linear_model/logistic.py:433: FutureWarning: Default solver will be changed to 'lbfgs' in 0.22. Specify a solver to silence this warning.\n",
      "  FutureWarning)\n",
      "/home/enock/miniconda3/envs/google-crash/lib/python3.6/site-packages/sklearn/linear_model/logistic.py:433: FutureWarning: Default solver will be changed to 'lbfgs' in 0.22. Specify a solver to silence this warning.\n",
      "  FutureWarning)\n",
      "/home/enock/miniconda3/envs/google-crash/lib/python3.6/site-packages/sklearn/linear_model/logistic.py:433: FutureWarning: Default solver will be changed to 'lbfgs' in 0.22. Specify a solver to silence this warning.\n",
      "  FutureWarning)\n",
      "/home/enock/miniconda3/envs/google-crash/lib/python3.6/site-packages/sklearn/linear_model/logistic.py:433: FutureWarning: Default solver will be changed to 'lbfgs' in 0.22. Specify a solver to silence this warning.\n",
      "  FutureWarning)\n",
      "/home/enock/miniconda3/envs/google-crash/lib/python3.6/site-packages/sklearn/linear_model/logistic.py:433: FutureWarning: Default solver will be changed to 'lbfgs' in 0.22. Specify a solver to silence this warning.\n",
      "  FutureWarning)\n",
      "/home/enock/miniconda3/envs/google-crash/lib/python3.6/site-packages/sklearn/linear_model/logistic.py:433: FutureWarning: Default solver will be changed to 'lbfgs' in 0.22. Specify a solver to silence this warning.\n",
      "  FutureWarning)\n",
      "/home/enock/miniconda3/envs/google-crash/lib/python3.6/site-packages/sklearn/linear_model/logistic.py:433: FutureWarning: Default solver will be changed to 'lbfgs' in 0.22. Specify a solver to silence this warning.\n",
      "  FutureWarning)\n",
      "/home/enock/miniconda3/envs/google-crash/lib/python3.6/site-packages/sklearn/linear_model/logistic.py:433: FutureWarning: Default solver will be changed to 'lbfgs' in 0.22. Specify a solver to silence this warning.\n",
      "  FutureWarning)\n",
      "/home/enock/miniconda3/envs/google-crash/lib/python3.6/site-packages/sklearn/linear_model/logistic.py:433: FutureWarning: Default solver will be changed to 'lbfgs' in 0.22. Specify a solver to silence this warning.\n",
      "  FutureWarning)\n",
      "/home/enock/miniconda3/envs/google-crash/lib/python3.6/site-packages/sklearn/linear_model/logistic.py:433: FutureWarning: Default solver will be changed to 'lbfgs' in 0.22. Specify a solver to silence this warning.\n",
      "  FutureWarning)\n",
      "/home/enock/miniconda3/envs/google-crash/lib/python3.6/site-packages/sklearn/linear_model/logistic.py:433: FutureWarning: Default solver will be changed to 'lbfgs' in 0.22. Specify a solver to silence this warning.\n",
      "  FutureWarning)\n",
      "/home/enock/miniconda3/envs/google-crash/lib/python3.6/site-packages/sklearn/linear_model/logistic.py:433: FutureWarning: Default solver will be changed to 'lbfgs' in 0.22. Specify a solver to silence this warning.\n",
      "  FutureWarning)\n",
      "/home/enock/miniconda3/envs/google-crash/lib/python3.6/site-packages/sklearn/linear_model/logistic.py:433: FutureWarning: Default solver will be changed to 'lbfgs' in 0.22. Specify a solver to silence this warning.\n",
      "  FutureWarning)\n",
      "/home/enock/miniconda3/envs/google-crash/lib/python3.6/site-packages/sklearn/linear_model/logistic.py:433: FutureWarning: Default solver will be changed to 'lbfgs' in 0.22. Specify a solver to silence this warning.\n",
      "  FutureWarning)\n",
      "/home/enock/miniconda3/envs/google-crash/lib/python3.6/site-packages/sklearn/linear_model/logistic.py:433: FutureWarning: Default solver will be changed to 'lbfgs' in 0.22. Specify a solver to silence this warning.\n",
      "  FutureWarning)\n",
      "/home/enock/miniconda3/envs/google-crash/lib/python3.6/site-packages/sklearn/linear_model/logistic.py:433: FutureWarning: Default solver will be changed to 'lbfgs' in 0.22. Specify a solver to silence this warning.\n",
      "  FutureWarning)\n",
      "/home/enock/miniconda3/envs/google-crash/lib/python3.6/site-packages/sklearn/linear_model/logistic.py:433: FutureWarning: Default solver will be changed to 'lbfgs' in 0.22. Specify a solver to silence this warning.\n",
      "  FutureWarning)\n",
      "/home/enock/miniconda3/envs/google-crash/lib/python3.6/site-packages/sklearn/linear_model/logistic.py:433: FutureWarning: Default solver will be changed to 'lbfgs' in 0.22. Specify a solver to silence this warning.\n",
      "  FutureWarning)\n",
      "/home/enock/miniconda3/envs/google-crash/lib/python3.6/site-packages/sklearn/linear_model/logistic.py:433: FutureWarning: Default solver will be changed to 'lbfgs' in 0.22. Specify a solver to silence this warning.\n",
      "  FutureWarning)\n",
      "/home/enock/miniconda3/envs/google-crash/lib/python3.6/site-packages/sklearn/linear_model/logistic.py:433: FutureWarning: Default solver will be changed to 'lbfgs' in 0.22. Specify a solver to silence this warning.\n",
      "  FutureWarning)\n",
      "/home/enock/miniconda3/envs/google-crash/lib/python3.6/site-packages/sklearn/linear_model/logistic.py:433: FutureWarning: Default solver will be changed to 'lbfgs' in 0.22. Specify a solver to silence this warning.\n",
      "  FutureWarning)\n",
      "/home/enock/miniconda3/envs/google-crash/lib/python3.6/site-packages/sklearn/linear_model/logistic.py:433: FutureWarning: Default solver will be changed to 'lbfgs' in 0.22. Specify a solver to silence this warning.\n",
      "  FutureWarning)\n",
      "/home/enock/miniconda3/envs/google-crash/lib/python3.6/site-packages/sklearn/linear_model/logistic.py:433: FutureWarning: Default solver will be changed to 'lbfgs' in 0.22. Specify a solver to silence this warning.\n",
      "  FutureWarning)\n",
      "/home/enock/miniconda3/envs/google-crash/lib/python3.6/site-packages/sklearn/linear_model/logistic.py:433: FutureWarning: Default solver will be changed to 'lbfgs' in 0.22. Specify a solver to silence this warning.\n",
      "  FutureWarning)\n",
      "/home/enock/miniconda3/envs/google-crash/lib/python3.6/site-packages/sklearn/linear_model/logistic.py:433: FutureWarning: Default solver will be changed to 'lbfgs' in 0.22. Specify a solver to silence this warning.\n",
      "  FutureWarning)\n",
      "/home/enock/miniconda3/envs/google-crash/lib/python3.6/site-packages/sklearn/linear_model/logistic.py:433: FutureWarning: Default solver will be changed to 'lbfgs' in 0.22. Specify a solver to silence this warning.\n",
      "  FutureWarning)\n",
      "/home/enock/miniconda3/envs/google-crash/lib/python3.6/site-packages/sklearn/linear_model/logistic.py:433: FutureWarning: Default solver will be changed to 'lbfgs' in 0.22. Specify a solver to silence this warning.\n",
      "  FutureWarning)\n",
      "/home/enock/miniconda3/envs/google-crash/lib/python3.6/site-packages/sklearn/linear_model/logistic.py:433: FutureWarning: Default solver will be changed to 'lbfgs' in 0.22. Specify a solver to silence this warning.\n",
      "  FutureWarning)\n",
      "/home/enock/miniconda3/envs/google-crash/lib/python3.6/site-packages/sklearn/linear_model/logistic.py:433: FutureWarning: Default solver will be changed to 'lbfgs' in 0.22. Specify a solver to silence this warning.\n",
      "  FutureWarning)\n",
      "/home/enock/miniconda3/envs/google-crash/lib/python3.6/site-packages/sklearn/linear_model/logistic.py:433: FutureWarning: Default solver will be changed to 'lbfgs' in 0.22. Specify a solver to silence this warning.\n",
      "  FutureWarning)\n",
      "/home/enock/miniconda3/envs/google-crash/lib/python3.6/site-packages/sklearn/linear_model/logistic.py:433: FutureWarning: Default solver will be changed to 'lbfgs' in 0.22. Specify a solver to silence this warning.\n",
      "  FutureWarning)\n",
      "/home/enock/miniconda3/envs/google-crash/lib/python3.6/site-packages/sklearn/linear_model/logistic.py:433: FutureWarning: Default solver will be changed to 'lbfgs' in 0.22. Specify a solver to silence this warning.\n",
      "  FutureWarning)\n",
      "/home/enock/miniconda3/envs/google-crash/lib/python3.6/site-packages/sklearn/linear_model/logistic.py:433: FutureWarning: Default solver will be changed to 'lbfgs' in 0.22. Specify a solver to silence this warning.\n",
      "  FutureWarning)\n",
      "/home/enock/miniconda3/envs/google-crash/lib/python3.6/site-packages/sklearn/linear_model/logistic.py:433: FutureWarning: Default solver will be changed to 'lbfgs' in 0.22. Specify a solver to silence this warning.\n",
      "  FutureWarning)\n",
      "/home/enock/miniconda3/envs/google-crash/lib/python3.6/site-packages/sklearn/linear_model/logistic.py:433: FutureWarning: Default solver will be changed to 'lbfgs' in 0.22. Specify a solver to silence this warning.\n",
      "  FutureWarning)\n",
      "/home/enock/miniconda3/envs/google-crash/lib/python3.6/site-packages/sklearn/linear_model/logistic.py:433: FutureWarning: Default solver will be changed to 'lbfgs' in 0.22. Specify a solver to silence this warning.\n",
      "  FutureWarning)\n",
      "/home/enock/miniconda3/envs/google-crash/lib/python3.6/site-packages/sklearn/linear_model/logistic.py:433: FutureWarning: Default solver will be changed to 'lbfgs' in 0.22. Specify a solver to silence this warning.\n",
      "  FutureWarning)\n",
      "/home/enock/miniconda3/envs/google-crash/lib/python3.6/site-packages/sklearn/linear_model/logistic.py:433: FutureWarning: Default solver will be changed to 'lbfgs' in 0.22. Specify a solver to silence this warning.\n",
      "  FutureWarning)\n",
      "/home/enock/miniconda3/envs/google-crash/lib/python3.6/site-packages/sklearn/linear_model/logistic.py:433: FutureWarning: Default solver will be changed to 'lbfgs' in 0.22. Specify a solver to silence this warning.\n",
      "  FutureWarning)\n",
      "/home/enock/miniconda3/envs/google-crash/lib/python3.6/site-packages/sklearn/linear_model/logistic.py:433: FutureWarning: Default solver will be changed to 'lbfgs' in 0.22. Specify a solver to silence this warning.\n",
      "  FutureWarning)\n",
      "/home/enock/miniconda3/envs/google-crash/lib/python3.6/site-packages/sklearn/linear_model/logistic.py:433: FutureWarning: Default solver will be changed to 'lbfgs' in 0.22. Specify a solver to silence this warning.\n",
      "  FutureWarning)\n",
      "/home/enock/miniconda3/envs/google-crash/lib/python3.6/site-packages/sklearn/linear_model/logistic.py:433: FutureWarning: Default solver will be changed to 'lbfgs' in 0.22. Specify a solver to silence this warning.\n",
      "  FutureWarning)\n",
      "/home/enock/miniconda3/envs/google-crash/lib/python3.6/site-packages/sklearn/linear_model/logistic.py:433: FutureWarning: Default solver will be changed to 'lbfgs' in 0.22. Specify a solver to silence this warning.\n",
      "  FutureWarning)\n",
      "/home/enock/miniconda3/envs/google-crash/lib/python3.6/site-packages/sklearn/linear_model/logistic.py:433: FutureWarning: Default solver will be changed to 'lbfgs' in 0.22. Specify a solver to silence this warning.\n",
      "  FutureWarning)\n",
      "/home/enock/miniconda3/envs/google-crash/lib/python3.6/site-packages/sklearn/linear_model/logistic.py:433: FutureWarning: Default solver will be changed to 'lbfgs' in 0.22. Specify a solver to silence this warning.\n",
      "  FutureWarning)\n",
      "/home/enock/miniconda3/envs/google-crash/lib/python3.6/site-packages/sklearn/linear_model/logistic.py:433: FutureWarning: Default solver will be changed to 'lbfgs' in 0.22. Specify a solver to silence this warning.\n",
      "  FutureWarning)\n",
      "/home/enock/miniconda3/envs/google-crash/lib/python3.6/site-packages/sklearn/linear_model/logistic.py:433: FutureWarning: Default solver will be changed to 'lbfgs' in 0.22. Specify a solver to silence this warning.\n",
      "  FutureWarning)\n",
      "/home/enock/miniconda3/envs/google-crash/lib/python3.6/site-packages/sklearn/linear_model/logistic.py:433: FutureWarning: Default solver will be changed to 'lbfgs' in 0.22. Specify a solver to silence this warning.\n",
      "  FutureWarning)\n",
      "/home/enock/miniconda3/envs/google-crash/lib/python3.6/site-packages/sklearn/linear_model/logistic.py:433: FutureWarning: Default solver will be changed to 'lbfgs' in 0.22. Specify a solver to silence this warning.\n",
      "  FutureWarning)\n",
      "/home/enock/miniconda3/envs/google-crash/lib/python3.6/site-packages/sklearn/linear_model/logistic.py:433: FutureWarning: Default solver will be changed to 'lbfgs' in 0.22. Specify a solver to silence this warning.\n",
      "  FutureWarning)\n",
      "/home/enock/miniconda3/envs/google-crash/lib/python3.6/site-packages/sklearn/linear_model/logistic.py:433: FutureWarning: Default solver will be changed to 'lbfgs' in 0.22. Specify a solver to silence this warning.\n",
      "  FutureWarning)\n",
      "/home/enock/miniconda3/envs/google-crash/lib/python3.6/site-packages/sklearn/linear_model/logistic.py:433: FutureWarning: Default solver will be changed to 'lbfgs' in 0.22. Specify a solver to silence this warning.\n",
      "  FutureWarning)\n",
      "/home/enock/miniconda3/envs/google-crash/lib/python3.6/site-packages/sklearn/linear_model/logistic.py:433: FutureWarning: Default solver will be changed to 'lbfgs' in 0.22. Specify a solver to silence this warning.\n",
      "  FutureWarning)\n",
      "/home/enock/miniconda3/envs/google-crash/lib/python3.6/site-packages/sklearn/linear_model/logistic.py:433: FutureWarning: Default solver will be changed to 'lbfgs' in 0.22. Specify a solver to silence this warning.\n",
      "  FutureWarning)\n",
      "/home/enock/miniconda3/envs/google-crash/lib/python3.6/site-packages/sklearn/linear_model/logistic.py:433: FutureWarning: Default solver will be changed to 'lbfgs' in 0.22. Specify a solver to silence this warning.\n",
      "  FutureWarning)\n",
      "/home/enock/miniconda3/envs/google-crash/lib/python3.6/site-packages/sklearn/linear_model/logistic.py:433: FutureWarning: Default solver will be changed to 'lbfgs' in 0.22. Specify a solver to silence this warning.\n",
      "  FutureWarning)\n",
      "/home/enock/miniconda3/envs/google-crash/lib/python3.6/site-packages/sklearn/linear_model/logistic.py:433: FutureWarning: Default solver will be changed to 'lbfgs' in 0.22. Specify a solver to silence this warning.\n",
      "  FutureWarning)\n",
      "/home/enock/miniconda3/envs/google-crash/lib/python3.6/site-packages/sklearn/linear_model/logistic.py:433: FutureWarning: Default solver will be changed to 'lbfgs' in 0.22. Specify a solver to silence this warning.\n",
      "  FutureWarning)\n",
      "/home/enock/miniconda3/envs/google-crash/lib/python3.6/site-packages/sklearn/linear_model/logistic.py:433: FutureWarning: Default solver will be changed to 'lbfgs' in 0.22. Specify a solver to silence this warning.\n",
      "  FutureWarning)\n",
      "/home/enock/miniconda3/envs/google-crash/lib/python3.6/site-packages/sklearn/linear_model/logistic.py:433: FutureWarning: Default solver will be changed to 'lbfgs' in 0.22. Specify a solver to silence this warning.\n",
      "  FutureWarning)\n",
      "/home/enock/miniconda3/envs/google-crash/lib/python3.6/site-packages/sklearn/linear_model/logistic.py:433: FutureWarning: Default solver will be changed to 'lbfgs' in 0.22. Specify a solver to silence this warning.\n",
      "  FutureWarning)\n",
      "/home/enock/miniconda3/envs/google-crash/lib/python3.6/site-packages/sklearn/linear_model/logistic.py:433: FutureWarning: Default solver will be changed to 'lbfgs' in 0.22. Specify a solver to silence this warning.\n",
      "  FutureWarning)\n",
      "/home/enock/miniconda3/envs/google-crash/lib/python3.6/site-packages/sklearn/linear_model/logistic.py:433: FutureWarning: Default solver will be changed to 'lbfgs' in 0.22. Specify a solver to silence this warning.\n",
      "  FutureWarning)\n",
      "/home/enock/miniconda3/envs/google-crash/lib/python3.6/site-packages/sklearn/linear_model/logistic.py:433: FutureWarning: Default solver will be changed to 'lbfgs' in 0.22. Specify a solver to silence this warning.\n",
      "  FutureWarning)\n",
      "/home/enock/miniconda3/envs/google-crash/lib/python3.6/site-packages/sklearn/linear_model/logistic.py:433: FutureWarning: Default solver will be changed to 'lbfgs' in 0.22. Specify a solver to silence this warning.\n",
      "  FutureWarning)\n",
      "/home/enock/miniconda3/envs/google-crash/lib/python3.6/site-packages/sklearn/linear_model/logistic.py:433: FutureWarning: Default solver will be changed to 'lbfgs' in 0.22. Specify a solver to silence this warning.\n",
      "  FutureWarning)\n",
      "/home/enock/miniconda3/envs/google-crash/lib/python3.6/site-packages/sklearn/linear_model/logistic.py:433: FutureWarning: Default solver will be changed to 'lbfgs' in 0.22. Specify a solver to silence this warning.\n",
      "  FutureWarning)\n",
      "/home/enock/miniconda3/envs/google-crash/lib/python3.6/site-packages/sklearn/linear_model/logistic.py:433: FutureWarning: Default solver will be changed to 'lbfgs' in 0.22. Specify a solver to silence this warning.\n",
      "  FutureWarning)\n",
      "/home/enock/miniconda3/envs/google-crash/lib/python3.6/site-packages/sklearn/linear_model/logistic.py:433: FutureWarning: Default solver will be changed to 'lbfgs' in 0.22. Specify a solver to silence this warning.\n",
      "  FutureWarning)\n",
      "/home/enock/miniconda3/envs/google-crash/lib/python3.6/site-packages/sklearn/linear_model/logistic.py:433: FutureWarning: Default solver will be changed to 'lbfgs' in 0.22. Specify a solver to silence this warning.\n",
      "  FutureWarning)\n",
      "/home/enock/miniconda3/envs/google-crash/lib/python3.6/site-packages/sklearn/linear_model/logistic.py:433: FutureWarning: Default solver will be changed to 'lbfgs' in 0.22. Specify a solver to silence this warning.\n",
      "  FutureWarning)\n",
      "/home/enock/miniconda3/envs/google-crash/lib/python3.6/site-packages/sklearn/linear_model/logistic.py:433: FutureWarning: Default solver will be changed to 'lbfgs' in 0.22. Specify a solver to silence this warning.\n",
      "  FutureWarning)\n",
      "/home/enock/miniconda3/envs/google-crash/lib/python3.6/site-packages/sklearn/linear_model/logistic.py:433: FutureWarning: Default solver will be changed to 'lbfgs' in 0.22. Specify a solver to silence this warning.\n",
      "  FutureWarning)\n",
      "/home/enock/miniconda3/envs/google-crash/lib/python3.6/site-packages/sklearn/linear_model/logistic.py:433: FutureWarning: Default solver will be changed to 'lbfgs' in 0.22. Specify a solver to silence this warning.\n",
      "  FutureWarning)\n",
      "/home/enock/miniconda3/envs/google-crash/lib/python3.6/site-packages/sklearn/linear_model/logistic.py:433: FutureWarning: Default solver will be changed to 'lbfgs' in 0.22. Specify a solver to silence this warning.\n",
      "  FutureWarning)\n",
      "/home/enock/miniconda3/envs/google-crash/lib/python3.6/site-packages/sklearn/linear_model/logistic.py:433: FutureWarning: Default solver will be changed to 'lbfgs' in 0.22. Specify a solver to silence this warning.\n",
      "  FutureWarning)\n",
      "/home/enock/miniconda3/envs/google-crash/lib/python3.6/site-packages/sklearn/linear_model/logistic.py:433: FutureWarning: Default solver will be changed to 'lbfgs' in 0.22. Specify a solver to silence this warning.\n",
      "  FutureWarning)\n",
      "/home/enock/miniconda3/envs/google-crash/lib/python3.6/site-packages/sklearn/linear_model/logistic.py:433: FutureWarning: Default solver will be changed to 'lbfgs' in 0.22. Specify a solver to silence this warning.\n",
      "  FutureWarning)\n",
      "/home/enock/miniconda3/envs/google-crash/lib/python3.6/site-packages/sklearn/linear_model/logistic.py:433: FutureWarning: Default solver will be changed to 'lbfgs' in 0.22. Specify a solver to silence this warning.\n",
      "  FutureWarning)\n",
      "/home/enock/miniconda3/envs/google-crash/lib/python3.6/site-packages/sklearn/linear_model/logistic.py:433: FutureWarning: Default solver will be changed to 'lbfgs' in 0.22. Specify a solver to silence this warning.\n",
      "  FutureWarning)\n",
      "/home/enock/miniconda3/envs/google-crash/lib/python3.6/site-packages/sklearn/linear_model/logistic.py:433: FutureWarning: Default solver will be changed to 'lbfgs' in 0.22. Specify a solver to silence this warning.\n",
      "  FutureWarning)\n",
      "/home/enock/miniconda3/envs/google-crash/lib/python3.6/site-packages/sklearn/linear_model/logistic.py:433: FutureWarning: Default solver will be changed to 'lbfgs' in 0.22. Specify a solver to silence this warning.\n",
      "  FutureWarning)\n",
      "/home/enock/miniconda3/envs/google-crash/lib/python3.6/site-packages/sklearn/linear_model/logistic.py:433: FutureWarning: Default solver will be changed to 'lbfgs' in 0.22. Specify a solver to silence this warning.\n",
      "  FutureWarning)\n",
      "/home/enock/miniconda3/envs/google-crash/lib/python3.6/site-packages/sklearn/linear_model/logistic.py:433: FutureWarning: Default solver will be changed to 'lbfgs' in 0.22. Specify a solver to silence this warning.\n",
      "  FutureWarning)\n",
      "/home/enock/miniconda3/envs/google-crash/lib/python3.6/site-packages/sklearn/linear_model/logistic.py:433: FutureWarning: Default solver will be changed to 'lbfgs' in 0.22. Specify a solver to silence this warning.\n",
      "  FutureWarning)\n",
      "/home/enock/miniconda3/envs/google-crash/lib/python3.6/site-packages/sklearn/linear_model/logistic.py:433: FutureWarning: Default solver will be changed to 'lbfgs' in 0.22. Specify a solver to silence this warning.\n",
      "  FutureWarning)\n",
      "/home/enock/miniconda3/envs/google-crash/lib/python3.6/site-packages/sklearn/linear_model/logistic.py:433: FutureWarning: Default solver will be changed to 'lbfgs' in 0.22. Specify a solver to silence this warning.\n",
      "  FutureWarning)\n",
      "/home/enock/miniconda3/envs/google-crash/lib/python3.6/site-packages/sklearn/linear_model/logistic.py:433: FutureWarning: Default solver will be changed to 'lbfgs' in 0.22. Specify a solver to silence this warning.\n",
      "  FutureWarning)\n",
      "/home/enock/miniconda3/envs/google-crash/lib/python3.6/site-packages/sklearn/linear_model/logistic.py:433: FutureWarning: Default solver will be changed to 'lbfgs' in 0.22. Specify a solver to silence this warning.\n",
      "  FutureWarning)\n",
      "/home/enock/miniconda3/envs/google-crash/lib/python3.6/site-packages/sklearn/linear_model/logistic.py:433: FutureWarning: Default solver will be changed to 'lbfgs' in 0.22. Specify a solver to silence this warning.\n",
      "  FutureWarning)\n",
      "/home/enock/miniconda3/envs/google-crash/lib/python3.6/site-packages/sklearn/linear_model/logistic.py:433: FutureWarning: Default solver will be changed to 'lbfgs' in 0.22. Specify a solver to silence this warning.\n",
      "  FutureWarning)\n"
     ]
    },
    {
     "name": "stdout",
     "output_type": "stream",
     "text": [
      "Cross val score: 0.9455782312925171\n"
     ]
    },
    {
     "name": "stderr",
     "output_type": "stream",
     "text": [
      "/home/enock/miniconda3/envs/google-crash/lib/python3.6/site-packages/sklearn/linear_model/logistic.py:433: FutureWarning: Default solver will be changed to 'lbfgs' in 0.22. Specify a solver to silence this warning.\n",
      "  FutureWarning)\n",
      "/home/enock/miniconda3/envs/google-crash/lib/python3.6/site-packages/sklearn/linear_model/logistic.py:433: FutureWarning: Default solver will be changed to 'lbfgs' in 0.22. Specify a solver to silence this warning.\n",
      "  FutureWarning)\n",
      "/home/enock/miniconda3/envs/google-crash/lib/python3.6/site-packages/sklearn/linear_model/logistic.py:433: FutureWarning: Default solver will be changed to 'lbfgs' in 0.22. Specify a solver to silence this warning.\n",
      "  FutureWarning)\n",
      "/home/enock/miniconda3/envs/google-crash/lib/python3.6/site-packages/sklearn/linear_model/logistic.py:433: FutureWarning: Default solver will be changed to 'lbfgs' in 0.22. Specify a solver to silence this warning.\n",
      "  FutureWarning)\n",
      "/home/enock/miniconda3/envs/google-crash/lib/python3.6/site-packages/sklearn/linear_model/logistic.py:433: FutureWarning: Default solver will be changed to 'lbfgs' in 0.22. Specify a solver to silence this warning.\n",
      "  FutureWarning)\n",
      "/home/enock/miniconda3/envs/google-crash/lib/python3.6/site-packages/sklearn/linear_model/logistic.py:433: FutureWarning: Default solver will be changed to 'lbfgs' in 0.22. Specify a solver to silence this warning.\n",
      "  FutureWarning)\n",
      "/home/enock/miniconda3/envs/google-crash/lib/python3.6/site-packages/sklearn/linear_model/logistic.py:433: FutureWarning: Default solver will be changed to 'lbfgs' in 0.22. Specify a solver to silence this warning.\n",
      "  FutureWarning)\n",
      "/home/enock/miniconda3/envs/google-crash/lib/python3.6/site-packages/sklearn/linear_model/logistic.py:433: FutureWarning: Default solver will be changed to 'lbfgs' in 0.22. Specify a solver to silence this warning.\n",
      "  FutureWarning)\n",
      "/home/enock/miniconda3/envs/google-crash/lib/python3.6/site-packages/sklearn/linear_model/logistic.py:433: FutureWarning: Default solver will be changed to 'lbfgs' in 0.22. Specify a solver to silence this warning.\n",
      "  FutureWarning)\n",
      "/home/enock/miniconda3/envs/google-crash/lib/python3.6/site-packages/sklearn/linear_model/logistic.py:433: FutureWarning: Default solver will be changed to 'lbfgs' in 0.22. Specify a solver to silence this warning.\n",
      "  FutureWarning)\n",
      "/home/enock/miniconda3/envs/google-crash/lib/python3.6/site-packages/sklearn/linear_model/logistic.py:433: FutureWarning: Default solver will be changed to 'lbfgs' in 0.22. Specify a solver to silence this warning.\n",
      "  FutureWarning)\n",
      "/home/enock/miniconda3/envs/google-crash/lib/python3.6/site-packages/sklearn/linear_model/logistic.py:433: FutureWarning: Default solver will be changed to 'lbfgs' in 0.22. Specify a solver to silence this warning.\n",
      "  FutureWarning)\n",
      "/home/enock/miniconda3/envs/google-crash/lib/python3.6/site-packages/sklearn/linear_model/logistic.py:433: FutureWarning: Default solver will be changed to 'lbfgs' in 0.22. Specify a solver to silence this warning.\n",
      "  FutureWarning)\n",
      "/home/enock/miniconda3/envs/google-crash/lib/python3.6/site-packages/sklearn/linear_model/logistic.py:433: FutureWarning: Default solver will be changed to 'lbfgs' in 0.22. Specify a solver to silence this warning.\n",
      "  FutureWarning)\n",
      "/home/enock/miniconda3/envs/google-crash/lib/python3.6/site-packages/sklearn/linear_model/logistic.py:433: FutureWarning: Default solver will be changed to 'lbfgs' in 0.22. Specify a solver to silence this warning.\n",
      "  FutureWarning)\n",
      "/home/enock/miniconda3/envs/google-crash/lib/python3.6/site-packages/sklearn/linear_model/logistic.py:433: FutureWarning: Default solver will be changed to 'lbfgs' in 0.22. Specify a solver to silence this warning.\n",
      "  FutureWarning)\n",
      "/home/enock/miniconda3/envs/google-crash/lib/python3.6/site-packages/sklearn/linear_model/logistic.py:433: FutureWarning: Default solver will be changed to 'lbfgs' in 0.22. Specify a solver to silence this warning.\n",
      "  FutureWarning)\n",
      "/home/enock/miniconda3/envs/google-crash/lib/python3.6/site-packages/sklearn/linear_model/logistic.py:433: FutureWarning: Default solver will be changed to 'lbfgs' in 0.22. Specify a solver to silence this warning.\n",
      "  FutureWarning)\n",
      "/home/enock/miniconda3/envs/google-crash/lib/python3.6/site-packages/sklearn/linear_model/logistic.py:433: FutureWarning: Default solver will be changed to 'lbfgs' in 0.22. Specify a solver to silence this warning.\n",
      "  FutureWarning)\n",
      "/home/enock/miniconda3/envs/google-crash/lib/python3.6/site-packages/sklearn/linear_model/logistic.py:433: FutureWarning: Default solver will be changed to 'lbfgs' in 0.22. Specify a solver to silence this warning.\n",
      "  FutureWarning)\n",
      "/home/enock/miniconda3/envs/google-crash/lib/python3.6/site-packages/sklearn/linear_model/logistic.py:433: FutureWarning: Default solver will be changed to 'lbfgs' in 0.22. Specify a solver to silence this warning.\n",
      "  FutureWarning)\n",
      "/home/enock/miniconda3/envs/google-crash/lib/python3.6/site-packages/sklearn/linear_model/logistic.py:433: FutureWarning: Default solver will be changed to 'lbfgs' in 0.22. Specify a solver to silence this warning.\n",
      "  FutureWarning)\n",
      "/home/enock/miniconda3/envs/google-crash/lib/python3.6/site-packages/sklearn/linear_model/logistic.py:433: FutureWarning: Default solver will be changed to 'lbfgs' in 0.22. Specify a solver to silence this warning.\n",
      "  FutureWarning)\n",
      "/home/enock/miniconda3/envs/google-crash/lib/python3.6/site-packages/sklearn/linear_model/logistic.py:433: FutureWarning: Default solver will be changed to 'lbfgs' in 0.22. Specify a solver to silence this warning.\n",
      "  FutureWarning)\n",
      "/home/enock/miniconda3/envs/google-crash/lib/python3.6/site-packages/sklearn/linear_model/logistic.py:433: FutureWarning: Default solver will be changed to 'lbfgs' in 0.22. Specify a solver to silence this warning.\n",
      "  FutureWarning)\n",
      "/home/enock/miniconda3/envs/google-crash/lib/python3.6/site-packages/sklearn/linear_model/logistic.py:433: FutureWarning: Default solver will be changed to 'lbfgs' in 0.22. Specify a solver to silence this warning.\n",
      "  FutureWarning)\n",
      "/home/enock/miniconda3/envs/google-crash/lib/python3.6/site-packages/sklearn/linear_model/logistic.py:433: FutureWarning: Default solver will be changed to 'lbfgs' in 0.22. Specify a solver to silence this warning.\n",
      "  FutureWarning)\n",
      "/home/enock/miniconda3/envs/google-crash/lib/python3.6/site-packages/sklearn/linear_model/logistic.py:433: FutureWarning: Default solver will be changed to 'lbfgs' in 0.22. Specify a solver to silence this warning.\n",
      "  FutureWarning)\n",
      "/home/enock/miniconda3/envs/google-crash/lib/python3.6/site-packages/sklearn/linear_model/logistic.py:433: FutureWarning: Default solver will be changed to 'lbfgs' in 0.22. Specify a solver to silence this warning.\n",
      "  FutureWarning)\n",
      "/home/enock/miniconda3/envs/google-crash/lib/python3.6/site-packages/sklearn/linear_model/logistic.py:433: FutureWarning: Default solver will be changed to 'lbfgs' in 0.22. Specify a solver to silence this warning.\n",
      "  FutureWarning)\n",
      "/home/enock/miniconda3/envs/google-crash/lib/python3.6/site-packages/sklearn/linear_model/logistic.py:433: FutureWarning: Default solver will be changed to 'lbfgs' in 0.22. Specify a solver to silence this warning.\n",
      "  FutureWarning)\n",
      "/home/enock/miniconda3/envs/google-crash/lib/python3.6/site-packages/sklearn/linear_model/logistic.py:433: FutureWarning: Default solver will be changed to 'lbfgs' in 0.22. Specify a solver to silence this warning.\n",
      "  FutureWarning)\n",
      "/home/enock/miniconda3/envs/google-crash/lib/python3.6/site-packages/sklearn/linear_model/logistic.py:433: FutureWarning: Default solver will be changed to 'lbfgs' in 0.22. Specify a solver to silence this warning.\n",
      "  FutureWarning)\n",
      "/home/enock/miniconda3/envs/google-crash/lib/python3.6/site-packages/sklearn/linear_model/logistic.py:433: FutureWarning: Default solver will be changed to 'lbfgs' in 0.22. Specify a solver to silence this warning.\n",
      "  FutureWarning)\n",
      "/home/enock/miniconda3/envs/google-crash/lib/python3.6/site-packages/sklearn/linear_model/logistic.py:433: FutureWarning: Default solver will be changed to 'lbfgs' in 0.22. Specify a solver to silence this warning.\n",
      "  FutureWarning)\n",
      "/home/enock/miniconda3/envs/google-crash/lib/python3.6/site-packages/sklearn/linear_model/logistic.py:433: FutureWarning: Default solver will be changed to 'lbfgs' in 0.22. Specify a solver to silence this warning.\n",
      "  FutureWarning)\n",
      "/home/enock/miniconda3/envs/google-crash/lib/python3.6/site-packages/sklearn/linear_model/logistic.py:433: FutureWarning: Default solver will be changed to 'lbfgs' in 0.22. Specify a solver to silence this warning.\n",
      "  FutureWarning)\n",
      "/home/enock/miniconda3/envs/google-crash/lib/python3.6/site-packages/sklearn/linear_model/logistic.py:433: FutureWarning: Default solver will be changed to 'lbfgs' in 0.22. Specify a solver to silence this warning.\n",
      "  FutureWarning)\n",
      "/home/enock/miniconda3/envs/google-crash/lib/python3.6/site-packages/sklearn/linear_model/logistic.py:433: FutureWarning: Default solver will be changed to 'lbfgs' in 0.22. Specify a solver to silence this warning.\n",
      "  FutureWarning)\n",
      "/home/enock/miniconda3/envs/google-crash/lib/python3.6/site-packages/sklearn/linear_model/logistic.py:433: FutureWarning: Default solver will be changed to 'lbfgs' in 0.22. Specify a solver to silence this warning.\n",
      "  FutureWarning)\n",
      "/home/enock/miniconda3/envs/google-crash/lib/python3.6/site-packages/sklearn/linear_model/logistic.py:433: FutureWarning: Default solver will be changed to 'lbfgs' in 0.22. Specify a solver to silence this warning.\n",
      "  FutureWarning)\n",
      "/home/enock/miniconda3/envs/google-crash/lib/python3.6/site-packages/sklearn/linear_model/logistic.py:433: FutureWarning: Default solver will be changed to 'lbfgs' in 0.22. Specify a solver to silence this warning.\n",
      "  FutureWarning)\n",
      "/home/enock/miniconda3/envs/google-crash/lib/python3.6/site-packages/sklearn/linear_model/logistic.py:433: FutureWarning: Default solver will be changed to 'lbfgs' in 0.22. Specify a solver to silence this warning.\n",
      "  FutureWarning)\n",
      "/home/enock/miniconda3/envs/google-crash/lib/python3.6/site-packages/sklearn/linear_model/logistic.py:433: FutureWarning: Default solver will be changed to 'lbfgs' in 0.22. Specify a solver to silence this warning.\n",
      "  FutureWarning)\n",
      "/home/enock/miniconda3/envs/google-crash/lib/python3.6/site-packages/sklearn/linear_model/logistic.py:433: FutureWarning: Default solver will be changed to 'lbfgs' in 0.22. Specify a solver to silence this warning.\n",
      "  FutureWarning)\n",
      "/home/enock/miniconda3/envs/google-crash/lib/python3.6/site-packages/sklearn/linear_model/logistic.py:433: FutureWarning: Default solver will be changed to 'lbfgs' in 0.22. Specify a solver to silence this warning.\n",
      "  FutureWarning)\n",
      "/home/enock/miniconda3/envs/google-crash/lib/python3.6/site-packages/sklearn/linear_model/logistic.py:433: FutureWarning: Default solver will be changed to 'lbfgs' in 0.22. Specify a solver to silence this warning.\n",
      "  FutureWarning)\n"
     ]
    }
   ],
   "source": [
    "print('Training accuracy: ', logit.score(X_train, Y_train))\n",
    "print('Test accuracy: ', logit.score(X_test, Y_test))\n",
    "print('Cross val score:', cross_val_score(estimator=logit, X=X_train, y=Y_train.squeeze(), cv=LeaveOneOut()).mean())"
   ]
  },
  {
   "cell_type": "code",
   "execution_count": 24,
   "metadata": {
    "ExecuteTime": {
     "end_time": "2019-01-31T16:03:32.923453Z",
     "start_time": "2019-01-31T16:03:32.916048Z"
    }
   },
   "outputs": [
    {
     "name": "stdout",
     "output_type": "stream",
     "text": [
      "              precision    recall  f1-score   support\n",
      "\n",
      "          -1       1.00      1.00      1.00        20\n",
      "           1       1.00      1.00      1.00        17\n",
      "\n",
      "   micro avg       1.00      1.00      1.00        37\n",
      "   macro avg       1.00      1.00      1.00        37\n",
      "weighted avg       1.00      1.00      1.00        37\n",
      "\n",
      "AUC: 1.0\n"
     ]
    }
   ],
   "source": [
    "logit_pred = logit.predict(X_test)\n",
    "# logit_pred == Y_test.squeeze()\n",
    "print(classification_report(Y_test, logit_pred))\n",
    "\n",
    "logit_probs = logit.predict_proba(X_test)\n",
    "logit_probs = logit_probs[:,1]\n",
    "logit_auc = roc_auc_score(Y_test, logit_probs)\n",
    "print('AUC: {}'.format(logit_auc))"
   ]
  },
  {
   "cell_type": "code",
   "execution_count": 25,
   "metadata": {
    "ExecuteTime": {
     "end_time": "2019-01-31T16:03:33.040521Z",
     "start_time": "2019-01-31T16:03:32.924920Z"
    }
   },
   "outputs": [
    {
     "data": {
      "image/png": "[encoded data removed]",
      "text/plain": [
       "<Figure size 432x288 with 1 Axes>"
      ]
     },
     "metadata": {
      "needs_background": "light"
     },
     "output_type": "display_data"
    }
   ],
   "source": [
    "fpr, tpr, thresholds = roc_curve(Y_test, logit_probs)\n",
    "\n",
    "plt.plot([0,1],[0,1], linestyle='--')\n",
    "plt.plot(fpr, tpr, marker='.')\n",
    "plt.xlabel('True Positive Rate')\n",
    "plt.ylabel('False Positive Rate')\n",
    "plt.title('ROC - Logistic Regression')\n",
    "plt.show()"
   ]
  },
  {
   "cell_type": "markdown",
   "metadata": {},
   "source": [
    "### Random Forest with default parameters"
   ]
  },
  {
   "cell_type": "code",
   "execution_count": 26,
   "metadata": {
    "ExecuteTime": {
     "end_time": "2019-01-31T16:03:33.126511Z",
     "start_time": "2019-01-31T16:03:33.041623Z"
    }
   },
   "outputs": [
    {
     "data": {
      "text/plain": [
       "RandomForestClassifier(bootstrap=True, class_weight=None, criterion='gini',\n",
       "            max_depth=None, max_features='auto', max_leaf_nodes=None,\n",
       "            min_impurity_decrease=0.0, min_impurity_split=None,\n",
       "            min_samples_leaf=1, min_samples_split=2,\n",
       "            min_weight_fraction_leaf=0.0, n_estimators=100, n_jobs=None,\n",
       "            oob_score=False, random_state=None, verbose=0,\n",
       "            warm_start=False)"
      ]
     },
     "execution_count": 26,
     "metadata": {},
     "output_type": "execute_result"
    }
   ],
   "source": [
    "rf = RandomForestClassifier(n_estimators=100)\n",
    "rf.fit(X_train, Y_train.squeeze())"
   ]
  },
  {
   "cell_type": "code",
   "execution_count": 27,
   "metadata": {
    "ExecuteTime": {
     "end_time": "2019-01-31T16:03:44.739976Z",
     "start_time": "2019-01-31T16:03:33.127609Z"
    }
   },
   "outputs": [
    {
     "name": "stdout",
     "output_type": "stream",
     "text": [
      "Training accuracy:  1.0\n",
      "Test accuracy:  0.5405405405405406\n",
      "Cross val score: 0.673469387755102\n"
     ]
    }
   ],
   "source": [
    "print('Training accuracy: ', rf.score(X_train, Y_train))\n",
    "print('Test accuracy: ', rf.score(X_test, Y_test))\n",
    "print('Cross val score:', cross_val_score(estimator=rf, X=X_train, y=Y_train.squeeze(), cv=LeaveOneOut()).mean())"
   ]
  },
  {
   "cell_type": "code",
   "execution_count": 28,
   "metadata": {
    "ExecuteTime": {
     "end_time": "2019-01-31T16:03:44.758644Z",
     "start_time": "2019-01-31T16:03:44.741268Z"
    }
   },
   "outputs": [
    {
     "name": "stdout",
     "output_type": "stream",
     "text": [
      "              precision    recall  f1-score   support\n",
      "\n",
      "          -1       0.54      1.00      0.70        20\n",
      "           1       0.00      0.00      0.00        17\n",
      "\n",
      "   micro avg       0.54      0.54      0.54        37\n",
      "   macro avg       0.27      0.50      0.35        37\n",
      "weighted avg       0.29      0.54      0.38        37\n",
      "\n",
      "AUC: 0.8588235294117647\n"
     ]
    },
    {
     "name": "stderr",
     "output_type": "stream",
     "text": [
      "/home/enock/miniconda3/envs/google-crash/lib/python3.6/site-packages/sklearn/metrics/classification.py:1143: UndefinedMetricWarning: Precision and F-score are ill-defined and being set to 0.0 in labels with no predicted samples.\n",
      "  'precision', 'predicted', average, warn_for)\n"
     ]
    }
   ],
   "source": [
    "rf_pred = rf.predict(X_test)\n",
    "print(classification_report(Y_test, rf_pred))\n",
    "\n",
    "rf_probs = rf.predict_proba(X_test)\n",
    "rf_probs = rf_probs[:,1]\n",
    "rf_auc = roc_auc_score(Y_test, rf_probs)\n",
    "print('AUC: {}'.format(rf_auc))"
   ]
  },
  {
   "cell_type": "code",
   "execution_count": 29,
   "metadata": {
    "ExecuteTime": {
     "end_time": "2019-01-31T16:03:44.853494Z",
     "start_time": "2019-01-31T16:03:44.759754Z"
    }
   },
   "outputs": [
    {
     "data": {
      "image/png": "[encoded data removed]",
      "text/plain": [
       "<Figure size 432x288 with 1 Axes>"
      ]
     },
     "metadata": {
      "needs_background": "light"
     },
     "output_type": "display_data"
    }
   ],
   "source": [
    "fpr, tpr, thresholds = roc_curve(Y_test, rf_probs)\n",
    "\n",
    "plt.plot([0,1],[0,1], linestyle='--')\n",
    "plt.plot(fpr, tpr, marker='.')\n",
    "plt.show()"
   ]
  },
  {
   "cell_type": "markdown",
   "metadata": {},
   "source": [
    "### Decision Trees with default parameters"
   ]
  },
  {
   "cell_type": "code",
   "execution_count": 30,
   "metadata": {
    "ExecuteTime": {
     "end_time": "2019-01-31T16:03:44.864493Z",
     "start_time": "2019-01-31T16:03:44.854644Z"
    }
   },
   "outputs": [
    {
     "data": {
      "text/plain": [
       "DecisionTreeClassifier(class_weight=None, criterion='gini', max_depth=None,\n",
       "            max_features=None, max_leaf_nodes=None,\n",
       "            min_impurity_decrease=0.0, min_impurity_split=None,\n",
       "            min_samples_leaf=1, min_samples_split=2,\n",
       "            min_weight_fraction_leaf=0.0, presort=False, random_state=None,\n",
       "            splitter='best')"
      ]
     },
     "execution_count": 30,
     "metadata": {},
     "output_type": "execute_result"
    }
   ],
   "source": [
    "dtc = DecisionTreeClassifier()\n",
    "dtc.fit(X_train, Y_train)"
   ]
  },
  {
   "cell_type": "code",
   "execution_count": 31,
   "metadata": {
    "ExecuteTime": {
     "end_time": "2019-01-31T16:03:45.880485Z",
     "start_time": "2019-01-31T16:03:44.865487Z"
    }
   },
   "outputs": [
    {
     "name": "stdout",
     "output_type": "stream",
     "text": [
      "Training accuracy:  1.0\n",
      "Test accuracy:  0.6486486486486487\n",
      "Cross val score: 0.6122448979591837\n"
     ]
    }
   ],
   "source": [
    "print('Training accuracy: ', dtc.score(X_train, Y_train))\n",
    "print('Test accuracy: ', dtc.score(X_test, Y_test))\n",
    "print('Cross val score:', cross_val_score(estimator=dtc, X=X_train, y=Y_train.squeeze(), cv=LeaveOneOut()).mean())"
   ]
  },
  {
   "cell_type": "code",
   "execution_count": 32,
   "metadata": {
    "ExecuteTime": {
     "end_time": "2019-01-31T16:03:45.891387Z",
     "start_time": "2019-01-31T16:03:45.881830Z"
    }
   },
   "outputs": [
    {
     "name": "stdout",
     "output_type": "stream",
     "text": [
      "              precision    recall  f1-score   support\n",
      "\n",
      "          -1       0.63      0.85      0.72        20\n",
      "           1       0.70      0.41      0.52        17\n",
      "\n",
      "   micro avg       0.65      0.65      0.65        37\n",
      "   macro avg       0.66      0.63      0.62        37\n",
      "weighted avg       0.66      0.65      0.63        37\n",
      "\n",
      "AUC: 0.6308823529411764\n"
     ]
    }
   ],
   "source": [
    "dtc_pred = dtc.predict(X_test)\n",
    "print(classification_report(Y_test, dtc_pred))\n",
    "\n",
    "dtc_probs = dtc.predict_proba(X_test)\n",
    "dtc_probs = dtc_probs[:,1]\n",
    "dtc_auc = roc_auc_score(Y_test, dtc_probs)\n",
    "print('AUC: {}'.format(dtc_auc))"
   ]
  },
  {
   "cell_type": "code",
   "execution_count": 33,
   "metadata": {
    "ExecuteTime": {
     "end_time": "2019-01-31T16:03:45.986077Z",
     "start_time": "2019-01-31T16:03:45.892808Z"
    }
   },
   "outputs": [
    {
     "data": {
      "image/png": "[encoded data removed]",
      "text/plain": [
       "<Figure size 432x288 with 1 Axes>"
      ]
     },
     "metadata": {
      "needs_background": "light"
     },
     "output_type": "display_data"
    }
   ],
   "source": [
    "fpr, tpr, thresholds = roc_curve(Y_test, dtc_probs)\n",
    "\n",
    "plt.plot([0,1],[0,1], linestyle='--')\n",
    "plt.plot(fpr, tpr, marker='.')\n",
    "plt.show()"
   ]
  },
  {
   "cell_type": "markdown",
   "metadata": {
    "ExecuteTime": {
     "end_time": "2019-01-30T11:56:18.552186Z",
     "start_time": "2019-01-30T11:56:18.424964Z"
    }
   },
   "source": [
    "### Light Gradient Boosting Machine with default parameters"
   ]
  },
  {
   "cell_type": "code",
   "execution_count": 34,
   "metadata": {
    "ExecuteTime": {
     "end_time": "2019-01-31T16:03:46.125886Z",
     "start_time": "2019-01-31T16:03:45.987251Z"
    }
   },
   "outputs": [
    {
     "data": {
      "text/plain": [
       "LGBMClassifier(boosting_type='gbdt', class_weight=None, colsample_bytree=1.0,\n",
       "        importance_type='split', learning_rate=0.1, max_depth=-1,\n",
       "        min_child_samples=20, min_child_weight=0.001, min_split_gain=0.0,\n",
       "        n_estimators=100, n_jobs=-1, num_leaves=31, objective=None,\n",
       "        random_state=None, reg_alpha=0.0, reg_lambda=0.0, silent=True,\n",
       "        subsample=1.0, subsample_for_bin=200000, subsample_freq=0)"
      ]
     },
     "execution_count": 34,
     "metadata": {},
     "output_type": "execute_result"
    }
   ],
   "source": [
    "l_boost = LGBMClassifier()\n",
    "l_boost.fit(X_train, Y_train.values.ravel())"
   ]
  },
  {
   "cell_type": "code",
   "execution_count": 35,
   "metadata": {
    "ExecuteTime": {
     "end_time": "2019-01-31T16:03:49.380630Z",
     "start_time": "2019-01-31T16:03:46.127091Z"
    }
   },
   "outputs": [
    {
     "name": "stdout",
     "output_type": "stream",
     "text": [
      "Training accuracy:  1.0\n",
      "Test accuracy:  0.6486486486486487\n",
      "Cross val score: 0.6870748299319728\n"
     ]
    }
   ],
   "source": [
    "print('Training accuracy: ', l_boost.score(X_train, Y_train))\n",
    "print('Test accuracy: ', l_boost.score(X_test, Y_test))\n",
    "print('Cross val score:', cross_val_score(estimator=l_boost, X=X_train, y=Y_train.squeeze(), cv=LeaveOneOut()).mean())"
   ]
  },
  {
   "cell_type": "code",
   "execution_count": 36,
   "metadata": {
    "ExecuteTime": {
     "end_time": "2019-01-31T16:03:49.424703Z",
     "start_time": "2019-01-31T16:03:49.381997Z"
    }
   },
   "outputs": [
    {
     "name": "stdout",
     "output_type": "stream",
     "text": [
      "              precision    recall  f1-score   support\n",
      "\n",
      "          -1       0.62      0.90      0.73        20\n",
      "           1       0.75      0.35      0.48        17\n",
      "\n",
      "   micro avg       0.65      0.65      0.65        37\n",
      "   macro avg       0.69      0.63      0.61        37\n",
      "weighted avg       0.68      0.65      0.62        37\n",
      "\n",
      "AUC: 0.788235294117647\n"
     ]
    }
   ],
   "source": [
    "l_boost_pred = l_boost.predict(X_test)\n",
    "print(classification_report(Y_test, l_boost_pred))\n",
    "\n",
    "l_boost_probs = l_boost.predict_proba(X_test)\n",
    "l_boost_probs = l_boost_probs[:,1]\n",
    "l_boost_auc = roc_auc_score(Y_test, l_boost_probs)\n",
    "print('AUC: {}'.format(l_boost_auc))"
   ]
  },
  {
   "cell_type": "code",
   "execution_count": 37,
   "metadata": {
    "ExecuteTime": {
     "end_time": "2019-01-31T16:03:49.511389Z",
     "start_time": "2019-01-31T16:03:49.426088Z"
    }
   },
   "outputs": [
    {
     "data": {
      "image/png": "[encoded data removed]",
      "text/plain": [
       "<Figure size 432x288 with 1 Axes>"
      ]
     },
     "metadata": {
      "needs_background": "light"
     },
     "output_type": "display_data"
    }
   ],
   "source": [
    "fpr, tpr, thresholds = roc_curve(Y_test, l_boost_probs)\n",
    "\n",
    "plt.plot([0,1],[0,1], linestyle='--')\n",
    "plt.plot(fpr, tpr, marker='.')\n",
    "plt.show()"
   ]
  },
  {
   "cell_type": "markdown",
   "metadata": {},
   "source": [
    "### XGBClassifier with default parameters"
   ]
  },
  {
   "cell_type": "code",
   "execution_count": 38,
   "metadata": {
    "ExecuteTime": {
     "end_time": "2019-01-31T16:03:49.607602Z",
     "start_time": "2019-01-31T16:03:49.512861Z"
    }
   },
   "outputs": [
    {
     "data": {
      "text/plain": [
       "XGBClassifier(base_score=0.5, booster='gbtree', colsample_bylevel=1,\n",
       "       colsample_bytree=1, gamma=0, learning_rate=0.1, max_delta_step=0,\n",
       "       max_depth=3, min_child_weight=1, missing=None, n_estimators=100,\n",
       "       n_jobs=1, nthread=None, objective='binary:logistic', random_state=0,\n",
       "       reg_alpha=0, reg_lambda=1, scale_pos_weight=1, seed=None,\n",
       "       silent=True, subsample=1)"
      ]
     },
     "execution_count": 38,
     "metadata": {},
     "output_type": "execute_result"
    }
   ],
   "source": [
    "xgboostc = XGBClassifier()\n",
    "xgboostc.fit(X_train, Y_train.values.ravel())"
   ]
  },
  {
   "cell_type": "code",
   "execution_count": 39,
   "metadata": {
    "ExecuteTime": {
     "end_time": "2019-01-31T16:04:00.957092Z",
     "start_time": "2019-01-31T16:03:49.609193Z"
    }
   },
   "outputs": [
    {
     "name": "stdout",
     "output_type": "stream",
     "text": [
      "Training accuracy:  1.0\n",
      "Test accuracy:  0.5675675675675675\n",
      "Cross val score: 0.7210884353741497\n"
     ]
    }
   ],
   "source": [
    "print('Training accuracy: ', xgboostc.score(X_train, Y_train))\n",
    "print('Test accuracy: ', xgboostc.score(X_test, Y_test))\n",
    "print('Cross val score:', cross_val_score(estimator=xgboostc, X=X_train, y=Y_train.squeeze(), cv=LeaveOneOut()).mean())"
   ]
  },
  {
   "cell_type": "code",
   "execution_count": 40,
   "metadata": {
    "ExecuteTime": {
     "end_time": "2019-01-31T16:04:00.964496Z",
     "start_time": "2019-01-31T16:04:00.958375Z"
    }
   },
   "outputs": [
    {
     "name": "stdout",
     "output_type": "stream",
     "text": [
      "              precision    recall  f1-score   support\n",
      "\n",
      "          -1       0.56      0.95      0.70        20\n",
      "           1       0.67      0.12      0.20        17\n",
      "\n",
      "   micro avg       0.57      0.57      0.57        37\n",
      "   macro avg       0.61      0.53      0.45        37\n",
      "weighted avg       0.61      0.57      0.47        37\n",
      "\n",
      "AUC: 0.7676470588235295\n"
     ]
    }
   ],
   "source": [
    "xgboostc_pred = xgboostc.predict(X_test)\n",
    "print(classification_report(Y_test, xgboostc_pred))\n",
    "\n",
    "xgboostc_probs = xgboostc.predict_proba(X_test)\n",
    "xgboostc_probs = xgboostc_probs[:,1]\n",
    "xgboostc_auc = roc_auc_score(Y_test, xgboostc_probs)\n",
    "print('AUC: {}'.format(xgboostc_auc))"
   ]
  },
  {
   "cell_type": "code",
   "execution_count": 41,
   "metadata": {
    "ExecuteTime": {
     "end_time": "2019-01-31T16:04:01.057983Z",
     "start_time": "2019-01-31T16:04:00.965513Z"
    }
   },
   "outputs": [
    {
     "data": {
      "image/png": "[encoded data removed]",
      "text/plain": [
       "<Figure size 432x288 with 1 Axes>"
      ]
     },
     "metadata": {
      "needs_background": "light"
     },
     "output_type": "display_data"
    }
   ],
   "source": [
    "fpr, tpr, thresholds = roc_curve(Y_test, xgboostc_probs)\n",
    "\n",
    "plt.plot([0,1],[0,1], linestyle='--')\n",
    "plt.plot(fpr, tpr, marker='.')\n",
    "plt.xlabel('True Positive Rate')\n",
    "plt.ylabel('False Positive Rate')\n",
    "plt.title('ROC XGB classifier')\n",
    "plt.show()"
   ]
  },
  {
   "cell_type": "code",
   "execution_count": null,
   "metadata": {},
   "outputs": [],
   "source": []
  },
  {
   "cell_type": "markdown",
   "metadata": {},
   "source": [
    "### KNeighbors Classifier with default parameters"
   ]
  },
  {
   "cell_type": "code",
   "execution_count": 42,
   "metadata": {
    "ExecuteTime": {
     "end_time": "2019-01-31T16:04:01.063414Z",
     "start_time": "2019-01-31T16:04:01.059016Z"
    }
   },
   "outputs": [
    {
     "data": {
      "text/plain": [
       "KNeighborsClassifier(algorithm='auto', leaf_size=30, metric='minkowski',\n",
       "           metric_params=None, n_jobs=None, n_neighbors=5, p=2,\n",
       "           weights='uniform')"
      ]
     },
     "execution_count": 42,
     "metadata": {},
     "output_type": "execute_result"
    }
   ],
   "source": [
    "knn = KNeighborsClassifier()\n",
    "knn.fit(X_train, Y_train.squeeze())"
   ]
  },
  {
   "cell_type": "code",
   "execution_count": 43,
   "metadata": {
    "ExecuteTime": {
     "end_time": "2019-01-31T16:04:01.344285Z",
     "start_time": "2019-01-31T16:04:01.064696Z"
    }
   },
   "outputs": [
    {
     "name": "stdout",
     "output_type": "stream",
     "text": [
      "Training accuracy:  0.7687074829931972\n",
      "Test accuracy:  0.5675675675675675\n",
      "Cross val score: 0.673469387755102\n"
     ]
    }
   ],
   "source": [
    "print('Training accuracy: ', knn.score(X_train, Y_train))\n",
    "print('Test accuracy: ', knn.score(X_test, Y_test))\n",
    "print('Cross val score:', cross_val_score(estimator=knn, X=X_train, y=Y_train.squeeze(), cv=LeaveOneOut()).mean())"
   ]
  },
  {
   "cell_type": "code",
   "execution_count": 44,
   "metadata": {
    "ExecuteTime": {
     "end_time": "2019-01-31T16:04:01.357162Z",
     "start_time": "2019-01-31T16:04:01.345846Z"
    }
   },
   "outputs": [
    {
     "name": "stdout",
     "output_type": "stream",
     "text": [
      "              precision    recall  f1-score   support\n",
      "\n",
      "          -1       0.56      0.90      0.69        20\n",
      "           1       0.60      0.18      0.27        17\n",
      "\n",
      "   micro avg       0.57      0.57      0.57        37\n",
      "   macro avg       0.58      0.54      0.48        37\n",
      "weighted avg       0.58      0.57      0.50        37\n",
      "\n",
      "AUC: 0.7044117647058823\n"
     ]
    }
   ],
   "source": [
    "knn_pred = knn.predict(X_test)\n",
    "print(classification_report(Y_test, knn_pred))\n",
    "\n",
    "knn_probs = knn.predict_proba(X_test)\n",
    "knn_probs = knn_probs[:,1]\n",
    "knn_auc = roc_auc_score(Y_test, knn_probs)\n",
    "print('AUC: {}'.format(knn_auc))"
   ]
  },
  {
   "cell_type": "code",
   "execution_count": 45,
   "metadata": {
    "ExecuteTime": {
     "end_time": "2019-01-31T16:04:01.454690Z",
     "start_time": "2019-01-31T16:04:01.358433Z"
    }
   },
   "outputs": [
    {
     "data": {
      "image/png": "[encoded data removed]",
      "text/plain": [
       "<Figure size 432x288 with 1 Axes>"
      ]
     },
     "metadata": {
      "needs_background": "light"
     },
     "output_type": "display_data"
    }
   ],
   "source": [
    "fpr, tpr, thresholds = roc_curve(Y_test, knn_probs)\n",
    "\n",
    "plt.plot([0,1],[0,1], linestyle='--')\n",
    "plt.plot(fpr, tpr, marker='.')\n",
    "plt.show()"
   ]
  },
  {
   "cell_type": "markdown",
   "metadata": {},
   "source": [
    "### Gaussian Naive Bayes with default parameters"
   ]
  },
  {
   "cell_type": "code",
   "execution_count": 46,
   "metadata": {
    "ExecuteTime": {
     "end_time": "2019-01-31T16:04:01.460702Z",
     "start_time": "2019-01-31T16:04:01.456312Z"
    }
   },
   "outputs": [
    {
     "data": {
      "text/plain": [
       "GaussianNB(priors=None, var_smoothing=1e-09)"
      ]
     },
     "execution_count": 46,
     "metadata": {},
     "output_type": "execute_result"
    }
   ],
   "source": [
    "gnb = GaussianNB()\n",
    "gnb.fit(X_train, Y_train.values.ravel())"
   ]
  },
  {
   "cell_type": "code",
   "execution_count": 47,
   "metadata": {
    "ExecuteTime": {
     "end_time": "2019-01-31T16:04:01.650948Z",
     "start_time": "2019-01-31T16:04:01.462172Z"
    }
   },
   "outputs": [
    {
     "name": "stdout",
     "output_type": "stream",
     "text": [
      "Training accuracy:  0.8979591836734694\n",
      "Test accuracy:  0.8648648648648649\n",
      "Cross val score: 0.6938775510204082\n"
     ]
    }
   ],
   "source": [
    "print('Training accuracy: ', gnb.score(X_train, Y_train))\n",
    "print('Test accuracy: ', gnb.score(X_test, Y_test))\n",
    "print('Cross val score:', cross_val_score(estimator=gnb, X=X_train, y=Y_train.squeeze(), cv=LeaveOneOut()).mean())"
   ]
  },
  {
   "cell_type": "code",
   "execution_count": 48,
   "metadata": {
    "ExecuteTime": {
     "end_time": "2019-01-31T16:04:01.659288Z",
     "start_time": "2019-01-31T16:04:01.652270Z"
    }
   },
   "outputs": [
    {
     "name": "stdout",
     "output_type": "stream",
     "text": [
      "              precision    recall  f1-score   support\n",
      "\n",
      "          -1       0.80      1.00      0.89        20\n",
      "           1       1.00      0.71      0.83        17\n",
      "\n",
      "   micro avg       0.86      0.86      0.86        37\n",
      "   macro avg       0.90      0.85      0.86        37\n",
      "weighted avg       0.89      0.86      0.86        37\n",
      "\n",
      "AUC: 0.988235294117647\n"
     ]
    }
   ],
   "source": [
    "gnb_pred = gnb.predict(X_test)\n",
    "print(classification_report(Y_test, gnb_pred))\n",
    "\n",
    "gnb_probs = gnb.predict_proba(X_test)\n",
    "gnb_probs = gnb_probs[:,1]\n",
    "gnb_auc = roc_auc_score(Y_test, gnb_probs)\n",
    "print('AUC: {}'.format(gnb_auc))"
   ]
  },
  {
   "cell_type": "code",
   "execution_count": 49,
   "metadata": {
    "ExecuteTime": {
     "end_time": "2019-01-31T16:04:01.760208Z",
     "start_time": "2019-01-31T16:04:01.660821Z"
    }
   },
   "outputs": [
    {
     "data": {
      "image/png": "[encoded data removed]",
      "text/plain": [
       "<Figure size 432x288 with 1 Axes>"
      ]
     },
     "metadata": {
      "needs_background": "light"
     },
     "output_type": "display_data"
    }
   ],
   "source": [
    "fpr, tpr, thresholds = roc_curve(Y_test, gnb_probs)\n",
    "\n",
    "plt.plot([0,1],[0,1], linestyle='--')\n",
    "plt.plot(fpr, tpr, marker='.')\n",
    "plt.xlabel('True Positive Rate')\n",
    "plt.ylabel('False Positive Rate')\n",
    "plt.title('ROC curve - Gaussian Naive Bayes')\n",
    "plt.show()"
   ]
  },
  {
   "cell_type": "code",
   "execution_count": 64,
   "metadata": {
    "ExecuteTime": {
     "end_time": "2019-01-31T16:07:27.626010Z",
     "start_time": "2019-01-31T16:07:27.615938Z"
    }
   },
   "outputs": [],
   "source": [
    "stacked_model = VotingClassifier(estimators=[\n",
    "            ('logit', logit), ('rf', rf), ('gnb', gnb), \n",
    "            ('l_boost', l_boost)], voting='soft', weights=[2, 2, 2, 2])"
   ]
  },
  {
   "cell_type": "code",
   "execution_count": 65,
   "metadata": {
    "ExecuteTime": {
     "end_time": "2019-01-31T16:07:49.678549Z",
     "start_time": "2019-01-31T16:07:29.083446Z"
    }
   },
   "outputs": [
    {
     "name": "stdout",
     "output_type": "stream",
     "text": [
      "Training accuracy:  1.0\n",
      "Test score 0.8648648648648649\n"
     ]
    },
    {
     "name": "stderr",
     "output_type": "stream",
     "text": [
      "/home/enock/miniconda3/envs/google-crash/lib/python3.6/site-packages/sklearn/linear_model/logistic.py:433: FutureWarning: Default solver will be changed to 'lbfgs' in 0.22. Specify a solver to silence this warning.\n",
      "  FutureWarning)\n",
      "/home/enock/miniconda3/envs/google-crash/lib/python3.6/site-packages/sklearn/linear_model/logistic.py:433: FutureWarning: Default solver will be changed to 'lbfgs' in 0.22. Specify a solver to silence this warning.\n",
      "  FutureWarning)\n",
      "/home/enock/miniconda3/envs/google-crash/lib/python3.6/site-packages/sklearn/linear_model/logistic.py:433: FutureWarning: Default solver will be changed to 'lbfgs' in 0.22. Specify a solver to silence this warning.\n",
      "  FutureWarning)\n",
      "/home/enock/miniconda3/envs/google-crash/lib/python3.6/site-packages/sklearn/linear_model/logistic.py:433: FutureWarning: Default solver will be changed to 'lbfgs' in 0.22. Specify a solver to silence this warning.\n",
      "  FutureWarning)\n",
      "/home/enock/miniconda3/envs/google-crash/lib/python3.6/site-packages/sklearn/linear_model/logistic.py:433: FutureWarning: Default solver will be changed to 'lbfgs' in 0.22. Specify a solver to silence this warning.\n",
      "  FutureWarning)\n",
      "/home/enock/miniconda3/envs/google-crash/lib/python3.6/site-packages/sklearn/linear_model/logistic.py:433: FutureWarning: Default solver will be changed to 'lbfgs' in 0.22. Specify a solver to silence this warning.\n",
      "  FutureWarning)\n",
      "/home/enock/miniconda3/envs/google-crash/lib/python3.6/site-packages/sklearn/linear_model/logistic.py:433: FutureWarning: Default solver will be changed to 'lbfgs' in 0.22. Specify a solver to silence this warning.\n",
      "  FutureWarning)\n",
      "/home/enock/miniconda3/envs/google-crash/lib/python3.6/site-packages/sklearn/linear_model/logistic.py:433: FutureWarning: Default solver will be changed to 'lbfgs' in 0.22. Specify a solver to silence this warning.\n",
      "  FutureWarning)\n",
      "/home/enock/miniconda3/envs/google-crash/lib/python3.6/site-packages/sklearn/linear_model/logistic.py:433: FutureWarning: Default solver will be changed to 'lbfgs' in 0.22. Specify a solver to silence this warning.\n",
      "  FutureWarning)\n",
      "/home/enock/miniconda3/envs/google-crash/lib/python3.6/site-packages/sklearn/linear_model/logistic.py:433: FutureWarning: Default solver will be changed to 'lbfgs' in 0.22. Specify a solver to silence this warning.\n",
      "  FutureWarning)\n",
      "/home/enock/miniconda3/envs/google-crash/lib/python3.6/site-packages/sklearn/linear_model/logistic.py:433: FutureWarning: Default solver will be changed to 'lbfgs' in 0.22. Specify a solver to silence this warning.\n",
      "  FutureWarning)\n",
      "/home/enock/miniconda3/envs/google-crash/lib/python3.6/site-packages/sklearn/linear_model/logistic.py:433: FutureWarning: Default solver will be changed to 'lbfgs' in 0.22. Specify a solver to silence this warning.\n",
      "  FutureWarning)\n",
      "/home/enock/miniconda3/envs/google-crash/lib/python3.6/site-packages/sklearn/linear_model/logistic.py:433: FutureWarning: Default solver will be changed to 'lbfgs' in 0.22. Specify a solver to silence this warning.\n",
      "  FutureWarning)\n",
      "/home/enock/miniconda3/envs/google-crash/lib/python3.6/site-packages/sklearn/linear_model/logistic.py:433: FutureWarning: Default solver will be changed to 'lbfgs' in 0.22. Specify a solver to silence this warning.\n",
      "  FutureWarning)\n",
      "/home/enock/miniconda3/envs/google-crash/lib/python3.6/site-packages/sklearn/linear_model/logistic.py:433: FutureWarning: Default solver will be changed to 'lbfgs' in 0.22. Specify a solver to silence this warning.\n",
      "  FutureWarning)\n",
      "/home/enock/miniconda3/envs/google-crash/lib/python3.6/site-packages/sklearn/linear_model/logistic.py:433: FutureWarning: Default solver will be changed to 'lbfgs' in 0.22. Specify a solver to silence this warning.\n",
      "  FutureWarning)\n",
      "/home/enock/miniconda3/envs/google-crash/lib/python3.6/site-packages/sklearn/linear_model/logistic.py:433: FutureWarning: Default solver will be changed to 'lbfgs' in 0.22. Specify a solver to silence this warning.\n",
      "  FutureWarning)\n",
      "/home/enock/miniconda3/envs/google-crash/lib/python3.6/site-packages/sklearn/linear_model/logistic.py:433: FutureWarning: Default solver will be changed to 'lbfgs' in 0.22. Specify a solver to silence this warning.\n",
      "  FutureWarning)\n",
      "/home/enock/miniconda3/envs/google-crash/lib/python3.6/site-packages/sklearn/linear_model/logistic.py:433: FutureWarning: Default solver will be changed to 'lbfgs' in 0.22. Specify a solver to silence this warning.\n",
      "  FutureWarning)\n",
      "/home/enock/miniconda3/envs/google-crash/lib/python3.6/site-packages/sklearn/linear_model/logistic.py:433: FutureWarning: Default solver will be changed to 'lbfgs' in 0.22. Specify a solver to silence this warning.\n",
      "  FutureWarning)\n",
      "/home/enock/miniconda3/envs/google-crash/lib/python3.6/site-packages/sklearn/linear_model/logistic.py:433: FutureWarning: Default solver will be changed to 'lbfgs' in 0.22. Specify a solver to silence this warning.\n",
      "  FutureWarning)\n",
      "/home/enock/miniconda3/envs/google-crash/lib/python3.6/site-packages/sklearn/linear_model/logistic.py:433: FutureWarning: Default solver will be changed to 'lbfgs' in 0.22. Specify a solver to silence this warning.\n",
      "  FutureWarning)\n",
      "/home/enock/miniconda3/envs/google-crash/lib/python3.6/site-packages/sklearn/linear_model/logistic.py:433: FutureWarning: Default solver will be changed to 'lbfgs' in 0.22. Specify a solver to silence this warning.\n",
      "  FutureWarning)\n",
      "/home/enock/miniconda3/envs/google-crash/lib/python3.6/site-packages/sklearn/linear_model/logistic.py:433: FutureWarning: Default solver will be changed to 'lbfgs' in 0.22. Specify a solver to silence this warning.\n",
      "  FutureWarning)\n",
      "/home/enock/miniconda3/envs/google-crash/lib/python3.6/site-packages/sklearn/linear_model/logistic.py:433: FutureWarning: Default solver will be changed to 'lbfgs' in 0.22. Specify a solver to silence this warning.\n",
      "  FutureWarning)\n",
      "/home/enock/miniconda3/envs/google-crash/lib/python3.6/site-packages/sklearn/linear_model/logistic.py:433: FutureWarning: Default solver will be changed to 'lbfgs' in 0.22. Specify a solver to silence this warning.\n",
      "  FutureWarning)\n",
      "/home/enock/miniconda3/envs/google-crash/lib/python3.6/site-packages/sklearn/linear_model/logistic.py:433: FutureWarning: Default solver will be changed to 'lbfgs' in 0.22. Specify a solver to silence this warning.\n",
      "  FutureWarning)\n",
      "/home/enock/miniconda3/envs/google-crash/lib/python3.6/site-packages/sklearn/linear_model/logistic.py:433: FutureWarning: Default solver will be changed to 'lbfgs' in 0.22. Specify a solver to silence this warning.\n",
      "  FutureWarning)\n",
      "/home/enock/miniconda3/envs/google-crash/lib/python3.6/site-packages/sklearn/linear_model/logistic.py:433: FutureWarning: Default solver will be changed to 'lbfgs' in 0.22. Specify a solver to silence this warning.\n",
      "  FutureWarning)\n",
      "/home/enock/miniconda3/envs/google-crash/lib/python3.6/site-packages/sklearn/linear_model/logistic.py:433: FutureWarning: Default solver will be changed to 'lbfgs' in 0.22. Specify a solver to silence this warning.\n",
      "  FutureWarning)\n",
      "/home/enock/miniconda3/envs/google-crash/lib/python3.6/site-packages/sklearn/linear_model/logistic.py:433: FutureWarning: Default solver will be changed to 'lbfgs' in 0.22. Specify a solver to silence this warning.\n",
      "  FutureWarning)\n",
      "/home/enock/miniconda3/envs/google-crash/lib/python3.6/site-packages/sklearn/linear_model/logistic.py:433: FutureWarning: Default solver will be changed to 'lbfgs' in 0.22. Specify a solver to silence this warning.\n",
      "  FutureWarning)\n",
      "/home/enock/miniconda3/envs/google-crash/lib/python3.6/site-packages/sklearn/linear_model/logistic.py:433: FutureWarning: Default solver will be changed to 'lbfgs' in 0.22. Specify a solver to silence this warning.\n",
      "  FutureWarning)\n",
      "/home/enock/miniconda3/envs/google-crash/lib/python3.6/site-packages/sklearn/linear_model/logistic.py:433: FutureWarning: Default solver will be changed to 'lbfgs' in 0.22. Specify a solver to silence this warning.\n",
      "  FutureWarning)\n",
      "/home/enock/miniconda3/envs/google-crash/lib/python3.6/site-packages/sklearn/linear_model/logistic.py:433: FutureWarning: Default solver will be changed to 'lbfgs' in 0.22. Specify a solver to silence this warning.\n",
      "  FutureWarning)\n",
      "/home/enock/miniconda3/envs/google-crash/lib/python3.6/site-packages/sklearn/linear_model/logistic.py:433: FutureWarning: Default solver will be changed to 'lbfgs' in 0.22. Specify a solver to silence this warning.\n",
      "  FutureWarning)\n",
      "/home/enock/miniconda3/envs/google-crash/lib/python3.6/site-packages/sklearn/linear_model/logistic.py:433: FutureWarning: Default solver will be changed to 'lbfgs' in 0.22. Specify a solver to silence this warning.\n",
      "  FutureWarning)\n",
      "/home/enock/miniconda3/envs/google-crash/lib/python3.6/site-packages/sklearn/linear_model/logistic.py:433: FutureWarning: Default solver will be changed to 'lbfgs' in 0.22. Specify a solver to silence this warning.\n",
      "  FutureWarning)\n",
      "/home/enock/miniconda3/envs/google-crash/lib/python3.6/site-packages/sklearn/linear_model/logistic.py:433: FutureWarning: Default solver will be changed to 'lbfgs' in 0.22. Specify a solver to silence this warning.\n",
      "  FutureWarning)\n",
      "/home/enock/miniconda3/envs/google-crash/lib/python3.6/site-packages/sklearn/linear_model/logistic.py:433: FutureWarning: Default solver will be changed to 'lbfgs' in 0.22. Specify a solver to silence this warning.\n",
      "  FutureWarning)\n",
      "/home/enock/miniconda3/envs/google-crash/lib/python3.6/site-packages/sklearn/linear_model/logistic.py:433: FutureWarning: Default solver will be changed to 'lbfgs' in 0.22. Specify a solver to silence this warning.\n",
      "  FutureWarning)\n",
      "/home/enock/miniconda3/envs/google-crash/lib/python3.6/site-packages/sklearn/linear_model/logistic.py:433: FutureWarning: Default solver will be changed to 'lbfgs' in 0.22. Specify a solver to silence this warning.\n",
      "  FutureWarning)\n",
      "/home/enock/miniconda3/envs/google-crash/lib/python3.6/site-packages/sklearn/linear_model/logistic.py:433: FutureWarning: Default solver will be changed to 'lbfgs' in 0.22. Specify a solver to silence this warning.\n",
      "  FutureWarning)\n",
      "/home/enock/miniconda3/envs/google-crash/lib/python3.6/site-packages/sklearn/linear_model/logistic.py:433: FutureWarning: Default solver will be changed to 'lbfgs' in 0.22. Specify a solver to silence this warning.\n",
      "  FutureWarning)\n",
      "/home/enock/miniconda3/envs/google-crash/lib/python3.6/site-packages/sklearn/linear_model/logistic.py:433: FutureWarning: Default solver will be changed to 'lbfgs' in 0.22. Specify a solver to silence this warning.\n",
      "  FutureWarning)\n",
      "/home/enock/miniconda3/envs/google-crash/lib/python3.6/site-packages/sklearn/linear_model/logistic.py:433: FutureWarning: Default solver will be changed to 'lbfgs' in 0.22. Specify a solver to silence this warning.\n",
      "  FutureWarning)\n",
      "/home/enock/miniconda3/envs/google-crash/lib/python3.6/site-packages/sklearn/linear_model/logistic.py:433: FutureWarning: Default solver will be changed to 'lbfgs' in 0.22. Specify a solver to silence this warning.\n",
      "  FutureWarning)\n",
      "/home/enock/miniconda3/envs/google-crash/lib/python3.6/site-packages/sklearn/linear_model/logistic.py:433: FutureWarning: Default solver will be changed to 'lbfgs' in 0.22. Specify a solver to silence this warning.\n",
      "  FutureWarning)\n",
      "/home/enock/miniconda3/envs/google-crash/lib/python3.6/site-packages/sklearn/linear_model/logistic.py:433: FutureWarning: Default solver will be changed to 'lbfgs' in 0.22. Specify a solver to silence this warning.\n",
      "  FutureWarning)\n",
      "/home/enock/miniconda3/envs/google-crash/lib/python3.6/site-packages/sklearn/linear_model/logistic.py:433: FutureWarning: Default solver will be changed to 'lbfgs' in 0.22. Specify a solver to silence this warning.\n",
      "  FutureWarning)\n",
      "/home/enock/miniconda3/envs/google-crash/lib/python3.6/site-packages/sklearn/linear_model/logistic.py:433: FutureWarning: Default solver will be changed to 'lbfgs' in 0.22. Specify a solver to silence this warning.\n",
      "  FutureWarning)\n",
      "/home/enock/miniconda3/envs/google-crash/lib/python3.6/site-packages/sklearn/linear_model/logistic.py:433: FutureWarning: Default solver will be changed to 'lbfgs' in 0.22. Specify a solver to silence this warning.\n",
      "  FutureWarning)\n",
      "/home/enock/miniconda3/envs/google-crash/lib/python3.6/site-packages/sklearn/linear_model/logistic.py:433: FutureWarning: Default solver will be changed to 'lbfgs' in 0.22. Specify a solver to silence this warning.\n",
      "  FutureWarning)\n",
      "/home/enock/miniconda3/envs/google-crash/lib/python3.6/site-packages/sklearn/linear_model/logistic.py:433: FutureWarning: Default solver will be changed to 'lbfgs' in 0.22. Specify a solver to silence this warning.\n",
      "  FutureWarning)\n",
      "/home/enock/miniconda3/envs/google-crash/lib/python3.6/site-packages/sklearn/linear_model/logistic.py:433: FutureWarning: Default solver will be changed to 'lbfgs' in 0.22. Specify a solver to silence this warning.\n",
      "  FutureWarning)\n",
      "/home/enock/miniconda3/envs/google-crash/lib/python3.6/site-packages/sklearn/linear_model/logistic.py:433: FutureWarning: Default solver will be changed to 'lbfgs' in 0.22. Specify a solver to silence this warning.\n",
      "  FutureWarning)\n",
      "/home/enock/miniconda3/envs/google-crash/lib/python3.6/site-packages/sklearn/linear_model/logistic.py:433: FutureWarning: Default solver will be changed to 'lbfgs' in 0.22. Specify a solver to silence this warning.\n",
      "  FutureWarning)\n",
      "/home/enock/miniconda3/envs/google-crash/lib/python3.6/site-packages/sklearn/linear_model/logistic.py:433: FutureWarning: Default solver will be changed to 'lbfgs' in 0.22. Specify a solver to silence this warning.\n",
      "  FutureWarning)\n",
      "/home/enock/miniconda3/envs/google-crash/lib/python3.6/site-packages/sklearn/linear_model/logistic.py:433: FutureWarning: Default solver will be changed to 'lbfgs' in 0.22. Specify a solver to silence this warning.\n",
      "  FutureWarning)\n",
      "/home/enock/miniconda3/envs/google-crash/lib/python3.6/site-packages/sklearn/linear_model/logistic.py:433: FutureWarning: Default solver will be changed to 'lbfgs' in 0.22. Specify a solver to silence this warning.\n",
      "  FutureWarning)\n",
      "/home/enock/miniconda3/envs/google-crash/lib/python3.6/site-packages/sklearn/linear_model/logistic.py:433: FutureWarning: Default solver will be changed to 'lbfgs' in 0.22. Specify a solver to silence this warning.\n",
      "  FutureWarning)\n",
      "/home/enock/miniconda3/envs/google-crash/lib/python3.6/site-packages/sklearn/linear_model/logistic.py:433: FutureWarning: Default solver will be changed to 'lbfgs' in 0.22. Specify a solver to silence this warning.\n",
      "  FutureWarning)\n",
      "/home/enock/miniconda3/envs/google-crash/lib/python3.6/site-packages/sklearn/linear_model/logistic.py:433: FutureWarning: Default solver will be changed to 'lbfgs' in 0.22. Specify a solver to silence this warning.\n",
      "  FutureWarning)\n",
      "/home/enock/miniconda3/envs/google-crash/lib/python3.6/site-packages/sklearn/linear_model/logistic.py:433: FutureWarning: Default solver will be changed to 'lbfgs' in 0.22. Specify a solver to silence this warning.\n",
      "  FutureWarning)\n",
      "/home/enock/miniconda3/envs/google-crash/lib/python3.6/site-packages/sklearn/linear_model/logistic.py:433: FutureWarning: Default solver will be changed to 'lbfgs' in 0.22. Specify a solver to silence this warning.\n",
      "  FutureWarning)\n",
      "/home/enock/miniconda3/envs/google-crash/lib/python3.6/site-packages/sklearn/linear_model/logistic.py:433: FutureWarning: Default solver will be changed to 'lbfgs' in 0.22. Specify a solver to silence this warning.\n",
      "  FutureWarning)\n",
      "/home/enock/miniconda3/envs/google-crash/lib/python3.6/site-packages/sklearn/linear_model/logistic.py:433: FutureWarning: Default solver will be changed to 'lbfgs' in 0.22. Specify a solver to silence this warning.\n",
      "  FutureWarning)\n",
      "/home/enock/miniconda3/envs/google-crash/lib/python3.6/site-packages/sklearn/linear_model/logistic.py:433: FutureWarning: Default solver will be changed to 'lbfgs' in 0.22. Specify a solver to silence this warning.\n",
      "  FutureWarning)\n",
      "/home/enock/miniconda3/envs/google-crash/lib/python3.6/site-packages/sklearn/linear_model/logistic.py:433: FutureWarning: Default solver will be changed to 'lbfgs' in 0.22. Specify a solver to silence this warning.\n",
      "  FutureWarning)\n",
      "/home/enock/miniconda3/envs/google-crash/lib/python3.6/site-packages/sklearn/linear_model/logistic.py:433: FutureWarning: Default solver will be changed to 'lbfgs' in 0.22. Specify a solver to silence this warning.\n",
      "  FutureWarning)\n",
      "/home/enock/miniconda3/envs/google-crash/lib/python3.6/site-packages/sklearn/linear_model/logistic.py:433: FutureWarning: Default solver will be changed to 'lbfgs' in 0.22. Specify a solver to silence this warning.\n",
      "  FutureWarning)\n",
      "/home/enock/miniconda3/envs/google-crash/lib/python3.6/site-packages/sklearn/linear_model/logistic.py:433: FutureWarning: Default solver will be changed to 'lbfgs' in 0.22. Specify a solver to silence this warning.\n",
      "  FutureWarning)\n",
      "/home/enock/miniconda3/envs/google-crash/lib/python3.6/site-packages/sklearn/linear_model/logistic.py:433: FutureWarning: Default solver will be changed to 'lbfgs' in 0.22. Specify a solver to silence this warning.\n",
      "  FutureWarning)\n",
      "/home/enock/miniconda3/envs/google-crash/lib/python3.6/site-packages/sklearn/linear_model/logistic.py:433: FutureWarning: Default solver will be changed to 'lbfgs' in 0.22. Specify a solver to silence this warning.\n",
      "  FutureWarning)\n",
      "/home/enock/miniconda3/envs/google-crash/lib/python3.6/site-packages/sklearn/linear_model/logistic.py:433: FutureWarning: Default solver will be changed to 'lbfgs' in 0.22. Specify a solver to silence this warning.\n",
      "  FutureWarning)\n",
      "/home/enock/miniconda3/envs/google-crash/lib/python3.6/site-packages/sklearn/linear_model/logistic.py:433: FutureWarning: Default solver will be changed to 'lbfgs' in 0.22. Specify a solver to silence this warning.\n",
      "  FutureWarning)\n",
      "/home/enock/miniconda3/envs/google-crash/lib/python3.6/site-packages/sklearn/linear_model/logistic.py:433: FutureWarning: Default solver will be changed to 'lbfgs' in 0.22. Specify a solver to silence this warning.\n",
      "  FutureWarning)\n",
      "/home/enock/miniconda3/envs/google-crash/lib/python3.6/site-packages/sklearn/linear_model/logistic.py:433: FutureWarning: Default solver will be changed to 'lbfgs' in 0.22. Specify a solver to silence this warning.\n",
      "  FutureWarning)\n",
      "/home/enock/miniconda3/envs/google-crash/lib/python3.6/site-packages/sklearn/linear_model/logistic.py:433: FutureWarning: Default solver will be changed to 'lbfgs' in 0.22. Specify a solver to silence this warning.\n",
      "  FutureWarning)\n",
      "/home/enock/miniconda3/envs/google-crash/lib/python3.6/site-packages/sklearn/linear_model/logistic.py:433: FutureWarning: Default solver will be changed to 'lbfgs' in 0.22. Specify a solver to silence this warning.\n",
      "  FutureWarning)\n",
      "/home/enock/miniconda3/envs/google-crash/lib/python3.6/site-packages/sklearn/linear_model/logistic.py:433: FutureWarning: Default solver will be changed to 'lbfgs' in 0.22. Specify a solver to silence this warning.\n",
      "  FutureWarning)\n",
      "/home/enock/miniconda3/envs/google-crash/lib/python3.6/site-packages/sklearn/linear_model/logistic.py:433: FutureWarning: Default solver will be changed to 'lbfgs' in 0.22. Specify a solver to silence this warning.\n",
      "  FutureWarning)\n",
      "/home/enock/miniconda3/envs/google-crash/lib/python3.6/site-packages/sklearn/linear_model/logistic.py:433: FutureWarning: Default solver will be changed to 'lbfgs' in 0.22. Specify a solver to silence this warning.\n",
      "  FutureWarning)\n",
      "/home/enock/miniconda3/envs/google-crash/lib/python3.6/site-packages/sklearn/linear_model/logistic.py:433: FutureWarning: Default solver will be changed to 'lbfgs' in 0.22. Specify a solver to silence this warning.\n",
      "  FutureWarning)\n",
      "/home/enock/miniconda3/envs/google-crash/lib/python3.6/site-packages/sklearn/linear_model/logistic.py:433: FutureWarning: Default solver will be changed to 'lbfgs' in 0.22. Specify a solver to silence this warning.\n",
      "  FutureWarning)\n",
      "/home/enock/miniconda3/envs/google-crash/lib/python3.6/site-packages/sklearn/linear_model/logistic.py:433: FutureWarning: Default solver will be changed to 'lbfgs' in 0.22. Specify a solver to silence this warning.\n",
      "  FutureWarning)\n",
      "/home/enock/miniconda3/envs/google-crash/lib/python3.6/site-packages/sklearn/linear_model/logistic.py:433: FutureWarning: Default solver will be changed to 'lbfgs' in 0.22. Specify a solver to silence this warning.\n",
      "  FutureWarning)\n",
      "/home/enock/miniconda3/envs/google-crash/lib/python3.6/site-packages/sklearn/linear_model/logistic.py:433: FutureWarning: Default solver will be changed to 'lbfgs' in 0.22. Specify a solver to silence this warning.\n",
      "  FutureWarning)\n",
      "/home/enock/miniconda3/envs/google-crash/lib/python3.6/site-packages/sklearn/linear_model/logistic.py:433: FutureWarning: Default solver will be changed to 'lbfgs' in 0.22. Specify a solver to silence this warning.\n",
      "  FutureWarning)\n",
      "/home/enock/miniconda3/envs/google-crash/lib/python3.6/site-packages/sklearn/linear_model/logistic.py:433: FutureWarning: Default solver will be changed to 'lbfgs' in 0.22. Specify a solver to silence this warning.\n",
      "  FutureWarning)\n",
      "/home/enock/miniconda3/envs/google-crash/lib/python3.6/site-packages/sklearn/linear_model/logistic.py:433: FutureWarning: Default solver will be changed to 'lbfgs' in 0.22. Specify a solver to silence this warning.\n",
      "  FutureWarning)\n",
      "/home/enock/miniconda3/envs/google-crash/lib/python3.6/site-packages/sklearn/linear_model/logistic.py:433: FutureWarning: Default solver will be changed to 'lbfgs' in 0.22. Specify a solver to silence this warning.\n",
      "  FutureWarning)\n",
      "/home/enock/miniconda3/envs/google-crash/lib/python3.6/site-packages/sklearn/linear_model/logistic.py:433: FutureWarning: Default solver will be changed to 'lbfgs' in 0.22. Specify a solver to silence this warning.\n",
      "  FutureWarning)\n",
      "/home/enock/miniconda3/envs/google-crash/lib/python3.6/site-packages/sklearn/linear_model/logistic.py:433: FutureWarning: Default solver will be changed to 'lbfgs' in 0.22. Specify a solver to silence this warning.\n",
      "  FutureWarning)\n",
      "/home/enock/miniconda3/envs/google-crash/lib/python3.6/site-packages/sklearn/linear_model/logistic.py:433: FutureWarning: Default solver will be changed to 'lbfgs' in 0.22. Specify a solver to silence this warning.\n",
      "  FutureWarning)\n",
      "/home/enock/miniconda3/envs/google-crash/lib/python3.6/site-packages/sklearn/linear_model/logistic.py:433: FutureWarning: Default solver will be changed to 'lbfgs' in 0.22. Specify a solver to silence this warning.\n",
      "  FutureWarning)\n",
      "/home/enock/miniconda3/envs/google-crash/lib/python3.6/site-packages/sklearn/linear_model/logistic.py:433: FutureWarning: Default solver will be changed to 'lbfgs' in 0.22. Specify a solver to silence this warning.\n",
      "  FutureWarning)\n",
      "/home/enock/miniconda3/envs/google-crash/lib/python3.6/site-packages/sklearn/linear_model/logistic.py:433: FutureWarning: Default solver will be changed to 'lbfgs' in 0.22. Specify a solver to silence this warning.\n",
      "  FutureWarning)\n",
      "/home/enock/miniconda3/envs/google-crash/lib/python3.6/site-packages/sklearn/linear_model/logistic.py:433: FutureWarning: Default solver will be changed to 'lbfgs' in 0.22. Specify a solver to silence this warning.\n",
      "  FutureWarning)\n",
      "/home/enock/miniconda3/envs/google-crash/lib/python3.6/site-packages/sklearn/linear_model/logistic.py:433: FutureWarning: Default solver will be changed to 'lbfgs' in 0.22. Specify a solver to silence this warning.\n",
      "  FutureWarning)\n",
      "/home/enock/miniconda3/envs/google-crash/lib/python3.6/site-packages/sklearn/linear_model/logistic.py:433: FutureWarning: Default solver will be changed to 'lbfgs' in 0.22. Specify a solver to silence this warning.\n",
      "  FutureWarning)\n",
      "/home/enock/miniconda3/envs/google-crash/lib/python3.6/site-packages/sklearn/linear_model/logistic.py:433: FutureWarning: Default solver will be changed to 'lbfgs' in 0.22. Specify a solver to silence this warning.\n",
      "  FutureWarning)\n",
      "/home/enock/miniconda3/envs/google-crash/lib/python3.6/site-packages/sklearn/linear_model/logistic.py:433: FutureWarning: Default solver will be changed to 'lbfgs' in 0.22. Specify a solver to silence this warning.\n",
      "  FutureWarning)\n",
      "/home/enock/miniconda3/envs/google-crash/lib/python3.6/site-packages/sklearn/linear_model/logistic.py:433: FutureWarning: Default solver will be changed to 'lbfgs' in 0.22. Specify a solver to silence this warning.\n",
      "  FutureWarning)\n",
      "/home/enock/miniconda3/envs/google-crash/lib/python3.6/site-packages/sklearn/linear_model/logistic.py:433: FutureWarning: Default solver will be changed to 'lbfgs' in 0.22. Specify a solver to silence this warning.\n",
      "  FutureWarning)\n",
      "/home/enock/miniconda3/envs/google-crash/lib/python3.6/site-packages/sklearn/linear_model/logistic.py:433: FutureWarning: Default solver will be changed to 'lbfgs' in 0.22. Specify a solver to silence this warning.\n",
      "  FutureWarning)\n",
      "/home/enock/miniconda3/envs/google-crash/lib/python3.6/site-packages/sklearn/linear_model/logistic.py:433: FutureWarning: Default solver will be changed to 'lbfgs' in 0.22. Specify a solver to silence this warning.\n",
      "  FutureWarning)\n",
      "/home/enock/miniconda3/envs/google-crash/lib/python3.6/site-packages/sklearn/linear_model/logistic.py:433: FutureWarning: Default solver will be changed to 'lbfgs' in 0.22. Specify a solver to silence this warning.\n",
      "  FutureWarning)\n",
      "/home/enock/miniconda3/envs/google-crash/lib/python3.6/site-packages/sklearn/linear_model/logistic.py:433: FutureWarning: Default solver will be changed to 'lbfgs' in 0.22. Specify a solver to silence this warning.\n",
      "  FutureWarning)\n",
      "/home/enock/miniconda3/envs/google-crash/lib/python3.6/site-packages/sklearn/linear_model/logistic.py:433: FutureWarning: Default solver will be changed to 'lbfgs' in 0.22. Specify a solver to silence this warning.\n",
      "  FutureWarning)\n",
      "/home/enock/miniconda3/envs/google-crash/lib/python3.6/site-packages/sklearn/linear_model/logistic.py:433: FutureWarning: Default solver will be changed to 'lbfgs' in 0.22. Specify a solver to silence this warning.\n",
      "  FutureWarning)\n",
      "/home/enock/miniconda3/envs/google-crash/lib/python3.6/site-packages/sklearn/linear_model/logistic.py:433: FutureWarning: Default solver will be changed to 'lbfgs' in 0.22. Specify a solver to silence this warning.\n",
      "  FutureWarning)\n",
      "/home/enock/miniconda3/envs/google-crash/lib/python3.6/site-packages/sklearn/linear_model/logistic.py:433: FutureWarning: Default solver will be changed to 'lbfgs' in 0.22. Specify a solver to silence this warning.\n",
      "  FutureWarning)\n",
      "/home/enock/miniconda3/envs/google-crash/lib/python3.6/site-packages/sklearn/linear_model/logistic.py:433: FutureWarning: Default solver will be changed to 'lbfgs' in 0.22. Specify a solver to silence this warning.\n",
      "  FutureWarning)\n",
      "/home/enock/miniconda3/envs/google-crash/lib/python3.6/site-packages/sklearn/linear_model/logistic.py:433: FutureWarning: Default solver will be changed to 'lbfgs' in 0.22. Specify a solver to silence this warning.\n",
      "  FutureWarning)\n",
      "/home/enock/miniconda3/envs/google-crash/lib/python3.6/site-packages/sklearn/linear_model/logistic.py:433: FutureWarning: Default solver will be changed to 'lbfgs' in 0.22. Specify a solver to silence this warning.\n",
      "  FutureWarning)\n",
      "/home/enock/miniconda3/envs/google-crash/lib/python3.6/site-packages/sklearn/linear_model/logistic.py:433: FutureWarning: Default solver will be changed to 'lbfgs' in 0.22. Specify a solver to silence this warning.\n",
      "  FutureWarning)\n",
      "/home/enock/miniconda3/envs/google-crash/lib/python3.6/site-packages/sklearn/linear_model/logistic.py:433: FutureWarning: Default solver will be changed to 'lbfgs' in 0.22. Specify a solver to silence this warning.\n",
      "  FutureWarning)\n",
      "/home/enock/miniconda3/envs/google-crash/lib/python3.6/site-packages/sklearn/linear_model/logistic.py:433: FutureWarning: Default solver will be changed to 'lbfgs' in 0.22. Specify a solver to silence this warning.\n",
      "  FutureWarning)\n",
      "/home/enock/miniconda3/envs/google-crash/lib/python3.6/site-packages/sklearn/linear_model/logistic.py:433: FutureWarning: Default solver will be changed to 'lbfgs' in 0.22. Specify a solver to silence this warning.\n",
      "  FutureWarning)\n",
      "/home/enock/miniconda3/envs/google-crash/lib/python3.6/site-packages/sklearn/linear_model/logistic.py:433: FutureWarning: Default solver will be changed to 'lbfgs' in 0.22. Specify a solver to silence this warning.\n",
      "  FutureWarning)\n",
      "/home/enock/miniconda3/envs/google-crash/lib/python3.6/site-packages/sklearn/linear_model/logistic.py:433: FutureWarning: Default solver will be changed to 'lbfgs' in 0.22. Specify a solver to silence this warning.\n",
      "  FutureWarning)\n",
      "/home/enock/miniconda3/envs/google-crash/lib/python3.6/site-packages/sklearn/linear_model/logistic.py:433: FutureWarning: Default solver will be changed to 'lbfgs' in 0.22. Specify a solver to silence this warning.\n",
      "  FutureWarning)\n",
      "/home/enock/miniconda3/envs/google-crash/lib/python3.6/site-packages/sklearn/linear_model/logistic.py:433: FutureWarning: Default solver will be changed to 'lbfgs' in 0.22. Specify a solver to silence this warning.\n",
      "  FutureWarning)\n",
      "/home/enock/miniconda3/envs/google-crash/lib/python3.6/site-packages/sklearn/linear_model/logistic.py:433: FutureWarning: Default solver will be changed to 'lbfgs' in 0.22. Specify a solver to silence this warning.\n",
      "  FutureWarning)\n",
      "/home/enock/miniconda3/envs/google-crash/lib/python3.6/site-packages/sklearn/linear_model/logistic.py:433: FutureWarning: Default solver will be changed to 'lbfgs' in 0.22. Specify a solver to silence this warning.\n",
      "  FutureWarning)\n",
      "/home/enock/miniconda3/envs/google-crash/lib/python3.6/site-packages/sklearn/linear_model/logistic.py:433: FutureWarning: Default solver will be changed to 'lbfgs' in 0.22. Specify a solver to silence this warning.\n",
      "  FutureWarning)\n",
      "/home/enock/miniconda3/envs/google-crash/lib/python3.6/site-packages/sklearn/linear_model/logistic.py:433: FutureWarning: Default solver will be changed to 'lbfgs' in 0.22. Specify a solver to silence this warning.\n",
      "  FutureWarning)\n",
      "/home/enock/miniconda3/envs/google-crash/lib/python3.6/site-packages/sklearn/linear_model/logistic.py:433: FutureWarning: Default solver will be changed to 'lbfgs' in 0.22. Specify a solver to silence this warning.\n",
      "  FutureWarning)\n",
      "/home/enock/miniconda3/envs/google-crash/lib/python3.6/site-packages/sklearn/linear_model/logistic.py:433: FutureWarning: Default solver will be changed to 'lbfgs' in 0.22. Specify a solver to silence this warning.\n",
      "  FutureWarning)\n",
      "/home/enock/miniconda3/envs/google-crash/lib/python3.6/site-packages/sklearn/linear_model/logistic.py:433: FutureWarning: Default solver will be changed to 'lbfgs' in 0.22. Specify a solver to silence this warning.\n",
      "  FutureWarning)\n",
      "/home/enock/miniconda3/envs/google-crash/lib/python3.6/site-packages/sklearn/linear_model/logistic.py:433: FutureWarning: Default solver will be changed to 'lbfgs' in 0.22. Specify a solver to silence this warning.\n",
      "  FutureWarning)\n",
      "/home/enock/miniconda3/envs/google-crash/lib/python3.6/site-packages/sklearn/linear_model/logistic.py:433: FutureWarning: Default solver will be changed to 'lbfgs' in 0.22. Specify a solver to silence this warning.\n",
      "  FutureWarning)\n",
      "/home/enock/miniconda3/envs/google-crash/lib/python3.6/site-packages/sklearn/linear_model/logistic.py:433: FutureWarning: Default solver will be changed to 'lbfgs' in 0.22. Specify a solver to silence this warning.\n",
      "  FutureWarning)\n",
      "/home/enock/miniconda3/envs/google-crash/lib/python3.6/site-packages/sklearn/linear_model/logistic.py:433: FutureWarning: Default solver will be changed to 'lbfgs' in 0.22. Specify a solver to silence this warning.\n",
      "  FutureWarning)\n",
      "/home/enock/miniconda3/envs/google-crash/lib/python3.6/site-packages/sklearn/linear_model/logistic.py:433: FutureWarning: Default solver will be changed to 'lbfgs' in 0.22. Specify a solver to silence this warning.\n",
      "  FutureWarning)\n",
      "/home/enock/miniconda3/envs/google-crash/lib/python3.6/site-packages/sklearn/linear_model/logistic.py:433: FutureWarning: Default solver will be changed to 'lbfgs' in 0.22. Specify a solver to silence this warning.\n",
      "  FutureWarning)\n",
      "/home/enock/miniconda3/envs/google-crash/lib/python3.6/site-packages/sklearn/linear_model/logistic.py:433: FutureWarning: Default solver will be changed to 'lbfgs' in 0.22. Specify a solver to silence this warning.\n",
      "  FutureWarning)\n",
      "/home/enock/miniconda3/envs/google-crash/lib/python3.6/site-packages/sklearn/linear_model/logistic.py:433: FutureWarning: Default solver will be changed to 'lbfgs' in 0.22. Specify a solver to silence this warning.\n",
      "  FutureWarning)\n",
      "/home/enock/miniconda3/envs/google-crash/lib/python3.6/site-packages/sklearn/linear_model/logistic.py:433: FutureWarning: Default solver will be changed to 'lbfgs' in 0.22. Specify a solver to silence this warning.\n",
      "  FutureWarning)\n",
      "/home/enock/miniconda3/envs/google-crash/lib/python3.6/site-packages/sklearn/linear_model/logistic.py:433: FutureWarning: Default solver will be changed to 'lbfgs' in 0.22. Specify a solver to silence this warning.\n",
      "  FutureWarning)\n",
      "/home/enock/miniconda3/envs/google-crash/lib/python3.6/site-packages/sklearn/linear_model/logistic.py:433: FutureWarning: Default solver will be changed to 'lbfgs' in 0.22. Specify a solver to silence this warning.\n",
      "  FutureWarning)\n",
      "/home/enock/miniconda3/envs/google-crash/lib/python3.6/site-packages/sklearn/linear_model/logistic.py:433: FutureWarning: Default solver will be changed to 'lbfgs' in 0.22. Specify a solver to silence this warning.\n",
      "  FutureWarning)\n",
      "/home/enock/miniconda3/envs/google-crash/lib/python3.6/site-packages/sklearn/linear_model/logistic.py:433: FutureWarning: Default solver will be changed to 'lbfgs' in 0.22. Specify a solver to silence this warning.\n",
      "  FutureWarning)\n",
      "/home/enock/miniconda3/envs/google-crash/lib/python3.6/site-packages/sklearn/linear_model/logistic.py:433: FutureWarning: Default solver will be changed to 'lbfgs' in 0.22. Specify a solver to silence this warning.\n",
      "  FutureWarning)\n",
      "/home/enock/miniconda3/envs/google-crash/lib/python3.6/site-packages/sklearn/linear_model/logistic.py:433: FutureWarning: Default solver will be changed to 'lbfgs' in 0.22. Specify a solver to silence this warning.\n",
      "  FutureWarning)\n",
      "/home/enock/miniconda3/envs/google-crash/lib/python3.6/site-packages/sklearn/linear_model/logistic.py:433: FutureWarning: Default solver will be changed to 'lbfgs' in 0.22. Specify a solver to silence this warning.\n",
      "  FutureWarning)\n"
     ]
    },
    {
     "name": "stdout",
     "output_type": "stream",
     "text": [
      "Cross val score: 0.8027210884353742\n",
      "[False  True  True  True  True  True  True  True  True  True  True  True\n",
      "  True  True  True  True  True  True False  True  True  True False  True\n",
      "  True False  True  True  True  True  True  True  True  True  True False\n",
      "  True]\n"
     ]
    },
    {
     "name": "stderr",
     "output_type": "stream",
     "text": [
      "/home/enock/miniconda3/envs/google-crash/lib/python3.6/site-packages/sklearn/linear_model/logistic.py:433: FutureWarning: Default solver will be changed to 'lbfgs' in 0.22. Specify a solver to silence this warning.\n",
      "  FutureWarning)\n"
     ]
    }
   ],
   "source": [
    "stacked_model.fit(X_train, Y_train.values.ravel())\n",
    "print('Training accuracy: ', stacked_model.score(X_train, Y_train))\n",
    "print('Test score', stacked_model.score(X_test, Y_test))\n",
    "print('Cross val score:', cross_val_score(estimator=stacked_model, X=X_train, y=Y_train.values.ravel(), cv=LeaveOneOut()).mean())\n",
    "print(stacked_model.predict(X_test) == Y_test.values.ravel())"
   ]
  },
  {
   "cell_type": "code",
   "execution_count": 66,
   "metadata": {
    "ExecuteTime": {
     "end_time": "2019-01-31T16:07:50.958479Z",
     "start_time": "2019-01-31T16:07:50.949815Z"
    }
   },
   "outputs": [
    {
     "data": {
      "text/plain": [
       "25"
      ]
     },
     "execution_count": 66,
     "metadata": {},
     "output_type": "execute_result"
    }
   ],
   "source": [
    "np.count_nonzero(stacked_model.predict(X_test) == -1)"
   ]
  },
  {
   "cell_type": "code",
   "execution_count": 67,
   "metadata": {
    "ExecuteTime": {
     "end_time": "2019-01-31T16:08:10.507073Z",
     "start_time": "2019-01-31T16:08:10.479149Z"
    }
   },
   "outputs": [
    {
     "name": "stdout",
     "output_type": "stream",
     "text": [
      "              precision    recall  f1-score   support\n",
      "\n",
      "          -1       0.80      1.00      0.89        20\n",
      "           1       1.00      0.71      0.83        17\n",
      "\n",
      "   micro avg       0.86      0.86      0.86        37\n",
      "   macro avg       0.90      0.85      0.86        37\n",
      "weighted avg       0.89      0.86      0.86        37\n",
      "\n",
      "AUC: 0.9941176470588234\n"
     ]
    }
   ],
   "source": [
    "stacked_model_pred = stacked_model.predict(X_test)\n",
    "print(classification_report(Y_test, stacked_model_pred))\n",
    "\n",
    "stacked_model_probs = stacked_model.predict_proba(X_test)\n",
    "stacked_model_probs = stacked_model_probs[:,1]\n",
    "stacked_model_auc = roc_auc_score(Y_test, stacked_model_probs)\n",
    "print('AUC: {}'.format(stacked_model_auc))"
   ]
  },
  {
   "cell_type": "code",
   "execution_count": 54,
   "metadata": {
    "ExecuteTime": {
     "end_time": "2019-01-31T16:04:23.034076Z",
     "start_time": "2019-01-31T16:04:22.936416Z"
    }
   },
   "outputs": [
    {
     "data": {
      "image/png": "[encoded data removed]",
      "text/plain": [
       "<Figure size 432x288 with 1 Axes>"
      ]
     },
     "metadata": {
      "needs_background": "light"
     },
     "output_type": "display_data"
    }
   ],
   "source": [
    "fpr, tpr, thresholds = roc_curve(Y_test, stacked_model_probs)\n",
    "\n",
    "plt.plot([0,1],[0,1], linestyle='--')\n",
    "plt.xlabel('True Positive Rate')\n",
    "plt.ylabel('False Positive Rate')\n",
    "plt.title('ROC curve Voting Classifier')\n",
    "plt.plot(fpr, tpr, marker='.')\n",
    "plt.show()"
   ]
  },
  {
   "cell_type": "code",
   "execution_count": 62,
   "metadata": {
    "ExecuteTime": {
     "end_time": "2019-01-31T16:04:51.767374Z",
     "start_time": "2019-01-31T16:04:51.721108Z"
    }
   },
   "outputs": [
    {
     "data": {
      "text/plain": [
       "0"
      ]
     },
     "execution_count": 62,
     "metadata": {},
     "output_type": "execute_result"
    }
   ],
   "source": [
    "np.count_nonzero(stacked_model.predict(xtest) == 1)"
   ]
  },
  {
   "cell_type": "code",
   "execution_count": 63,
   "metadata": {
    "ExecuteTime": {
     "end_time": "2019-01-31T16:04:55.836109Z",
     "start_time": "2019-01-31T16:04:55.790222Z"
    }
   },
   "outputs": [
    {
     "data": {
      "text/plain": [
       "0     0.255532\n",
       "1     0.252532\n",
       "2     0.255532\n",
       "3     0.252532\n",
       "4     0.252532\n",
       "5     0.249532\n",
       "6     0.252532\n",
       "7     0.255532\n",
       "8     0.252532\n",
       "9     0.249532\n",
       "10    0.249534\n",
       "11    0.252532\n",
       "12    0.252532\n",
       "13    0.255532\n",
       "14    0.249532\n",
       "15    0.255532\n",
       "16    0.249532\n",
       "17    0.252532\n",
       "18    0.249535\n",
       "19    0.252532\n",
       "20    0.252533\n",
       "21    0.252532\n",
       "22    0.252532\n",
       "23    0.252532\n",
       "24    0.252532\n",
       "25    0.255532\n",
       "26    0.252532\n",
       "27    0.255532\n",
       "28    0.255532\n",
       "29    0.252532\n",
       "30    0.249533\n",
       "31    0.252532\n",
       "32    0.252532\n",
       "33    0.252532\n",
       "34    0.255532\n",
       "35    0.252532\n",
       "36    0.249532\n",
       "37    0.252532\n",
       "38    0.255532\n",
       "39    0.255532\n",
       "40    0.252532\n",
       "41    0.252532\n",
       "42    0.252533\n",
       "43    0.252532\n",
       "44    0.249532\n",
       "45    0.252533\n",
       "46    0.252532\n",
       "47    0.252532\n",
       "48    0.252532\n",
       "49    0.249532\n",
       "50    0.252533\n",
       "51    0.252532\n",
       "52    0.249532\n",
       "53    0.249532\n",
       "54    0.252532\n",
       "55    0.255536\n",
       "56    0.252532\n",
       "57    0.255532\n",
       "58    0.255532\n",
       "59    0.255532\n",
       "60    0.249533\n",
       "61    0.252532\n",
       "62    0.252532\n",
       "63    0.252532\n",
       "64    0.252533\n",
       "65    0.249533\n",
       "66    0.249532\n",
       "67    0.252532\n",
       "68    0.252532\n",
       "69    0.249533\n",
       "70    0.252532\n",
       "71    0.252532\n",
       "72    0.252532\n",
       "73    0.252532\n",
       "74    0.252532\n",
       "75    0.252532\n",
       "76    0.252532\n",
       "77    0.252532\n",
       "78    0.252532\n",
       "79    0.252532\n",
       "80    0.252532\n",
       "81    0.255532\n",
       "82    0.252532\n",
       "83    0.259538\n",
       "84    0.252532\n",
       "85    0.252532\n",
       "86    0.252532\n",
       "87    0.255532\n",
       "88    0.252532\n",
       "89    0.252533\n",
       "90    0.255532\n",
       "91    0.252532\n",
       "Name: 1, dtype: float64"
      ]
     },
     "execution_count": 63,
     "metadata": {},
     "output_type": "execute_result"
    }
   ],
   "source": [
    "predicted_scores = pd.DataFrame(stacked_model.predict_proba(xtest))[1]\n",
    "# predicted_scores.columns = ['Score']\n",
    "predicted_scores"
   ]
  },
  {
   "cell_type": "code",
   "execution_count": 57,
   "metadata": {
    "ExecuteTime": {
     "end_time": "2019-01-31T16:04:23.147612Z",
     "start_time": "2019-01-31T16:04:23.144394Z"
    }
   },
   "outputs": [
    {
     "data": {
      "text/plain": [
       "0"
      ]
     },
     "execution_count": 57,
     "metadata": {},
     "output_type": "execute_result"
    }
   ],
   "source": [
    "np.count_nonzero(predicted_scores > 0.5)\n",
    "# pred_scores"
   ]
  },
  {
   "cell_type": "code",
   "execution_count": 58,
   "metadata": {
    "ExecuteTime": {
     "end_time": "2019-01-31T16:04:23.160629Z",
     "start_time": "2019-01-31T16:04:23.149402Z"
    }
   },
   "outputs": [],
   "source": [
    "# predicted_scores.to_csv(r'teamname.txt', header=None, index=None, sep=' ', mode='a')"
   ]
  },
  {
   "cell_type": "code",
   "execution_count": 59,
   "metadata": {
    "ExecuteTime": {
     "end_time": "2019-01-31T16:04:23.167553Z",
     "start_time": "2019-01-31T16:04:23.164634Z"
    }
   },
   "outputs": [],
   "source": [
    "# np.array_equal(stacked_model.named_estimators_.rf.predict(X_test),\n",
    "#                 stacked_model.named_estimators_['rf'].predict(X_test))"
   ]
  },
  {
   "cell_type": "markdown",
   "metadata": {},
   "source": [
    "## Optimize model parameters to improve accuracy"
   ]
  },
  {
   "cell_type": "code",
   "execution_count": 60,
   "metadata": {
    "ExecuteTime": {
     "end_time": "2019-01-31T16:04:23.174777Z",
     "start_time": "2019-01-31T16:04:23.170856Z"
    }
   },
   "outputs": [],
   "source": [
    "from sklearn.model_selection import GridSearchCV\n",
    "from sklearn.metrics         import f1_score, auc"
   ]
  },
  {
   "cell_type": "code",
   "execution_count": 61,
   "metadata": {
    "ExecuteTime": {
     "end_time": "2019-01-31T16:04:23.185253Z",
     "start_time": "2019-01-31T16:04:23.178236Z"
    }
   },
   "outputs": [],
   "source": [
    "def Grid_Search(model, params):\n",
    "    \n",
    "    model = GridSearchCV(model, param_grid=params, n_jobs=-1)\n",
    "    \n",
    "    ### Fit model\n",
    "    model.fit(X_train,Y_train)\n",
    "    \n",
    "    ### Print out best parameters\n",
    "    print(\"Best Hyper Parameters:\\n\",model.best_params_)\n",
    "    \n",
    "    ### Make prediction\n",
    "    prediction=model.predict(X_test)\n",
    "    \n",
    "    ### Print F1 score\n",
    "    print(\"Accuracy:\",f1_score(prediction,Y_test))\n",
    "    \n",
    "    ### Print AUC\n",
    "#     print(\"Accuracy:\", auc(prediction,Y_test))\n",
    "    \n",
    "    ### Print confusion matrix\n",
    "    print(\"Confusion Metrix:\\n\", classification_report(Y_test, prediction))"
   ]
  },
  {
   "cell_type": "markdown",
   "metadata": {},
   "source": [
    "### Logistic Regression"
   ]
  },
  {
   "cell_type": "code",
   "execution_count": null,
   "metadata": {},
   "outputs": [],
   "source": []
  },
  {
   "cell_type": "code",
   "execution_count": null,
   "metadata": {},
   "outputs": [],
   "source": []
  },
  {
   "cell_type": "code",
   "execution_count": null,
   "metadata": {},
   "outputs": [],
   "source": []
  },
  {
   "cell_type": "code",
   "execution_count": null,
   "metadata": {},
   "outputs": [],
   "source": []
  },
  {
   "cell_type": "code",
   "execution_count": null,
   "metadata": {},
   "outputs": [],
   "source": []
  }
 ],
 "metadata": {
  "kernelspec": {
   "display_name": "Python 3",
   "language": "python",
   "name": "python3"
  },
  "language_info": {
   "codemirror_mode": {
    "name": "ipython",
    "version": 3
   },
   "file_extension": ".py",
   "mimetype": "text/x-python",
   "name": "python",
   "nbconvert_exporter": "python",
   "pygments_lexer": "ipython3",
   "version": "3.6.7"
  },
  "latex_envs": {
   "LaTeX_envs_menu_present": true,
   "autoclose": false,
   "autocomplete": true,
   "bibliofile": "biblio.bib",
   "cite_by": "apalike",
   "current_citInitial": 1,
   "eqLabelWithNumbers": true,
   "eqNumInitial": 1,
   "hotkeys": {
    "equation": "Ctrl-E",
    "itemize": "Ctrl-I"
   },
   "labels_anchors": false,
   "latex_user_defs": false,
   "report_style_numbering": false,
   "user_envs_cfg": false
  },
  "nbTranslate": {
   "displayLangs": [
    "*"
   ],
   "hotkey": "alt-t",
   "langInMainMenu": true,
   "sourceLang": "en",
   "targetLang": "fr",
   "useGoogleTranslate": true
  },
  "toc": {
   "base_numbering": 1,
   "nav_menu": {},
   "number_sections": true,
   "sideBar": true,
   "skip_h1_title": false,
   "title_cell": "Table of Contents",
   "title_sidebar": "Contents",
   "toc_cell": false,
   "toc_position": {},
   "toc_section_display": true,
   "toc_window_display": false
  },
  "varInspector": {
   "cols": {
    "lenName": 16,
    "lenType": 16,
    "lenVar": 40
   },
   "kernels_config": {
    "python": {
     "delete_cmd_postfix": "",
     "delete_cmd_prefix": "del ",
     "library": "var_list.py",
     "varRefreshCmd": "print(var_dic_list())"
    },
    "r": {
     "delete_cmd_postfix": ") ",
     "delete_cmd_prefix": "rm(",
     "library": "var_list.r",
     "varRefreshCmd": "cat(var_dic_list()) "
    }
   },
   "types_to_exclude": [
    "module",
    "function",
    "builtin_function_or_method",
    "instance",
    "_Feature"
   ],
   "window_display": false
  }
 },
 "nbformat": 4,
 "nbformat_minor": 2
}
